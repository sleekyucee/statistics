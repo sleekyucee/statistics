{
  "nbformat": 4,
  "nbformat_minor": 0,
  "metadata": {
    "colab": {
      "provenance": [],
      "collapsed_sections": [
        "GbCUaLQiy0Lk",
        "pxrrvTBZzd8d",
        "y0YZER6gh6ZQ"
      ]
    },
    "kernelspec": {
      "name": "python3",
      "display_name": "Python 3"
    },
    "language_info": {
      "name": "python"
    }
  },
  "cells": [
    {
      "cell_type": "markdown",
      "source": [
        "# Libraries"
      ],
      "metadata": {
        "id": "GbCUaLQiy0Lk"
      }
    },
    {
      "cell_type": "code",
      "execution_count": null,
      "metadata": {
        "id": "IVaQxIQQrTrF"
      },
      "outputs": [],
      "source": [
        "import numpy as np\n",
        "import pandas as pd\n",
        "import scipy.stats as stats\n",
        "import matplotlib.pyplot as plt\n",
        "import random\n",
        "import math\n",
        "import seaborn as sns\n",
        "from pathlib import Path\n",
        "import io"
      ]
    },
    {
      "cell_type": "markdown",
      "source": [
        "# Dataset"
      ],
      "metadata": {
        "id": "CK3JFv0OzS7B"
      }
    },
    {
      "cell_type": "markdown",
      "source": [
        "The data set was gotten from records of Covid-19 vaccinations in Obio-Akpor Local Government Area of Rivers State, Nigeria between a period in August 2021 to October 2021 for first-dose **moderna** vaccinations only."
      ],
      "metadata": {
        "id": "VRFJBsiZ_yrG"
      }
    },
    {
      "cell_type": "code",
      "source": [
        "from google.colab import files\n",
        "uploaded = files.upload()"
      ],
      "metadata": {
        "colab": {
          "base_uri": "https://localhost:8080/",
          "height": 74
        },
        "id": "J0LWWkrawcdH",
        "outputId": "aa28945e-5df6-435d-99f1-c00e8fb4a525"
      },
      "execution_count": null,
      "outputs": [
        {
          "output_type": "display_data",
          "data": {
            "text/plain": [
              "<IPython.core.display.HTML object>"
            ],
            "text/html": [
              "\n",
              "     <input type=\"file\" id=\"files-61c29839-4777-49dc-a150-5a92a5a21f76\" name=\"files[]\" multiple disabled\n",
              "        style=\"border:none\" />\n",
              "     <output id=\"result-61c29839-4777-49dc-a150-5a92a5a21f76\">\n",
              "      Upload widget is only available when the cell has been executed in the\n",
              "      current browser session. Please rerun this cell to enable.\n",
              "      </output>\n",
              "      <script>// Copyright 2017 Google LLC\n",
              "//\n",
              "// Licensed under the Apache License, Version 2.0 (the \"License\");\n",
              "// you may not use this file except in compliance with the License.\n",
              "// You may obtain a copy of the License at\n",
              "//\n",
              "//      http://www.apache.org/licenses/LICENSE-2.0\n",
              "//\n",
              "// Unless required by applicable law or agreed to in writing, software\n",
              "// distributed under the License is distributed on an \"AS IS\" BASIS,\n",
              "// WITHOUT WARRANTIES OR CONDITIONS OF ANY KIND, either express or implied.\n",
              "// See the License for the specific language governing permissions and\n",
              "// limitations under the License.\n",
              "\n",
              "/**\n",
              " * @fileoverview Helpers for google.colab Python module.\n",
              " */\n",
              "(function(scope) {\n",
              "function span(text, styleAttributes = {}) {\n",
              "  const element = document.createElement('span');\n",
              "  element.textContent = text;\n",
              "  for (const key of Object.keys(styleAttributes)) {\n",
              "    element.style[key] = styleAttributes[key];\n",
              "  }\n",
              "  return element;\n",
              "}\n",
              "\n",
              "// Max number of bytes which will be uploaded at a time.\n",
              "const MAX_PAYLOAD_SIZE = 100 * 1024;\n",
              "\n",
              "function _uploadFiles(inputId, outputId) {\n",
              "  const steps = uploadFilesStep(inputId, outputId);\n",
              "  const outputElement = document.getElementById(outputId);\n",
              "  // Cache steps on the outputElement to make it available for the next call\n",
              "  // to uploadFilesContinue from Python.\n",
              "  outputElement.steps = steps;\n",
              "\n",
              "  return _uploadFilesContinue(outputId);\n",
              "}\n",
              "\n",
              "// This is roughly an async generator (not supported in the browser yet),\n",
              "// where there are multiple asynchronous steps and the Python side is going\n",
              "// to poll for completion of each step.\n",
              "// This uses a Promise to block the python side on completion of each step,\n",
              "// then passes the result of the previous step as the input to the next step.\n",
              "function _uploadFilesContinue(outputId) {\n",
              "  const outputElement = document.getElementById(outputId);\n",
              "  const steps = outputElement.steps;\n",
              "\n",
              "  const next = steps.next(outputElement.lastPromiseValue);\n",
              "  return Promise.resolve(next.value.promise).then((value) => {\n",
              "    // Cache the last promise value to make it available to the next\n",
              "    // step of the generator.\n",
              "    outputElement.lastPromiseValue = value;\n",
              "    return next.value.response;\n",
              "  });\n",
              "}\n",
              "\n",
              "/**\n",
              " * Generator function which is called between each async step of the upload\n",
              " * process.\n",
              " * @param {string} inputId Element ID of the input file picker element.\n",
              " * @param {string} outputId Element ID of the output display.\n",
              " * @return {!Iterable<!Object>} Iterable of next steps.\n",
              " */\n",
              "function* uploadFilesStep(inputId, outputId) {\n",
              "  const inputElement = document.getElementById(inputId);\n",
              "  inputElement.disabled = false;\n",
              "\n",
              "  const outputElement = document.getElementById(outputId);\n",
              "  outputElement.innerHTML = '';\n",
              "\n",
              "  const pickedPromise = new Promise((resolve) => {\n",
              "    inputElement.addEventListener('change', (e) => {\n",
              "      resolve(e.target.files);\n",
              "    });\n",
              "  });\n",
              "\n",
              "  const cancel = document.createElement('button');\n",
              "  inputElement.parentElement.appendChild(cancel);\n",
              "  cancel.textContent = 'Cancel upload';\n",
              "  const cancelPromise = new Promise((resolve) => {\n",
              "    cancel.onclick = () => {\n",
              "      resolve(null);\n",
              "    };\n",
              "  });\n",
              "\n",
              "  // Wait for the user to pick the files.\n",
              "  const files = yield {\n",
              "    promise: Promise.race([pickedPromise, cancelPromise]),\n",
              "    response: {\n",
              "      action: 'starting',\n",
              "    }\n",
              "  };\n",
              "\n",
              "  cancel.remove();\n",
              "\n",
              "  // Disable the input element since further picks are not allowed.\n",
              "  inputElement.disabled = true;\n",
              "\n",
              "  if (!files) {\n",
              "    return {\n",
              "      response: {\n",
              "        action: 'complete',\n",
              "      }\n",
              "    };\n",
              "  }\n",
              "\n",
              "  for (const file of files) {\n",
              "    const li = document.createElement('li');\n",
              "    li.append(span(file.name, {fontWeight: 'bold'}));\n",
              "    li.append(span(\n",
              "        `(${file.type || 'n/a'}) - ${file.size} bytes, ` +\n",
              "        `last modified: ${\n",
              "            file.lastModifiedDate ? file.lastModifiedDate.toLocaleDateString() :\n",
              "                                    'n/a'} - `));\n",
              "    const percent = span('0% done');\n",
              "    li.appendChild(percent);\n",
              "\n",
              "    outputElement.appendChild(li);\n",
              "\n",
              "    const fileDataPromise = new Promise((resolve) => {\n",
              "      const reader = new FileReader();\n",
              "      reader.onload = (e) => {\n",
              "        resolve(e.target.result);\n",
              "      };\n",
              "      reader.readAsArrayBuffer(file);\n",
              "    });\n",
              "    // Wait for the data to be ready.\n",
              "    let fileData = yield {\n",
              "      promise: fileDataPromise,\n",
              "      response: {\n",
              "        action: 'continue',\n",
              "      }\n",
              "    };\n",
              "\n",
              "    // Use a chunked sending to avoid message size limits. See b/62115660.\n",
              "    let position = 0;\n",
              "    do {\n",
              "      const length = Math.min(fileData.byteLength - position, MAX_PAYLOAD_SIZE);\n",
              "      const chunk = new Uint8Array(fileData, position, length);\n",
              "      position += length;\n",
              "\n",
              "      const base64 = btoa(String.fromCharCode.apply(null, chunk));\n",
              "      yield {\n",
              "        response: {\n",
              "          action: 'append',\n",
              "          file: file.name,\n",
              "          data: base64,\n",
              "        },\n",
              "      };\n",
              "\n",
              "      let percentDone = fileData.byteLength === 0 ?\n",
              "          100 :\n",
              "          Math.round((position / fileData.byteLength) * 100);\n",
              "      percent.textContent = `${percentDone}% done`;\n",
              "\n",
              "    } while (position < fileData.byteLength);\n",
              "  }\n",
              "\n",
              "  // All done.\n",
              "  yield {\n",
              "    response: {\n",
              "      action: 'complete',\n",
              "    }\n",
              "  };\n",
              "}\n",
              "\n",
              "scope.google = scope.google || {};\n",
              "scope.google.colab = scope.google.colab || {};\n",
              "scope.google.colab._files = {\n",
              "  _uploadFiles,\n",
              "  _uploadFilesContinue,\n",
              "};\n",
              "})(self);\n",
              "</script> "
            ]
          },
          "metadata": {}
        },
        {
          "output_type": "stream",
          "name": "stdout",
          "text": [
            "Saving obio-akpor-covid-19-1st-dose-moderna.csv to obio-akpor-covid-19-1st-dose-moderna.csv\n"
          ]
        }
      ]
    },
    {
      "cell_type": "code",
      "source": [
        "df = pd.read_csv(io.BytesIO(uploaded['obio-akpor-covid-19-1st-dose-moderna.csv']))"
      ],
      "metadata": {
        "id": "njPjFNcswvMG"
      },
      "execution_count": null,
      "outputs": []
    },
    {
      "cell_type": "code",
      "source": [
        "df = df.set_index(\"Date\")"
      ],
      "metadata": {
        "id": "_tLa-dIh1iO6"
      },
      "execution_count": null,
      "outputs": []
    },
    {
      "cell_type": "code",
      "source": [
        "df"
      ],
      "metadata": {
        "colab": {
          "base_uri": "https://localhost:8080/",
          "height": 776
        },
        "id": "_zvKj8ZTyv_J",
        "outputId": "e6c3f46e-693d-4a54-b539-cf031f4f3f37"
      },
      "execution_count": null,
      "outputs": [
        {
          "output_type": "execute_result",
          "data": {
            "text/plain": [
              "           HCWs M  HCWs F  Other FLWs M  Other FLWs F  Elderly ? 50years M  \\\n",
              "Date                                                                         \n",
              "23-Aug-21       1       5             2             6                    7   \n",
              "24-Aug-21       5       3             6             1                   58   \n",
              "25-Aug-21       6       6             1             1                   52   \n",
              "26-Aug-21       9       2            34            28                   68   \n",
              "27-Aug-21      11      10            36            20                   52   \n",
              "...           ...     ...           ...           ...                  ...   \n",
              "27-Oct-21       0       0             6             2                    5   \n",
              "28-Oct-21       2       9            49            27                   48   \n",
              "29-Oct-21       0       0             1             1                   13   \n",
              "30-Oct-21       0       0            12            10                    7   \n",
              "31-Oct-21       0       0             0             0                    5   \n",
              "\n",
              "           Elderly ? 50years F  Youth 18-49years M  Youth 18-49years F  \\\n",
              "Date                                                                     \n",
              "23-Aug-21                   16                  71                  46   \n",
              "24-Aug-21                   26                 117                  88   \n",
              "25-Aug-21                   39                 106                 118   \n",
              "26-Aug-21                   39                 159                 105   \n",
              "27-Aug-21                   46                 146                 141   \n",
              "...                        ...                 ...                 ...   \n",
              "27-Oct-21                    2                   7                   5   \n",
              "28-Oct-21                   49                 162                 140   \n",
              "29-Oct-21                   15                  19                  17   \n",
              "30-Oct-21                    2                  33                  28   \n",
              "31-Oct-21                    3                   9                  15   \n",
              "\n",
              "           AEFI Serious  AEFI Unserious  Vaccine Dials Rcd  Vaccine Dials Used  \n",
              "Date                                                                            \n",
              "23-Aug-21             0               0                 12                  12  \n",
              "24-Aug-21             0               0                 25                  25  \n",
              "25-Aug-21             0               0                 26                  26  \n",
              "26-Aug-21             0               0                 34                  34  \n",
              "27-Aug-21             0               0                 36                  36  \n",
              "...                 ...             ...                ...                 ...  \n",
              "27-Oct-21             0               0                  3                   3  \n",
              "28-Oct-21             0               0                 36                  36  \n",
              "29-Oct-21             0               0                  5                   5  \n",
              "30-Oct-21             0               0                  6                   6  \n",
              "31-Oct-21             0               0                  3                   3  \n",
              "\n",
              "[70 rows x 12 columns]"
            ],
            "text/html": [
              "\n",
              "  <div id=\"df-181160dd-adf4-465d-9068-772692d5541e\">\n",
              "    <div class=\"colab-df-container\">\n",
              "      <div>\n",
              "<style scoped>\n",
              "    .dataframe tbody tr th:only-of-type {\n",
              "        vertical-align: middle;\n",
              "    }\n",
              "\n",
              "    .dataframe tbody tr th {\n",
              "        vertical-align: top;\n",
              "    }\n",
              "\n",
              "    .dataframe thead th {\n",
              "        text-align: right;\n",
              "    }\n",
              "</style>\n",
              "<table border=\"1\" class=\"dataframe\">\n",
              "  <thead>\n",
              "    <tr style=\"text-align: right;\">\n",
              "      <th></th>\n",
              "      <th>HCWs M</th>\n",
              "      <th>HCWs F</th>\n",
              "      <th>Other FLWs M</th>\n",
              "      <th>Other FLWs F</th>\n",
              "      <th>Elderly ? 50years M</th>\n",
              "      <th>Elderly ? 50years F</th>\n",
              "      <th>Youth 18-49years M</th>\n",
              "      <th>Youth 18-49years F</th>\n",
              "      <th>AEFI Serious</th>\n",
              "      <th>AEFI Unserious</th>\n",
              "      <th>Vaccine Dials Rcd</th>\n",
              "      <th>Vaccine Dials Used</th>\n",
              "    </tr>\n",
              "    <tr>\n",
              "      <th>Date</th>\n",
              "      <th></th>\n",
              "      <th></th>\n",
              "      <th></th>\n",
              "      <th></th>\n",
              "      <th></th>\n",
              "      <th></th>\n",
              "      <th></th>\n",
              "      <th></th>\n",
              "      <th></th>\n",
              "      <th></th>\n",
              "      <th></th>\n",
              "      <th></th>\n",
              "    </tr>\n",
              "  </thead>\n",
              "  <tbody>\n",
              "    <tr>\n",
              "      <th>23-Aug-21</th>\n",
              "      <td>1</td>\n",
              "      <td>5</td>\n",
              "      <td>2</td>\n",
              "      <td>6</td>\n",
              "      <td>7</td>\n",
              "      <td>16</td>\n",
              "      <td>71</td>\n",
              "      <td>46</td>\n",
              "      <td>0</td>\n",
              "      <td>0</td>\n",
              "      <td>12</td>\n",
              "      <td>12</td>\n",
              "    </tr>\n",
              "    <tr>\n",
              "      <th>24-Aug-21</th>\n",
              "      <td>5</td>\n",
              "      <td>3</td>\n",
              "      <td>6</td>\n",
              "      <td>1</td>\n",
              "      <td>58</td>\n",
              "      <td>26</td>\n",
              "      <td>117</td>\n",
              "      <td>88</td>\n",
              "      <td>0</td>\n",
              "      <td>0</td>\n",
              "      <td>25</td>\n",
              "      <td>25</td>\n",
              "    </tr>\n",
              "    <tr>\n",
              "      <th>25-Aug-21</th>\n",
              "      <td>6</td>\n",
              "      <td>6</td>\n",
              "      <td>1</td>\n",
              "      <td>1</td>\n",
              "      <td>52</td>\n",
              "      <td>39</td>\n",
              "      <td>106</td>\n",
              "      <td>118</td>\n",
              "      <td>0</td>\n",
              "      <td>0</td>\n",
              "      <td>26</td>\n",
              "      <td>26</td>\n",
              "    </tr>\n",
              "    <tr>\n",
              "      <th>26-Aug-21</th>\n",
              "      <td>9</td>\n",
              "      <td>2</td>\n",
              "      <td>34</td>\n",
              "      <td>28</td>\n",
              "      <td>68</td>\n",
              "      <td>39</td>\n",
              "      <td>159</td>\n",
              "      <td>105</td>\n",
              "      <td>0</td>\n",
              "      <td>0</td>\n",
              "      <td>34</td>\n",
              "      <td>34</td>\n",
              "    </tr>\n",
              "    <tr>\n",
              "      <th>27-Aug-21</th>\n",
              "      <td>11</td>\n",
              "      <td>10</td>\n",
              "      <td>36</td>\n",
              "      <td>20</td>\n",
              "      <td>52</td>\n",
              "      <td>46</td>\n",
              "      <td>146</td>\n",
              "      <td>141</td>\n",
              "      <td>0</td>\n",
              "      <td>0</td>\n",
              "      <td>36</td>\n",
              "      <td>36</td>\n",
              "    </tr>\n",
              "    <tr>\n",
              "      <th>...</th>\n",
              "      <td>...</td>\n",
              "      <td>...</td>\n",
              "      <td>...</td>\n",
              "      <td>...</td>\n",
              "      <td>...</td>\n",
              "      <td>...</td>\n",
              "      <td>...</td>\n",
              "      <td>...</td>\n",
              "      <td>...</td>\n",
              "      <td>...</td>\n",
              "      <td>...</td>\n",
              "      <td>...</td>\n",
              "    </tr>\n",
              "    <tr>\n",
              "      <th>27-Oct-21</th>\n",
              "      <td>0</td>\n",
              "      <td>0</td>\n",
              "      <td>6</td>\n",
              "      <td>2</td>\n",
              "      <td>5</td>\n",
              "      <td>2</td>\n",
              "      <td>7</td>\n",
              "      <td>5</td>\n",
              "      <td>0</td>\n",
              "      <td>0</td>\n",
              "      <td>3</td>\n",
              "      <td>3</td>\n",
              "    </tr>\n",
              "    <tr>\n",
              "      <th>28-Oct-21</th>\n",
              "      <td>2</td>\n",
              "      <td>9</td>\n",
              "      <td>49</td>\n",
              "      <td>27</td>\n",
              "      <td>48</td>\n",
              "      <td>49</td>\n",
              "      <td>162</td>\n",
              "      <td>140</td>\n",
              "      <td>0</td>\n",
              "      <td>0</td>\n",
              "      <td>36</td>\n",
              "      <td>36</td>\n",
              "    </tr>\n",
              "    <tr>\n",
              "      <th>29-Oct-21</th>\n",
              "      <td>0</td>\n",
              "      <td>0</td>\n",
              "      <td>1</td>\n",
              "      <td>1</td>\n",
              "      <td>13</td>\n",
              "      <td>15</td>\n",
              "      <td>19</td>\n",
              "      <td>17</td>\n",
              "      <td>0</td>\n",
              "      <td>0</td>\n",
              "      <td>5</td>\n",
              "      <td>5</td>\n",
              "    </tr>\n",
              "    <tr>\n",
              "      <th>30-Oct-21</th>\n",
              "      <td>0</td>\n",
              "      <td>0</td>\n",
              "      <td>12</td>\n",
              "      <td>10</td>\n",
              "      <td>7</td>\n",
              "      <td>2</td>\n",
              "      <td>33</td>\n",
              "      <td>28</td>\n",
              "      <td>0</td>\n",
              "      <td>0</td>\n",
              "      <td>6</td>\n",
              "      <td>6</td>\n",
              "    </tr>\n",
              "    <tr>\n",
              "      <th>31-Oct-21</th>\n",
              "      <td>0</td>\n",
              "      <td>0</td>\n",
              "      <td>0</td>\n",
              "      <td>0</td>\n",
              "      <td>5</td>\n",
              "      <td>3</td>\n",
              "      <td>9</td>\n",
              "      <td>15</td>\n",
              "      <td>0</td>\n",
              "      <td>0</td>\n",
              "      <td>3</td>\n",
              "      <td>3</td>\n",
              "    </tr>\n",
              "  </tbody>\n",
              "</table>\n",
              "<p>70 rows × 12 columns</p>\n",
              "</div>\n",
              "      <button class=\"colab-df-convert\" onclick=\"convertToInteractive('df-181160dd-adf4-465d-9068-772692d5541e')\"\n",
              "              title=\"Convert this dataframe to an interactive table.\"\n",
              "              style=\"display:none;\">\n",
              "        \n",
              "  <svg xmlns=\"http://www.w3.org/2000/svg\" height=\"24px\"viewBox=\"0 0 24 24\"\n",
              "       width=\"24px\">\n",
              "    <path d=\"M0 0h24v24H0V0z\" fill=\"none\"/>\n",
              "    <path d=\"M18.56 5.44l.94 2.06.94-2.06 2.06-.94-2.06-.94-.94-2.06-.94 2.06-2.06.94zm-11 1L8.5 8.5l.94-2.06 2.06-.94-2.06-.94L8.5 2.5l-.94 2.06-2.06.94zm10 10l.94 2.06.94-2.06 2.06-.94-2.06-.94-.94-2.06-.94 2.06-2.06.94z\"/><path d=\"M17.41 7.96l-1.37-1.37c-.4-.4-.92-.59-1.43-.59-.52 0-1.04.2-1.43.59L10.3 9.45l-7.72 7.72c-.78.78-.78 2.05 0 2.83L4 21.41c.39.39.9.59 1.41.59.51 0 1.02-.2 1.41-.59l7.78-7.78 2.81-2.81c.8-.78.8-2.07 0-2.86zM5.41 20L4 18.59l7.72-7.72 1.47 1.35L5.41 20z\"/>\n",
              "  </svg>\n",
              "      </button>\n",
              "      \n",
              "  <style>\n",
              "    .colab-df-container {\n",
              "      display:flex;\n",
              "      flex-wrap:wrap;\n",
              "      gap: 12px;\n",
              "    }\n",
              "\n",
              "    .colab-df-convert {\n",
              "      background-color: #E8F0FE;\n",
              "      border: none;\n",
              "      border-radius: 50%;\n",
              "      cursor: pointer;\n",
              "      display: none;\n",
              "      fill: #1967D2;\n",
              "      height: 32px;\n",
              "      padding: 0 0 0 0;\n",
              "      width: 32px;\n",
              "    }\n",
              "\n",
              "    .colab-df-convert:hover {\n",
              "      background-color: #E2EBFA;\n",
              "      box-shadow: 0px 1px 2px rgba(60, 64, 67, 0.3), 0px 1px 3px 1px rgba(60, 64, 67, 0.15);\n",
              "      fill: #174EA6;\n",
              "    }\n",
              "\n",
              "    [theme=dark] .colab-df-convert {\n",
              "      background-color: #3B4455;\n",
              "      fill: #D2E3FC;\n",
              "    }\n",
              "\n",
              "    [theme=dark] .colab-df-convert:hover {\n",
              "      background-color: #434B5C;\n",
              "      box-shadow: 0px 1px 3px 1px rgba(0, 0, 0, 0.15);\n",
              "      filter: drop-shadow(0px 1px 2px rgba(0, 0, 0, 0.3));\n",
              "      fill: #FFFFFF;\n",
              "    }\n",
              "  </style>\n",
              "\n",
              "      <script>\n",
              "        const buttonEl =\n",
              "          document.querySelector('#df-181160dd-adf4-465d-9068-772692d5541e button.colab-df-convert');\n",
              "        buttonEl.style.display =\n",
              "          google.colab.kernel.accessAllowed ? 'block' : 'none';\n",
              "\n",
              "        async function convertToInteractive(key) {\n",
              "          const element = document.querySelector('#df-181160dd-adf4-465d-9068-772692d5541e');\n",
              "          const dataTable =\n",
              "            await google.colab.kernel.invokeFunction('convertToInteractive',\n",
              "                                                     [key], {});\n",
              "          if (!dataTable) return;\n",
              "\n",
              "          const docLinkHtml = 'Like what you see? Visit the ' +\n",
              "            '<a target=\"_blank\" href=https://colab.research.google.com/notebooks/data_table.ipynb>data table notebook</a>'\n",
              "            + ' to learn more about interactive tables.';\n",
              "          element.innerHTML = '';\n",
              "          dataTable['output_type'] = 'display_data';\n",
              "          await google.colab.output.renderOutput(dataTable, element);\n",
              "          const docLink = document.createElement('div');\n",
              "          docLink.innerHTML = docLinkHtml;\n",
              "          element.appendChild(docLink);\n",
              "        }\n",
              "      </script>\n",
              "    </div>\n",
              "  </div>\n",
              "  "
            ]
          },
          "metadata": {},
          "execution_count": 5
        }
      ]
    },
    {
      "cell_type": "code",
      "source": [
        "!pip install dataframe_image"
      ],
      "metadata": {
        "colab": {
          "base_uri": "https://localhost:8080/"
        },
        "id": "FRDMGkMWT9HX",
        "outputId": "6b624841-b90d-4d51-c5d9-8c53f0a2c27e"
      },
      "execution_count": null,
      "outputs": [
        {
          "output_type": "stream",
          "name": "stdout",
          "text": [
            "Looking in indexes: https://pypi.org/simple, https://us-python.pkg.dev/colab-wheels/public/simple/\n",
            "Collecting dataframe_image\n",
            "  Downloading dataframe_image-0.1.3-py3-none-any.whl (6.6 MB)\n",
            "\u001b[K     |████████████████████████████████| 6.6 MB 19.4 MB/s \n",
            "\u001b[?25hRequirement already satisfied: pandas>=0.24 in /usr/local/lib/python3.8/dist-packages (from dataframe_image) (1.3.5)\n",
            "Requirement already satisfied: requests in /usr/local/lib/python3.8/dist-packages (from dataframe_image) (2.23.0)\n",
            "Requirement already satisfied: mistune in /usr/local/lib/python3.8/dist-packages (from dataframe_image) (0.8.4)\n",
            "Requirement already satisfied: matplotlib>=3.1 in /usr/local/lib/python3.8/dist-packages (from dataframe_image) (3.2.2)\n",
            "Requirement already satisfied: packaging in /usr/local/lib/python3.8/dist-packages (from dataframe_image) (21.3)\n",
            "Requirement already satisfied: nbconvert>=5 in /usr/local/lib/python3.8/dist-packages (from dataframe_image) (5.6.1)\n",
            "Requirement already satisfied: beautifulsoup4 in /usr/local/lib/python3.8/dist-packages (from dataframe_image) (4.6.3)\n",
            "Requirement already satisfied: aiohttp in /usr/local/lib/python3.8/dist-packages (from dataframe_image) (3.8.3)\n",
            "Requirement already satisfied: kiwisolver>=1.0.1 in /usr/local/lib/python3.8/dist-packages (from matplotlib>=3.1->dataframe_image) (1.4.4)\n",
            "Requirement already satisfied: pyparsing!=2.0.4,!=2.1.2,!=2.1.6,>=2.0.1 in /usr/local/lib/python3.8/dist-packages (from matplotlib>=3.1->dataframe_image) (3.0.9)\n",
            "Requirement already satisfied: python-dateutil>=2.1 in /usr/local/lib/python3.8/dist-packages (from matplotlib>=3.1->dataframe_image) (2.8.2)\n",
            "Requirement already satisfied: cycler>=0.10 in /usr/local/lib/python3.8/dist-packages (from matplotlib>=3.1->dataframe_image) (0.11.0)\n",
            "Requirement already satisfied: numpy>=1.11 in /usr/local/lib/python3.8/dist-packages (from matplotlib>=3.1->dataframe_image) (1.21.6)\n",
            "Requirement already satisfied: jinja2>=2.4 in /usr/local/lib/python3.8/dist-packages (from nbconvert>=5->dataframe_image) (2.11.3)\n",
            "Requirement already satisfied: bleach in /usr/local/lib/python3.8/dist-packages (from nbconvert>=5->dataframe_image) (5.0.1)\n",
            "Requirement already satisfied: pygments in /usr/local/lib/python3.8/dist-packages (from nbconvert>=5->dataframe_image) (2.6.1)\n",
            "Requirement already satisfied: defusedxml in /usr/local/lib/python3.8/dist-packages (from nbconvert>=5->dataframe_image) (0.7.1)\n",
            "Requirement already satisfied: pandocfilters>=1.4.1 in /usr/local/lib/python3.8/dist-packages (from nbconvert>=5->dataframe_image) (1.5.0)\n",
            "Requirement already satisfied: traitlets>=4.2 in /usr/local/lib/python3.8/dist-packages (from nbconvert>=5->dataframe_image) (5.1.1)\n",
            "Requirement already satisfied: testpath in /usr/local/lib/python3.8/dist-packages (from nbconvert>=5->dataframe_image) (0.6.0)\n",
            "Requirement already satisfied: nbformat>=4.4 in /usr/local/lib/python3.8/dist-packages (from nbconvert>=5->dataframe_image) (5.7.0)\n",
            "Requirement already satisfied: jupyter-core in /usr/local/lib/python3.8/dist-packages (from nbconvert>=5->dataframe_image) (4.11.2)\n",
            "Requirement already satisfied: entrypoints>=0.2.2 in /usr/local/lib/python3.8/dist-packages (from nbconvert>=5->dataframe_image) (0.4)\n",
            "Requirement already satisfied: MarkupSafe>=0.23 in /usr/local/lib/python3.8/dist-packages (from jinja2>=2.4->nbconvert>=5->dataframe_image) (2.0.1)\n",
            "Requirement already satisfied: jsonschema>=2.6 in /usr/local/lib/python3.8/dist-packages (from nbformat>=4.4->nbconvert>=5->dataframe_image) (4.3.3)\n",
            "Requirement already satisfied: fastjsonschema in /usr/local/lib/python3.8/dist-packages (from nbformat>=4.4->nbconvert>=5->dataframe_image) (2.16.2)\n",
            "Requirement already satisfied: attrs>=17.4.0 in /usr/local/lib/python3.8/dist-packages (from jsonschema>=2.6->nbformat>=4.4->nbconvert>=5->dataframe_image) (22.1.0)\n",
            "Requirement already satisfied: importlib-resources>=1.4.0 in /usr/local/lib/python3.8/dist-packages (from jsonschema>=2.6->nbformat>=4.4->nbconvert>=5->dataframe_image) (5.10.0)\n",
            "Requirement already satisfied: pyrsistent!=0.17.0,!=0.17.1,!=0.17.2,>=0.14.0 in /usr/local/lib/python3.8/dist-packages (from jsonschema>=2.6->nbformat>=4.4->nbconvert>=5->dataframe_image) (0.19.2)\n",
            "Requirement already satisfied: zipp>=3.1.0 in /usr/local/lib/python3.8/dist-packages (from importlib-resources>=1.4.0->jsonschema>=2.6->nbformat>=4.4->nbconvert>=5->dataframe_image) (3.10.0)\n",
            "Requirement already satisfied: pytz>=2017.3 in /usr/local/lib/python3.8/dist-packages (from pandas>=0.24->dataframe_image) (2022.6)\n",
            "Requirement already satisfied: six>=1.5 in /usr/local/lib/python3.8/dist-packages (from python-dateutil>=2.1->matplotlib>=3.1->dataframe_image) (1.15.0)\n",
            "Requirement already satisfied: multidict<7.0,>=4.5 in /usr/local/lib/python3.8/dist-packages (from aiohttp->dataframe_image) (6.0.2)\n",
            "Requirement already satisfied: async-timeout<5.0,>=4.0.0a3 in /usr/local/lib/python3.8/dist-packages (from aiohttp->dataframe_image) (4.0.2)\n",
            "Requirement already satisfied: charset-normalizer<3.0,>=2.0 in /usr/local/lib/python3.8/dist-packages (from aiohttp->dataframe_image) (2.1.1)\n",
            "Requirement already satisfied: frozenlist>=1.1.1 in /usr/local/lib/python3.8/dist-packages (from aiohttp->dataframe_image) (1.3.3)\n",
            "Requirement already satisfied: aiosignal>=1.1.2 in /usr/local/lib/python3.8/dist-packages (from aiohttp->dataframe_image) (1.3.1)\n",
            "Requirement already satisfied: yarl<2.0,>=1.0 in /usr/local/lib/python3.8/dist-packages (from aiohttp->dataframe_image) (1.8.1)\n",
            "Requirement already satisfied: idna>=2.0 in /usr/local/lib/python3.8/dist-packages (from yarl<2.0,>=1.0->aiohttp->dataframe_image) (2.10)\n",
            "Requirement already satisfied: webencodings in /usr/local/lib/python3.8/dist-packages (from bleach->nbconvert>=5->dataframe_image) (0.5.1)\n",
            "Requirement already satisfied: certifi>=2017.4.17 in /usr/local/lib/python3.8/dist-packages (from requests->dataframe_image) (2022.9.24)\n",
            "Requirement already satisfied: urllib3!=1.25.0,!=1.25.1,<1.26,>=1.21.1 in /usr/local/lib/python3.8/dist-packages (from requests->dataframe_image) (1.24.3)\n",
            "Requirement already satisfied: chardet<4,>=3.0.2 in /usr/local/lib/python3.8/dist-packages (from requests->dataframe_image) (3.0.4)\n",
            "Installing collected packages: dataframe-image\n",
            "Successfully installed dataframe-image-0.1.3\n"
          ]
        }
      ]
    },
    {
      "cell_type": "code",
      "source": [
        "import dataframe_image as dfi"
      ],
      "metadata": {
        "id": "-LjIdIn-UXrJ"
      },
      "execution_count": null,
      "outputs": []
    },
    {
      "cell_type": "code",
      "source": [
        "pip install webdriver-manager"
      ],
      "metadata": {
        "colab": {
          "base_uri": "https://localhost:8080/"
        },
        "id": "vDg5QyJ_V2j6",
        "outputId": "8376950e-25e9-4766-e213-94d2c2904bee"
      },
      "execution_count": null,
      "outputs": [
        {
          "output_type": "stream",
          "name": "stdout",
          "text": [
            "Looking in indexes: https://pypi.org/simple, https://us-python.pkg.dev/colab-wheels/public/simple/\n",
            "Collecting webdriver-manager\n",
            "  Downloading webdriver_manager-3.8.5-py2.py3-none-any.whl (27 kB)\n",
            "Requirement already satisfied: requests in /usr/local/lib/python3.8/dist-packages (from webdriver-manager) (2.23.0)\n",
            "Requirement already satisfied: packaging in /usr/local/lib/python3.8/dist-packages (from webdriver-manager) (21.3)\n",
            "Requirement already satisfied: tqdm in /usr/local/lib/python3.8/dist-packages (from webdriver-manager) (4.64.1)\n",
            "Collecting python-dotenv\n",
            "  Downloading python_dotenv-0.21.0-py3-none-any.whl (18 kB)\n",
            "Requirement already satisfied: pyparsing!=3.0.5,>=2.0.2 in /usr/local/lib/python3.8/dist-packages (from packaging->webdriver-manager) (3.0.9)\n",
            "Requirement already satisfied: certifi>=2017.4.17 in /usr/local/lib/python3.8/dist-packages (from requests->webdriver-manager) (2022.9.24)\n",
            "Requirement already satisfied: idna<3,>=2.5 in /usr/local/lib/python3.8/dist-packages (from requests->webdriver-manager) (2.10)\n",
            "Requirement already satisfied: urllib3!=1.25.0,!=1.25.1,<1.26,>=1.21.1 in /usr/local/lib/python3.8/dist-packages (from requests->webdriver-manager) (1.24.3)\n",
            "Requirement already satisfied: chardet<4,>=3.0.2 in /usr/local/lib/python3.8/dist-packages (from requests->webdriver-manager) (3.0.4)\n",
            "Installing collected packages: python-dotenv, webdriver-manager\n",
            "Successfully installed python-dotenv-0.21.0 webdriver-manager-3.8.5\n"
          ]
        }
      ]
    },
    {
      "cell_type": "code",
      "source": [
        "!pip install selenium"
      ],
      "metadata": {
        "colab": {
          "base_uri": "https://localhost:8080/",
          "height": 828
        },
        "id": "bE296SVLYhxy",
        "outputId": "782d4374-8a32-490c-9298-e2b3293e8456"
      },
      "execution_count": null,
      "outputs": [
        {
          "output_type": "stream",
          "name": "stdout",
          "text": [
            "Looking in indexes: https://pypi.org/simple, https://us-python.pkg.dev/colab-wheels/public/simple/\n",
            "Collecting selenium\n",
            "  Downloading selenium-4.7.2-py3-none-any.whl (6.3 MB)\n",
            "\u001b[K     |████████████████████████████████| 6.3 MB 24.7 MB/s \n",
            "\u001b[?25hRequirement already satisfied: certifi>=2021.10.8 in /usr/local/lib/python3.8/dist-packages (from selenium) (2022.9.24)\n",
            "Collecting trio-websocket~=0.9\n",
            "  Downloading trio_websocket-0.9.2-py3-none-any.whl (16 kB)\n",
            "Collecting urllib3[socks]~=1.26\n",
            "  Downloading urllib3-1.26.13-py2.py3-none-any.whl (140 kB)\n",
            "\u001b[K     |████████████████████████████████| 140 kB 65.2 MB/s \n",
            "\u001b[?25hCollecting trio~=0.17\n",
            "  Downloading trio-0.22.0-py3-none-any.whl (384 kB)\n",
            "\u001b[K     |████████████████████████████████| 384 kB 56.8 MB/s \n",
            "\u001b[?25hCollecting async-generator>=1.9\n",
            "  Downloading async_generator-1.10-py3-none-any.whl (18 kB)\n",
            "Requirement already satisfied: idna in /usr/local/lib/python3.8/dist-packages (from trio~=0.17->selenium) (2.10)\n",
            "Collecting sniffio\n",
            "  Downloading sniffio-1.3.0-py3-none-any.whl (10 kB)\n",
            "Collecting exceptiongroup>=1.0.0rc9\n",
            "  Downloading exceptiongroup-1.0.4-py3-none-any.whl (14 kB)\n",
            "Collecting outcome\n",
            "  Downloading outcome-1.2.0-py2.py3-none-any.whl (9.7 kB)\n",
            "Requirement already satisfied: sortedcontainers in /usr/local/lib/python3.8/dist-packages (from trio~=0.17->selenium) (2.4.0)\n",
            "Requirement already satisfied: attrs>=19.2.0 in /usr/local/lib/python3.8/dist-packages (from trio~=0.17->selenium) (22.1.0)\n",
            "Collecting wsproto>=0.14\n",
            "  Downloading wsproto-1.2.0-py3-none-any.whl (24 kB)\n",
            "Requirement already satisfied: PySocks!=1.5.7,<2.0,>=1.5.6 in /usr/local/lib/python3.8/dist-packages (from urllib3[socks]~=1.26->selenium) (1.7.1)\n",
            "Collecting h11<1,>=0.9.0\n",
            "  Downloading h11-0.14.0-py3-none-any.whl (58 kB)\n",
            "\u001b[K     |████████████████████████████████| 58 kB 6.0 MB/s \n",
            "\u001b[?25hInstalling collected packages: sniffio, outcome, h11, exceptiongroup, async-generator, wsproto, urllib3, trio, trio-websocket, selenium\n",
            "  Attempting uninstall: urllib3\n",
            "    Found existing installation: urllib3 1.24.3\n",
            "    Uninstalling urllib3-1.24.3:\n",
            "      Successfully uninstalled urllib3-1.24.3\n",
            "\u001b[31mERROR: pip's dependency resolver does not currently take into account all the packages that are installed. This behaviour is the source of the following dependency conflicts.\n",
            "requests 2.23.0 requires urllib3!=1.25.0,!=1.25.1,<1.26,>=1.21.1, but you have urllib3 1.26.13 which is incompatible.\u001b[0m\n",
            "Successfully installed async-generator-1.10 exceptiongroup-1.0.4 h11-0.14.0 outcome-1.2.0 selenium-4.7.2 sniffio-1.3.0 trio-0.22.0 trio-websocket-0.9.2 urllib3-1.26.13 wsproto-1.2.0\n"
          ]
        },
        {
          "output_type": "display_data",
          "data": {
            "application/vnd.colab-display-data+json": {
              "pip_warning": {
                "packages": [
                  "urllib3"
                ]
              }
            }
          },
          "metadata": {}
        }
      ]
    },
    {
      "cell_type": "code",
      "source": [
        "!apt-get update\n",
        "!apt install chromium-chromedriver\n",
        "!cp /usr/lib/chromium-browser/chromedriver /usr/bin\n",
        "# set options to be headless, ..\n",
        "from selenium import webdriver\n",
        "options = webdriver.ChromeOptions()\n",
        "options.add_argument('--headless')\n",
        "options.add_argument('--no-sandbox')\n",
        "options.add_argument('--disable-dev-shm-usage')\n",
        "# open it, go to a website, and get results\n",
        "wd = webdriver.Chrome('chromedriver',options=options)\n",
        "wd.get(\"https://www.website.com\")\n",
        "print(wd.page_source)  # results"
      ],
      "metadata": {
        "colab": {
          "base_uri": "https://localhost:8080/"
        },
        "id": "4Zar1RjqV-Et",
        "outputId": "837d7b53-3dfc-493d-fadb-3cfc981bb49f"
      },
      "execution_count": null,
      "outputs": [
        {
          "output_type": "stream",
          "name": "stdout",
          "text": [
            "\r0% [Working]\r            \rGet:1 http://security.ubuntu.com/ubuntu bionic-security InRelease [88.7 kB]\n",
            "\r0% [Waiting for headers] [1 InRelease 14.2 kB/88.7 kB 16%] [Connected to cloud.\r                                                                               \rHit:2 http://archive.ubuntu.com/ubuntu bionic InRelease\n",
            "\r0% [1 InRelease 51.8 kB/88.7 kB 58%] [Connected to cloud.r-project.org (108.138\r                                                                               \rGet:3 http://archive.ubuntu.com/ubuntu bionic-updates InRelease [88.7 kB]\n",
            "\r                                                                               \rGet:4 https://cloud.r-project.org/bin/linux/ubuntu bionic-cran40/ InRelease [3,626 B]\n",
            "Get:5 http://archive.ubuntu.com/ubuntu bionic-backports InRelease [83.3 kB]\n",
            "Hit:6 http://ppa.launchpad.net/c2d4u.team/c2d4u4.0+/ubuntu bionic InRelease\n",
            "Ign:7 https://developer.download.nvidia.com/compute/machine-learning/repos/ubuntu1804/x86_64  InRelease\n",
            "Hit:8 https://developer.download.nvidia.com/compute/cuda/repos/ubuntu1804/x86_64  InRelease\n",
            "Hit:9 https://developer.download.nvidia.com/compute/machine-learning/repos/ubuntu1804/x86_64  Release\n",
            "Hit:10 http://ppa.launchpad.net/cran/libgit2/ubuntu bionic InRelease\n",
            "Hit:11 http://ppa.launchpad.net/deadsnakes/ppa/ubuntu bionic InRelease\n",
            "Get:12 http://ppa.launchpad.net/graphics-drivers/ppa/ubuntu bionic InRelease [21.3 kB]\n",
            "Get:13 http://security.ubuntu.com/ubuntu bionic-security/multiverse amd64 Packages [22.9 kB]\n",
            "Get:14 http://security.ubuntu.com/ubuntu bionic-security/restricted amd64 Packages [1,307 kB]\n",
            "Get:15 http://archive.ubuntu.com/ubuntu bionic-updates/multiverse amd64 Packages [30.0 kB]\n",
            "Get:16 http://archive.ubuntu.com/ubuntu bionic-updates/main amd64 Packages [3,519 kB]\n",
            "Get:17 http://archive.ubuntu.com/ubuntu bionic-updates/restricted amd64 Packages [1,348 kB]\n",
            "Get:19 http://ppa.launchpad.net/graphics-drivers/ppa/ubuntu bionic/main amd64 Packages [40.8 kB]\n",
            "Fetched 6,552 kB in 2s (2,949 kB/s)\n",
            "Reading package lists... Done\n",
            "Reading package lists... Done\n",
            "Building dependency tree       \n",
            "Reading state information... Done\n",
            "The following package was automatically installed and is no longer required:\n",
            "  libnvidia-common-460\n",
            "Use 'apt autoremove' to remove it.\n",
            "The following additional packages will be installed:\n",
            "  chromium-browser chromium-browser-l10n chromium-codecs-ffmpeg-extra\n",
            "Suggested packages:\n",
            "  webaccounts-chromium-extension unity-chromium-extension\n",
            "The following NEW packages will be installed:\n",
            "  chromium-browser chromium-browser-l10n chromium-chromedriver\n",
            "  chromium-codecs-ffmpeg-extra\n",
            "0 upgraded, 4 newly installed, 0 to remove and 7 not upgraded.\n",
            "Need to get 95.1 MB of archives.\n",
            "After this operation, 319 MB of additional disk space will be used.\n",
            "Get:1 http://archive.ubuntu.com/ubuntu bionic-updates/universe amd64 chromium-codecs-ffmpeg-extra amd64 107.0.5304.87-0ubuntu11.18.04.1 [1,158 kB]\n",
            "Get:2 http://archive.ubuntu.com/ubuntu bionic-updates/universe amd64 chromium-browser amd64 107.0.5304.87-0ubuntu11.18.04.1 [83.1 MB]\n",
            "Get:3 http://archive.ubuntu.com/ubuntu bionic-updates/universe amd64 chromium-browser-l10n all 107.0.5304.87-0ubuntu11.18.04.1 [5,260 kB]\n",
            "Get:4 http://archive.ubuntu.com/ubuntu bionic-updates/universe amd64 chromium-chromedriver amd64 107.0.5304.87-0ubuntu11.18.04.1 [5,570 kB]\n",
            "Fetched 95.1 MB in 1s (67.5 MB/s)\n",
            "Selecting previously unselected package chromium-codecs-ffmpeg-extra.\n",
            "(Reading database ... 124015 files and directories currently installed.)\n",
            "Preparing to unpack .../chromium-codecs-ffmpeg-extra_107.0.5304.87-0ubuntu11.18.04.1_amd64.deb ...\n",
            "Unpacking chromium-codecs-ffmpeg-extra (107.0.5304.87-0ubuntu11.18.04.1) ...\n",
            "Selecting previously unselected package chromium-browser.\n",
            "Preparing to unpack .../chromium-browser_107.0.5304.87-0ubuntu11.18.04.1_amd64.deb ...\n",
            "Unpacking chromium-browser (107.0.5304.87-0ubuntu11.18.04.1) ...\n",
            "Selecting previously unselected package chromium-browser-l10n.\n",
            "Preparing to unpack .../chromium-browser-l10n_107.0.5304.87-0ubuntu11.18.04.1_all.deb ...\n",
            "Unpacking chromium-browser-l10n (107.0.5304.87-0ubuntu11.18.04.1) ...\n",
            "Selecting previously unselected package chromium-chromedriver.\n",
            "Preparing to unpack .../chromium-chromedriver_107.0.5304.87-0ubuntu11.18.04.1_amd64.deb ...\n",
            "Unpacking chromium-chromedriver (107.0.5304.87-0ubuntu11.18.04.1) ...\n",
            "Setting up chromium-codecs-ffmpeg-extra (107.0.5304.87-0ubuntu11.18.04.1) ...\n",
            "Setting up chromium-browser (107.0.5304.87-0ubuntu11.18.04.1) ...\n",
            "update-alternatives: using /usr/bin/chromium-browser to provide /usr/bin/x-www-browser (x-www-browser) in auto mode\n",
            "update-alternatives: using /usr/bin/chromium-browser to provide /usr/bin/gnome-www-browser (gnome-www-browser) in auto mode\n",
            "Setting up chromium-chromedriver (107.0.5304.87-0ubuntu11.18.04.1) ...\n",
            "Setting up chromium-browser-l10n (107.0.5304.87-0ubuntu11.18.04.1) ...\n",
            "Processing triggers for man-db (2.8.3-2ubuntu0.1) ...\n",
            "Processing triggers for hicolor-icon-theme (0.17-2) ...\n",
            "Processing triggers for mime-support (3.60ubuntu1) ...\n",
            "Processing triggers for libc-bin (2.27-3ubuntu1.6) ...\n",
            "cp: '/usr/lib/chromium-browser/chromedriver' and '/usr/bin/chromedriver' are the same file\n",
            "<html lang=\"en-US\"><head>\n",
            "    <title>Just a moment...</title>\n",
            "    <meta http-equiv=\"Content-Type\" content=\"text/html; charset=UTF-8\">\n",
            "    <meta http-equiv=\"X-UA-Compatible\" content=\"IE=Edge\">\n",
            "    <meta name=\"robots\" content=\"noindex,nofollow\">\n",
            "    <meta name=\"viewport\" content=\"width=device-width,initial-scale=1\">\n",
            "    <link href=\"/cdn-cgi/styles/challenges.css\" rel=\"stylesheet\">\n",
            "    \n",
            "\n",
            "<script src=\"/cdn-cgi/challenge-platform/h/g/orchestrate/managed/v1?ray=774374539d937fff\"></script><script src=\"https://cloudflare.hcaptcha.com/1/api.js?endpoint=https%3A%2F%2Fcloudflare.hcaptcha.com&amp;assethost=https%3A%2F%2Fcf-assets.hcaptcha.com&amp;imghost=https%3A%2F%2Fcf-imgs.hcaptcha.com&amp;render=explicit&amp;recaptchacompat=off&amp;onload=_cf_chl_hload\"></script></head>\n",
            "<body class=\"no-js\">\n",
            "    <div class=\"main-wrapper\" role=\"main\">\n",
            "    <div class=\"main-content\">\n",
            "        <h1 class=\"zone-name-title h1\">\n",
            "            <img class=\"heading-favicon\" src=\"/favicon.ico\" onerror=\"this.onerror=null;this.parentNode.removeChild(this)\">\n",
            "            www.website.com\n",
            "        </h1>\n",
            "        <h2 class=\"h2\" id=\"challenge-running\">\n",
            "            Checking if the site connection is secure\n",
            "        </h2><div id=\"challenge-stage\" style=\"display: none;\"></div><div id=\"challenge-spinner\" class=\"spacer loading-spinner\" style=\"display: block; visibility: visible;\"><div class=\"lds-ring\"><div></div><div></div><div></div><div></div></div></div>\n",
            "        <noscript>\n",
            "            <div id=\"challenge-error-title\">\n",
            "                <div class=\"h2\">\n",
            "                    <span class=\"icon-wrapper\">\n",
            "                        <div class=\"heading-icon warning-icon\"></div>\n",
            "                    </span>\n",
            "                    <span id=\"challenge-error-text\">\n",
            "                        Enable JavaScript and cookies to continue\n",
            "                    </span>\n",
            "                </div>\n",
            "            </div>\n",
            "        </noscript>\n",
            "        <div id=\"trk_jschal_js\" style=\"display:none;background-image:url('/cdn-cgi/images/trace/managed/nojs/transparent.gif?ray=774374539d937fff')\"></div>\n",
            "        <div id=\"challenge-body-text\" class=\"core-msg spacer\">\n",
            "            www.website.com needs to review the security of your connection before proceeding.\n",
            "        </div><div id=\"challenge-fact-wrapper\" class=\"fact spacer hidden\" style=\"display: block; visibility: visible;\"><span class=\"fact-title\">Did you know</span> <span id=\"challenge-fact\" class=\"body-text\">bots historically made up nearly 40% of all Internet traffic?</span></div><div id=\"challenge-explainer-expandable\" class=\"hidden expandable body-text spacer\" style=\"display: none;\"><div class=\"expandable-title\" id=\"challenge-explainer-summary\"><button class=\"expandable-summary-btn\" id=\"challenge-explainer-btn\" type=\"button\">Why am I seeing this page?<span class=\"caret-icon-wrapper\"> <div class=\"caret-icon\"></div> </span> </button> </div> <div class=\"expandable-details\" id=\"challenge-explainer-details\">Requests from malicious bots can pose as legitimate traffic. Occasionally, you may see this page while the site ensures that the connection is secure.</div></div><div id=\"challenge-success\" style=\"display: none;\"><div class=\"h2\"><span class=\"icon-wrapper\"><img class=\"heading-icon\" alt=\"Success icon\" src=\"data:image/png;base64,iVBORw0KGgoAAAANSUhEUgAAADQAAAA0CAMAAADypuvZAAAANlBMVEUAAAAxMTEwMDAxMTExMTEwMDAwMDAwMDAxMTExMTExMTEwMDAwMDAxMTExMTEwMDAwMDAxMTHB9N+uAAAAEXRSTlMA3zDvfyBAEJC/n3BQz69gX7VMkcMAAAGySURBVEjHnZZbFoMgDEQJiDzVuv/NtgbtFGuQ4/zUKpeMIQbUhXSKE5l1XSn4pFWHRm/WShT1HRLWC01LGxFEVkCc30eYkLJ1Sjk9pvkw690VY6k8DWP9OM9yMG0Koi+mi8XA36NXmW0UXra4eJ3iwHfrfXVlgL0NqqGBHdqfeQhMmyJ48WDuKP81h3+SMPeRKkJcSXiLUK4XTHCjESOnz1VUXQoc6lgi2x4cI5aTQ201Mt8wHysI5fc05M5c81uZEtHcMKhxZ7iYEty1GfhLvGKpm+EYkdGxm1F5axmcB93DoORIbXfdN7f+hlFuyxtDP+sxtBnF43cIYwaZAWRgzxIoiXEMESoPlMhwLRDXeK772CAzXEdBRV7cmnoVBp0OSlyGidEzJTFq5hhcsA5388oSGM6b5p+qjpZrBlMS9xj4AwXmz108ukU1IomM3ceiW0CDwHCqp1NjAqXlFrbga+xuloQJ+tuyfbIBPNpqnmxqT7dPaOnZqBfhSBCteJAxWj58zLk2xgg+SPGYM6dRO6WczSnIxxwEExRaO+UyCUhbOp7CGQ+kxSUfNtLQFC+Po29vvy7jj4y0yAAAAABJRU5ErkJggg==\"></span>Connection is secure</div><div class=\"core-msg spacer\">Proceeding...</div></div>\n",
            "        <form id=\"challenge-form\" action=\"/?__cf_chl_f_tk=ojydTm0iv4hYGkX7XBq7aLL0cMrfJ3YjDP3UY83ISxM-1670145503-0-gaNycGzNCBE\" method=\"POST\" enctype=\"application/x-www-form-urlencoded\">\n",
            "            <input type=\"hidden\" name=\"md\" value=\"xETQ15OKzLTV42uSPYK8vfex4AyTLpI_sDWqJPhGKos-1670145503-0-AR0cJx5kb9SZ81wxMOFriQYAcBXMmWaD2AXFx-bzMyPe-5HcjqzWPLTCyq5C0vmM28-6ca-WAJjPUCtfp2ccwmKoKJFfPSKGf4YKUE-L83Lki3xWsTCCdyfKP_LZEGq3mHsOtSN-vZwtjao_hRZgsjR3hLZoWgblwWAIBqlH8RIqfS3AlmBGwQodbeUAEy04CAAArhW0yalqb3eW0z_3AXjX588B7OS1HpfcFIhWun4mClAjWO3BqoEgC1orXxoic8IPrj9NfY_gLWu2PpE4nEwi6De_ppJdSBu4ENSIZ1WclA_yk5oLlBRZCeiYa-abg7Cxifw1t34sI8UI-06I7BGxkh_PMuNCg6s_5HjHQ_PZ24LQAMrOqLlPRG2pD2yrBaa-AEA3HKPG1Eut0n2qMLwwR0j_iFTDn1mFyJq2OKlOQhY3S_7lov8oB2khSHKykSBlo_J7E1pRbisPzicM4Fwu7m_RAhtf3245k8K5kMlMJZPQfO5ICj7WX2DnHWOL-ix3tGJ7r6qaoi8Bwth7CeHCDKReRBJUmEgslpQkhGpfcxZpPN_uQUX-Teq5rzhn7vAcs7C4BuNxYcVaWVkMCHhip8v_TqOpmOddoq6cKc3BCdCmuInXYqTmRq30UP0j6mjO37-ZCnhmIyeC60g2N4pQWjVQTjgRTTq8fsbXUMMiCITJ7k19Uv12r8ee4CVajmm83VPHXtRX5wmgcltE89c\">\n",
            "            <input type=\"hidden\" name=\"r\" value=\"2EjRic.a3sLp3tMizB9sb3zVGFVu8.KMeaZI4KA9Ak8-1670145503-0-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\">\n",
            "        <span style=\"display: none;\"><span class=\"text-gray-600\" data-translate=\"error\">error code: 1020</span></span></form>\n",
            "    </div>\n",
            "</div>\n",
            "<script>\n",
            "    (function(){\n",
            "        window._cf_chl_opt={\n",
            "            cvId: '2',\n",
            "            cType: 'managed',\n",
            "            cNounce: '6256',\n",
            "            cRay: '774374539d937fff',\n",
            "            cHash: '2742a302e323935',\n",
            "            cUPMDTk: \"\\/?__cf_chl_tk=ojydTm0iv4hYGkX7XBq7aLL0cMrfJ3YjDP3UY83ISxM-1670145503-0-gaNycGzNCBE\",\n",
            "            cFPWv: 'g',\n",
            "            cTTimeMs: '1000',\n",
            "            cTplV: 4,\n",
            "            cTplB: 'cf',\n",
            "            cRq: {\n",
            "                ru: 'aHR0cHM6Ly93d3cud2Vic2l0ZS5jb20v',\n",
            "                ra: 'TW96aWxsYS81LjAgKFgxMTsgTGludXggeDg2XzY0KSBBcHBsZVdlYktpdC81MzcuMzYgKEtIVE1MLCBsaWtlIEdlY2tvKSBIZWFkbGVzc0Nocm9tZS8xMDcuMC41MzA0Ljg3IFNhZmFyaS81MzcuMzY=',\n",
            "                rm: 'R0VU',\n",
            "                d: '2Z3ptBB6CNjxsL/sEQ5jj+M+KwlbIqudTM3KxS0c9jSjfJubJBng5Q4Y4nR8zi5TfvskBIV6jdmYTQd3E+811ecCy2NrvwuHC4U9IPJRDRSl8FYtk07C8IhRmzggX4/329di6xJbP4bGK6iLi5IWxuvZlv4dWV4ALfe92H8xU6sGfhGQccOkKKzIF98Z72cbgjesMKU2nYpOTuzkjkCSu2quv6FnLOOv/hqrKGbbGm3h8L/DViLlZdYBcnQnNhu4QhKs/RNXfGrnS+iFWvphqHkbf0NQkqEvYhupgizTHn6Ig7Yvs1AOWA8Ey37d+h+F7Mar/7lnWOaHPv4yjti/+nsufKRZqFuBBtDRBLf8mZ7e8Zm5hL68BO9efw/GE53f5foQh9BB+Gicvz/2vrGW3ZtBMcZj+jl2dEONd8c856VSLuTK/fiqPqFiweRkkpGP3Ocmhd/hVf0NYWTiVMdZZcqZMVOZEvMMLMaBWwNE2sDked4jRDHonIJDmP7QIPiBQycE5hotxuCuBFj52SiOsvDDLYKh8DLfkr2JvqH5CBjnTf9m+6qha+ACBUQOIrCLlFC29Yv9YdnN/oa9zN3qJc9EkmscKy9c3bAbIVePlH+pXDg4q2ZBShbSm3fPgcz3BnnTQHsqD8PrzsxhL7JIPVud37BlxxgrbCuiWYG7Scn17jRVt5fW8UzgZH5X7aVq',\n",
            "                t: 'MTY3MDE0NTUwMy4zMDEwMDA=',\n",
            "                m: 'O0smkZtJgF/jHP607c8qJtqpPvEZrh0WQ87c5lMP8D0=',\n",
            "                i1: '/s2rPMfEXmGYvssl637bkQ==',\n",
            "                i2: 'pKIpLsztjW1NCMuLlBUCAw==',\n",
            "                zh: 'ToMS3HV0OtNita7AnV3aODrva5zgra0L0wNakz8GGyA=',\n",
            "                uh: 'txDOwEKjjGE8qJetoWoTKIXw4HYHjr6Ut56mTPbEU0I=',\n",
            "                hh: 'jjKlqAMxBb2CvRxePZXE2G+3zvYLMKPJ3n6zB5D4w/g=',\n",
            "            }\n",
            "        };\n",
            "        var trkjs = document.createElement('img');\n",
            "        trkjs.setAttribute('src', '/cdn-cgi/images/trace/managed/js/transparent.gif?ray=774374539d937fff');\n",
            "        trkjs.setAttribute('style', 'display: none');\n",
            "        document.body.appendChild(trkjs);\n",
            "        var cpo = document.createElement('script');\n",
            "        cpo.src = '/cdn-cgi/challenge-platform/h/g/orchestrate/managed/v1?ray=774374539d937fff';\n",
            "        window._cf_chl_opt.cOgUHash = location.hash === '' && location.href.indexOf('#') !== -1 ? '#' : location.hash;\n",
            "        window._cf_chl_opt.cOgUQuery = location.search === '' && location.href.slice(0, -window._cf_chl_opt.cOgUHash.length).indexOf('?') !== -1 ? '?' : location.search;\n",
            "        if (window.history && window.history.replaceState) {\n",
            "            var ogU = location.pathname + window._cf_chl_opt.cOgUQuery + window._cf_chl_opt.cOgUHash;\n",
            "            history.replaceState(null, null, \"\\/?__cf_chl_rt_tk=ojydTm0iv4hYGkX7XBq7aLL0cMrfJ3YjDP3UY83ISxM-1670145503-0-gaNycGzNCBE\" + window._cf_chl_opt.cOgUHash);\n",
            "            cpo.onload = function() {\n",
            "                history.replaceState(null, null, ogU);\n",
            "            };\n",
            "        }\n",
            "        document.getElementsByTagName('head')[0].appendChild(cpo);\n",
            "    }());\n",
            "</script><img src=\"/cdn-cgi/images/trace/managed/js/transparent.gif?ray=774374539d937fff\" style=\"display: none\">\n",
            "\n",
            "\n",
            "    <div class=\"footer\" role=\"contentinfo\">\n",
            "        <div class=\"footer-inner\">\n",
            "            <div class=\"clearfix diagnostic-wrapper\">\n",
            "                <div class=\"ray-id\">Ray ID: <code>774374539d937fff</code></div>\n",
            "            </div>\n",
            "            <div class=\"text-center\">Performance &amp; security by <a rel=\"noopener noreferrer\" href=\"https://www.cloudflare.com?utm_source=challenge&amp;utm_campaign=m\" target=\"_blank\">Cloudflare</a></div>\n",
            "        </div>\n",
            "    </div>\n",
            "\n",
            "\n",
            "<span id=\"trk_jschal_js\"></span></body></html>\n"
          ]
        }
      ]
    },
    {
      "cell_type": "code",
      "source": [
        "dfi.export(df, \"my dataset.png\", table_conversion=\"matplotlib\")\n",
        "files.download(\"my dataset.png\")"
      ],
      "metadata": {
        "colab": {
          "base_uri": "https://localhost:8080/",
          "height": 17
        },
        "id": "gzTmnRvzUoV5",
        "outputId": "ca089a09-a14e-4c64-8e39-d7699823f073"
      },
      "execution_count": null,
      "outputs": [
        {
          "output_type": "display_data",
          "data": {
            "text/plain": [
              "<IPython.core.display.Javascript object>"
            ],
            "application/javascript": [
              "\n",
              "    async function download(id, filename, size) {\n",
              "      if (!google.colab.kernel.accessAllowed) {\n",
              "        return;\n",
              "      }\n",
              "      const div = document.createElement('div');\n",
              "      const label = document.createElement('label');\n",
              "      label.textContent = `Downloading \"${filename}\": `;\n",
              "      div.appendChild(label);\n",
              "      const progress = document.createElement('progress');\n",
              "      progress.max = size;\n",
              "      div.appendChild(progress);\n",
              "      document.body.appendChild(div);\n",
              "\n",
              "      const buffers = [];\n",
              "      let downloaded = 0;\n",
              "\n",
              "      const channel = await google.colab.kernel.comms.open(id);\n",
              "      // Send a message to notify the kernel that we're ready.\n",
              "      channel.send({})\n",
              "\n",
              "      for await (const message of channel.messages) {\n",
              "        // Send a message to notify the kernel that we're ready.\n",
              "        channel.send({})\n",
              "        if (message.buffers) {\n",
              "          for (const buffer of message.buffers) {\n",
              "            buffers.push(buffer);\n",
              "            downloaded += buffer.byteLength;\n",
              "            progress.value = downloaded;\n",
              "          }\n",
              "        }\n",
              "      }\n",
              "      const blob = new Blob(buffers, {type: 'application/binary'});\n",
              "      const a = document.createElement('a');\n",
              "      a.href = window.URL.createObjectURL(blob);\n",
              "      a.download = filename;\n",
              "      div.appendChild(a);\n",
              "      a.click();\n",
              "      div.remove();\n",
              "    }\n",
              "  "
            ]
          },
          "metadata": {}
        },
        {
          "output_type": "display_data",
          "data": {
            "text/plain": [
              "<IPython.core.display.Javascript object>"
            ],
            "application/javascript": [
              "download(\"download_ace4df94-72bb-4a77-8a75-97d5ed78a05f\", \"my dataset.png\", 443782)"
            ]
          },
          "metadata": {}
        }
      ]
    },
    {
      "cell_type": "markdown",
      "source": [
        "# Descriptive Statistics"
      ],
      "metadata": {
        "id": "pxrrvTBZzd8d"
      }
    },
    {
      "cell_type": "code",
      "source": [
        "#gives the number of rows and columns in the dataframe\n",
        "df.shape"
      ],
      "metadata": {
        "colab": {
          "base_uri": "https://localhost:8080/"
        },
        "id": "tefN6jxi1rH6",
        "outputId": "11694be8-5fec-465d-c4c4-365779f53add"
      },
      "execution_count": null,
      "outputs": [
        {
          "output_type": "execute_result",
          "data": {
            "text/plain": [
              "(70, 12)"
            ]
          },
          "metadata": {},
          "execution_count": 6
        }
      ]
    },
    {
      "cell_type": "code",
      "source": [
        "#displays first five rows of dataframe\n",
        "df.head()"
      ],
      "metadata": {
        "colab": {
          "base_uri": "https://localhost:8080/"
        },
        "id": "UMmPXFNiznQ9",
        "outputId": "6da95681-8697-474c-c0bf-f072bac0d1c7"
      },
      "execution_count": null,
      "outputs": [
        {
          "output_type": "execute_result",
          "data": {
            "text/plain": [
              "           HCWs M  HCWs F  Other FLWs M  Other FLWs F  Elderly ? 50years M  \\\n",
              "Date                                                                         \n",
              "23-Aug-21       1       5             2             6                    7   \n",
              "24-Aug-21       5       3             6             1                   58   \n",
              "25-Aug-21       6       6             1             1                   52   \n",
              "26-Aug-21       9       2            34            28                   68   \n",
              "27-Aug-21      11      10            36            20                   52   \n",
              "\n",
              "           Elderly ? 50years F  Youth 18-49years M  Youth 18-49years F  \\\n",
              "Date                                                                     \n",
              "23-Aug-21                   16                  71                  46   \n",
              "24-Aug-21                   26                 117                  88   \n",
              "25-Aug-21                   39                 106                 118   \n",
              "26-Aug-21                   39                 159                 105   \n",
              "27-Aug-21                   46                 146                 141   \n",
              "\n",
              "           AEFI Serious  AEFI Unserious  Vaccine Dials Rcd  Vaccine Dials Used  \n",
              "Date                                                                            \n",
              "23-Aug-21             0               0                 12                  12  \n",
              "24-Aug-21             0               0                 25                  25  \n",
              "25-Aug-21             0               0                 26                  26  \n",
              "26-Aug-21             0               0                 34                  34  \n",
              "27-Aug-21             0               0                 36                  36  "
            ],
            "text/html": [
              "\n",
              "  <div id=\"df-834ecc5c-3d8d-4a1d-99b2-f49034c80289\">\n",
              "    <div class=\"colab-df-container\">\n",
              "      <div>\n",
              "<style scoped>\n",
              "    .dataframe tbody tr th:only-of-type {\n",
              "        vertical-align: middle;\n",
              "    }\n",
              "\n",
              "    .dataframe tbody tr th {\n",
              "        vertical-align: top;\n",
              "    }\n",
              "\n",
              "    .dataframe thead th {\n",
              "        text-align: right;\n",
              "    }\n",
              "</style>\n",
              "<table border=\"1\" class=\"dataframe\">\n",
              "  <thead>\n",
              "    <tr style=\"text-align: right;\">\n",
              "      <th></th>\n",
              "      <th>HCWs M</th>\n",
              "      <th>HCWs F</th>\n",
              "      <th>Other FLWs M</th>\n",
              "      <th>Other FLWs F</th>\n",
              "      <th>Elderly ? 50years M</th>\n",
              "      <th>Elderly ? 50years F</th>\n",
              "      <th>Youth 18-49years M</th>\n",
              "      <th>Youth 18-49years F</th>\n",
              "      <th>AEFI Serious</th>\n",
              "      <th>AEFI Unserious</th>\n",
              "      <th>Vaccine Dials Rcd</th>\n",
              "      <th>Vaccine Dials Used</th>\n",
              "    </tr>\n",
              "    <tr>\n",
              "      <th>Date</th>\n",
              "      <th></th>\n",
              "      <th></th>\n",
              "      <th></th>\n",
              "      <th></th>\n",
              "      <th></th>\n",
              "      <th></th>\n",
              "      <th></th>\n",
              "      <th></th>\n",
              "      <th></th>\n",
              "      <th></th>\n",
              "      <th></th>\n",
              "      <th></th>\n",
              "    </tr>\n",
              "  </thead>\n",
              "  <tbody>\n",
              "    <tr>\n",
              "      <th>23-Aug-21</th>\n",
              "      <td>1</td>\n",
              "      <td>5</td>\n",
              "      <td>2</td>\n",
              "      <td>6</td>\n",
              "      <td>7</td>\n",
              "      <td>16</td>\n",
              "      <td>71</td>\n",
              "      <td>46</td>\n",
              "      <td>0</td>\n",
              "      <td>0</td>\n",
              "      <td>12</td>\n",
              "      <td>12</td>\n",
              "    </tr>\n",
              "    <tr>\n",
              "      <th>24-Aug-21</th>\n",
              "      <td>5</td>\n",
              "      <td>3</td>\n",
              "      <td>6</td>\n",
              "      <td>1</td>\n",
              "      <td>58</td>\n",
              "      <td>26</td>\n",
              "      <td>117</td>\n",
              "      <td>88</td>\n",
              "      <td>0</td>\n",
              "      <td>0</td>\n",
              "      <td>25</td>\n",
              "      <td>25</td>\n",
              "    </tr>\n",
              "    <tr>\n",
              "      <th>25-Aug-21</th>\n",
              "      <td>6</td>\n",
              "      <td>6</td>\n",
              "      <td>1</td>\n",
              "      <td>1</td>\n",
              "      <td>52</td>\n",
              "      <td>39</td>\n",
              "      <td>106</td>\n",
              "      <td>118</td>\n",
              "      <td>0</td>\n",
              "      <td>0</td>\n",
              "      <td>26</td>\n",
              "      <td>26</td>\n",
              "    </tr>\n",
              "    <tr>\n",
              "      <th>26-Aug-21</th>\n",
              "      <td>9</td>\n",
              "      <td>2</td>\n",
              "      <td>34</td>\n",
              "      <td>28</td>\n",
              "      <td>68</td>\n",
              "      <td>39</td>\n",
              "      <td>159</td>\n",
              "      <td>105</td>\n",
              "      <td>0</td>\n",
              "      <td>0</td>\n",
              "      <td>34</td>\n",
              "      <td>34</td>\n",
              "    </tr>\n",
              "    <tr>\n",
              "      <th>27-Aug-21</th>\n",
              "      <td>11</td>\n",
              "      <td>10</td>\n",
              "      <td>36</td>\n",
              "      <td>20</td>\n",
              "      <td>52</td>\n",
              "      <td>46</td>\n",
              "      <td>146</td>\n",
              "      <td>141</td>\n",
              "      <td>0</td>\n",
              "      <td>0</td>\n",
              "      <td>36</td>\n",
              "      <td>36</td>\n",
              "    </tr>\n",
              "  </tbody>\n",
              "</table>\n",
              "</div>\n",
              "      <button class=\"colab-df-convert\" onclick=\"convertToInteractive('df-834ecc5c-3d8d-4a1d-99b2-f49034c80289')\"\n",
              "              title=\"Convert this dataframe to an interactive table.\"\n",
              "              style=\"display:none;\">\n",
              "        \n",
              "  <svg xmlns=\"http://www.w3.org/2000/svg\" height=\"24px\"viewBox=\"0 0 24 24\"\n",
              "       width=\"24px\">\n",
              "    <path d=\"M0 0h24v24H0V0z\" fill=\"none\"/>\n",
              "    <path d=\"M18.56 5.44l.94 2.06.94-2.06 2.06-.94-2.06-.94-.94-2.06-.94 2.06-2.06.94zm-11 1L8.5 8.5l.94-2.06 2.06-.94-2.06-.94L8.5 2.5l-.94 2.06-2.06.94zm10 10l.94 2.06.94-2.06 2.06-.94-2.06-.94-.94-2.06-.94 2.06-2.06.94z\"/><path d=\"M17.41 7.96l-1.37-1.37c-.4-.4-.92-.59-1.43-.59-.52 0-1.04.2-1.43.59L10.3 9.45l-7.72 7.72c-.78.78-.78 2.05 0 2.83L4 21.41c.39.39.9.59 1.41.59.51 0 1.02-.2 1.41-.59l7.78-7.78 2.81-2.81c.8-.78.8-2.07 0-2.86zM5.41 20L4 18.59l7.72-7.72 1.47 1.35L5.41 20z\"/>\n",
              "  </svg>\n",
              "      </button>\n",
              "      \n",
              "  <style>\n",
              "    .colab-df-container {\n",
              "      display:flex;\n",
              "      flex-wrap:wrap;\n",
              "      gap: 12px;\n",
              "    }\n",
              "\n",
              "    .colab-df-convert {\n",
              "      background-color: #E8F0FE;\n",
              "      border: none;\n",
              "      border-radius: 50%;\n",
              "      cursor: pointer;\n",
              "      display: none;\n",
              "      fill: #1967D2;\n",
              "      height: 32px;\n",
              "      padding: 0 0 0 0;\n",
              "      width: 32px;\n",
              "    }\n",
              "\n",
              "    .colab-df-convert:hover {\n",
              "      background-color: #E2EBFA;\n",
              "      box-shadow: 0px 1px 2px rgba(60, 64, 67, 0.3), 0px 1px 3px 1px rgba(60, 64, 67, 0.15);\n",
              "      fill: #174EA6;\n",
              "    }\n",
              "\n",
              "    [theme=dark] .colab-df-convert {\n",
              "      background-color: #3B4455;\n",
              "      fill: #D2E3FC;\n",
              "    }\n",
              "\n",
              "    [theme=dark] .colab-df-convert:hover {\n",
              "      background-color: #434B5C;\n",
              "      box-shadow: 0px 1px 3px 1px rgba(0, 0, 0, 0.15);\n",
              "      filter: drop-shadow(0px 1px 2px rgba(0, 0, 0, 0.3));\n",
              "      fill: #FFFFFF;\n",
              "    }\n",
              "  </style>\n",
              "\n",
              "      <script>\n",
              "        const buttonEl =\n",
              "          document.querySelector('#df-834ecc5c-3d8d-4a1d-99b2-f49034c80289 button.colab-df-convert');\n",
              "        buttonEl.style.display =\n",
              "          google.colab.kernel.accessAllowed ? 'block' : 'none';\n",
              "\n",
              "        async function convertToInteractive(key) {\n",
              "          const element = document.querySelector('#df-834ecc5c-3d8d-4a1d-99b2-f49034c80289');\n",
              "          const dataTable =\n",
              "            await google.colab.kernel.invokeFunction('convertToInteractive',\n",
              "                                                     [key], {});\n",
              "          if (!dataTable) return;\n",
              "\n",
              "          const docLinkHtml = 'Like what you see? Visit the ' +\n",
              "            '<a target=\"_blank\" href=https://colab.research.google.com/notebooks/data_table.ipynb>data table notebook</a>'\n",
              "            + ' to learn more about interactive tables.';\n",
              "          element.innerHTML = '';\n",
              "          dataTable['output_type'] = 'display_data';\n",
              "          await google.colab.output.renderOutput(dataTable, element);\n",
              "          const docLink = document.createElement('div');\n",
              "          docLink.innerHTML = docLinkHtml;\n",
              "          element.appendChild(docLink);\n",
              "        }\n",
              "      </script>\n",
              "    </div>\n",
              "  </div>\n",
              "  "
            ]
          },
          "metadata": {},
          "execution_count": 7
        }
      ]
    },
    {
      "cell_type": "code",
      "source": [
        "#displays last 5 rows of dataframe\n",
        "df.tail()"
      ],
      "metadata": {
        "colab": {
          "base_uri": "https://localhost:8080/"
        },
        "id": "jvuZ0utVzzdt",
        "outputId": "2f35faea-ebc5-4f31-ba1b-b651021a3e01"
      },
      "execution_count": null,
      "outputs": [
        {
          "output_type": "execute_result",
          "data": {
            "text/plain": [
              "           HCWs M  HCWs F  Other FLWs M  Other FLWs F  Elderly ? 50years M  \\\n",
              "Date                                                                         \n",
              "27-Oct-21       0       0             6             2                    5   \n",
              "28-Oct-21       2       9            49            27                   48   \n",
              "29-Oct-21       0       0             1             1                   13   \n",
              "30-Oct-21       0       0            12            10                    7   \n",
              "31-Oct-21       0       0             0             0                    5   \n",
              "\n",
              "           Elderly ? 50years F  Youth 18-49years M  Youth 18-49years F  \\\n",
              "Date                                                                     \n",
              "27-Oct-21                    2                   7                   5   \n",
              "28-Oct-21                   49                 162                 140   \n",
              "29-Oct-21                   15                  19                  17   \n",
              "30-Oct-21                    2                  33                  28   \n",
              "31-Oct-21                    3                   9                  15   \n",
              "\n",
              "           AEFI Serious  AEFI Unserious  Vaccine Dials Rcd  Vaccine Dials Used  \n",
              "Date                                                                            \n",
              "27-Oct-21             0               0                  3                   3  \n",
              "28-Oct-21             0               0                 36                  36  \n",
              "29-Oct-21             0               0                  5                   5  \n",
              "30-Oct-21             0               0                  6                   6  \n",
              "31-Oct-21             0               0                  3                   3  "
            ],
            "text/html": [
              "\n",
              "  <div id=\"df-117d67fb-36b0-4025-9748-23f866a13d43\">\n",
              "    <div class=\"colab-df-container\">\n",
              "      <div>\n",
              "<style scoped>\n",
              "    .dataframe tbody tr th:only-of-type {\n",
              "        vertical-align: middle;\n",
              "    }\n",
              "\n",
              "    .dataframe tbody tr th {\n",
              "        vertical-align: top;\n",
              "    }\n",
              "\n",
              "    .dataframe thead th {\n",
              "        text-align: right;\n",
              "    }\n",
              "</style>\n",
              "<table border=\"1\" class=\"dataframe\">\n",
              "  <thead>\n",
              "    <tr style=\"text-align: right;\">\n",
              "      <th></th>\n",
              "      <th>HCWs M</th>\n",
              "      <th>HCWs F</th>\n",
              "      <th>Other FLWs M</th>\n",
              "      <th>Other FLWs F</th>\n",
              "      <th>Elderly ? 50years M</th>\n",
              "      <th>Elderly ? 50years F</th>\n",
              "      <th>Youth 18-49years M</th>\n",
              "      <th>Youth 18-49years F</th>\n",
              "      <th>AEFI Serious</th>\n",
              "      <th>AEFI Unserious</th>\n",
              "      <th>Vaccine Dials Rcd</th>\n",
              "      <th>Vaccine Dials Used</th>\n",
              "    </tr>\n",
              "    <tr>\n",
              "      <th>Date</th>\n",
              "      <th></th>\n",
              "      <th></th>\n",
              "      <th></th>\n",
              "      <th></th>\n",
              "      <th></th>\n",
              "      <th></th>\n",
              "      <th></th>\n",
              "      <th></th>\n",
              "      <th></th>\n",
              "      <th></th>\n",
              "      <th></th>\n",
              "      <th></th>\n",
              "    </tr>\n",
              "  </thead>\n",
              "  <tbody>\n",
              "    <tr>\n",
              "      <th>27-Oct-21</th>\n",
              "      <td>0</td>\n",
              "      <td>0</td>\n",
              "      <td>6</td>\n",
              "      <td>2</td>\n",
              "      <td>5</td>\n",
              "      <td>2</td>\n",
              "      <td>7</td>\n",
              "      <td>5</td>\n",
              "      <td>0</td>\n",
              "      <td>0</td>\n",
              "      <td>3</td>\n",
              "      <td>3</td>\n",
              "    </tr>\n",
              "    <tr>\n",
              "      <th>28-Oct-21</th>\n",
              "      <td>2</td>\n",
              "      <td>9</td>\n",
              "      <td>49</td>\n",
              "      <td>27</td>\n",
              "      <td>48</td>\n",
              "      <td>49</td>\n",
              "      <td>162</td>\n",
              "      <td>140</td>\n",
              "      <td>0</td>\n",
              "      <td>0</td>\n",
              "      <td>36</td>\n",
              "      <td>36</td>\n",
              "    </tr>\n",
              "    <tr>\n",
              "      <th>29-Oct-21</th>\n",
              "      <td>0</td>\n",
              "      <td>0</td>\n",
              "      <td>1</td>\n",
              "      <td>1</td>\n",
              "      <td>13</td>\n",
              "      <td>15</td>\n",
              "      <td>19</td>\n",
              "      <td>17</td>\n",
              "      <td>0</td>\n",
              "      <td>0</td>\n",
              "      <td>5</td>\n",
              "      <td>5</td>\n",
              "    </tr>\n",
              "    <tr>\n",
              "      <th>30-Oct-21</th>\n",
              "      <td>0</td>\n",
              "      <td>0</td>\n",
              "      <td>12</td>\n",
              "      <td>10</td>\n",
              "      <td>7</td>\n",
              "      <td>2</td>\n",
              "      <td>33</td>\n",
              "      <td>28</td>\n",
              "      <td>0</td>\n",
              "      <td>0</td>\n",
              "      <td>6</td>\n",
              "      <td>6</td>\n",
              "    </tr>\n",
              "    <tr>\n",
              "      <th>31-Oct-21</th>\n",
              "      <td>0</td>\n",
              "      <td>0</td>\n",
              "      <td>0</td>\n",
              "      <td>0</td>\n",
              "      <td>5</td>\n",
              "      <td>3</td>\n",
              "      <td>9</td>\n",
              "      <td>15</td>\n",
              "      <td>0</td>\n",
              "      <td>0</td>\n",
              "      <td>3</td>\n",
              "      <td>3</td>\n",
              "    </tr>\n",
              "  </tbody>\n",
              "</table>\n",
              "</div>\n",
              "      <button class=\"colab-df-convert\" onclick=\"convertToInteractive('df-117d67fb-36b0-4025-9748-23f866a13d43')\"\n",
              "              title=\"Convert this dataframe to an interactive table.\"\n",
              "              style=\"display:none;\">\n",
              "        \n",
              "  <svg xmlns=\"http://www.w3.org/2000/svg\" height=\"24px\"viewBox=\"0 0 24 24\"\n",
              "       width=\"24px\">\n",
              "    <path d=\"M0 0h24v24H0V0z\" fill=\"none\"/>\n",
              "    <path d=\"M18.56 5.44l.94 2.06.94-2.06 2.06-.94-2.06-.94-.94-2.06-.94 2.06-2.06.94zm-11 1L8.5 8.5l.94-2.06 2.06-.94-2.06-.94L8.5 2.5l-.94 2.06-2.06.94zm10 10l.94 2.06.94-2.06 2.06-.94-2.06-.94-.94-2.06-.94 2.06-2.06.94z\"/><path d=\"M17.41 7.96l-1.37-1.37c-.4-.4-.92-.59-1.43-.59-.52 0-1.04.2-1.43.59L10.3 9.45l-7.72 7.72c-.78.78-.78 2.05 0 2.83L4 21.41c.39.39.9.59 1.41.59.51 0 1.02-.2 1.41-.59l7.78-7.78 2.81-2.81c.8-.78.8-2.07 0-2.86zM5.41 20L4 18.59l7.72-7.72 1.47 1.35L5.41 20z\"/>\n",
              "  </svg>\n",
              "      </button>\n",
              "      \n",
              "  <style>\n",
              "    .colab-df-container {\n",
              "      display:flex;\n",
              "      flex-wrap:wrap;\n",
              "      gap: 12px;\n",
              "    }\n",
              "\n",
              "    .colab-df-convert {\n",
              "      background-color: #E8F0FE;\n",
              "      border: none;\n",
              "      border-radius: 50%;\n",
              "      cursor: pointer;\n",
              "      display: none;\n",
              "      fill: #1967D2;\n",
              "      height: 32px;\n",
              "      padding: 0 0 0 0;\n",
              "      width: 32px;\n",
              "    }\n",
              "\n",
              "    .colab-df-convert:hover {\n",
              "      background-color: #E2EBFA;\n",
              "      box-shadow: 0px 1px 2px rgba(60, 64, 67, 0.3), 0px 1px 3px 1px rgba(60, 64, 67, 0.15);\n",
              "      fill: #174EA6;\n",
              "    }\n",
              "\n",
              "    [theme=dark] .colab-df-convert {\n",
              "      background-color: #3B4455;\n",
              "      fill: #D2E3FC;\n",
              "    }\n",
              "\n",
              "    [theme=dark] .colab-df-convert:hover {\n",
              "      background-color: #434B5C;\n",
              "      box-shadow: 0px 1px 3px 1px rgba(0, 0, 0, 0.15);\n",
              "      filter: drop-shadow(0px 1px 2px rgba(0, 0, 0, 0.3));\n",
              "      fill: #FFFFFF;\n",
              "    }\n",
              "  </style>\n",
              "\n",
              "      <script>\n",
              "        const buttonEl =\n",
              "          document.querySelector('#df-117d67fb-36b0-4025-9748-23f866a13d43 button.colab-df-convert');\n",
              "        buttonEl.style.display =\n",
              "          google.colab.kernel.accessAllowed ? 'block' : 'none';\n",
              "\n",
              "        async function convertToInteractive(key) {\n",
              "          const element = document.querySelector('#df-117d67fb-36b0-4025-9748-23f866a13d43');\n",
              "          const dataTable =\n",
              "            await google.colab.kernel.invokeFunction('convertToInteractive',\n",
              "                                                     [key], {});\n",
              "          if (!dataTable) return;\n",
              "\n",
              "          const docLinkHtml = 'Like what you see? Visit the ' +\n",
              "            '<a target=\"_blank\" href=https://colab.research.google.com/notebooks/data_table.ipynb>data table notebook</a>'\n",
              "            + ' to learn more about interactive tables.';\n",
              "          element.innerHTML = '';\n",
              "          dataTable['output_type'] = 'display_data';\n",
              "          await google.colab.output.renderOutput(dataTable, element);\n",
              "          const docLink = document.createElement('div');\n",
              "          docLink.innerHTML = docLinkHtml;\n",
              "          element.appendChild(docLink);\n",
              "        }\n",
              "      </script>\n",
              "    </div>\n",
              "  </div>\n",
              "  "
            ]
          },
          "metadata": {},
          "execution_count": 8
        }
      ]
    },
    {
      "cell_type": "code",
      "source": [
        "#displays randomly selected rows of dataframe\n",
        "df.sample(5)\n"
      ],
      "metadata": {
        "colab": {
          "base_uri": "https://localhost:8080/"
        },
        "id": "IieuqVZ00Blu",
        "outputId": "2ad81791-e6e2-480b-b103-a4fbb98c8c66"
      },
      "execution_count": null,
      "outputs": [
        {
          "output_type": "execute_result",
          "data": {
            "text/plain": [
              "           HCWs M  HCWs F  Other FLWs M  Other FLWs F  Elderly ? 50years M  \\\n",
              "Date                                                                         \n",
              "21-Sep-21       0       0            27            19                   30   \n",
              "31-Aug-21       4       6             1             5                   51   \n",
              "13-Sep-21       0       0             0             0                    1   \n",
              "29-Sep-21       0       0            33            27                   87   \n",
              "28-Aug-21       1       4             2             6                   27   \n",
              "\n",
              "           Elderly ? 50years F  Youth 18-49years M  Youth 18-49years F  \\\n",
              "Date                                                                     \n",
              "21-Sep-21                   32                 111                 116   \n",
              "31-Aug-21                   31                 172                 121   \n",
              "13-Sep-21                    1                   4                   7   \n",
              "29-Sep-21                   67                  54                  69   \n",
              "28-Aug-21                   17                 121                  94   \n",
              "\n",
              "           AEFI Serious  AEFI Unserious  Vaccine Dials Rcd  Vaccine Dials Used  \n",
              "Date                                                                            \n",
              "21-Sep-21             0               0                 26                  26  \n",
              "31-Aug-21             0               0                 30                  30  \n",
              "13-Sep-21             0               0                  1                   1  \n",
              "29-Sep-21             0               0                 27                  27  \n",
              "28-Aug-21             0               0                 22                  22  "
            ],
            "text/html": [
              "\n",
              "  <div id=\"df-e95381fe-2634-4820-b072-eede537936f5\">\n",
              "    <div class=\"colab-df-container\">\n",
              "      <div>\n",
              "<style scoped>\n",
              "    .dataframe tbody tr th:only-of-type {\n",
              "        vertical-align: middle;\n",
              "    }\n",
              "\n",
              "    .dataframe tbody tr th {\n",
              "        vertical-align: top;\n",
              "    }\n",
              "\n",
              "    .dataframe thead th {\n",
              "        text-align: right;\n",
              "    }\n",
              "</style>\n",
              "<table border=\"1\" class=\"dataframe\">\n",
              "  <thead>\n",
              "    <tr style=\"text-align: right;\">\n",
              "      <th></th>\n",
              "      <th>HCWs M</th>\n",
              "      <th>HCWs F</th>\n",
              "      <th>Other FLWs M</th>\n",
              "      <th>Other FLWs F</th>\n",
              "      <th>Elderly ? 50years M</th>\n",
              "      <th>Elderly ? 50years F</th>\n",
              "      <th>Youth 18-49years M</th>\n",
              "      <th>Youth 18-49years F</th>\n",
              "      <th>AEFI Serious</th>\n",
              "      <th>AEFI Unserious</th>\n",
              "      <th>Vaccine Dials Rcd</th>\n",
              "      <th>Vaccine Dials Used</th>\n",
              "    </tr>\n",
              "    <tr>\n",
              "      <th>Date</th>\n",
              "      <th></th>\n",
              "      <th></th>\n",
              "      <th></th>\n",
              "      <th></th>\n",
              "      <th></th>\n",
              "      <th></th>\n",
              "      <th></th>\n",
              "      <th></th>\n",
              "      <th></th>\n",
              "      <th></th>\n",
              "      <th></th>\n",
              "      <th></th>\n",
              "    </tr>\n",
              "  </thead>\n",
              "  <tbody>\n",
              "    <tr>\n",
              "      <th>21-Sep-21</th>\n",
              "      <td>0</td>\n",
              "      <td>0</td>\n",
              "      <td>27</td>\n",
              "      <td>19</td>\n",
              "      <td>30</td>\n",
              "      <td>32</td>\n",
              "      <td>111</td>\n",
              "      <td>116</td>\n",
              "      <td>0</td>\n",
              "      <td>0</td>\n",
              "      <td>26</td>\n",
              "      <td>26</td>\n",
              "    </tr>\n",
              "    <tr>\n",
              "      <th>31-Aug-21</th>\n",
              "      <td>4</td>\n",
              "      <td>6</td>\n",
              "      <td>1</td>\n",
              "      <td>5</td>\n",
              "      <td>51</td>\n",
              "      <td>31</td>\n",
              "      <td>172</td>\n",
              "      <td>121</td>\n",
              "      <td>0</td>\n",
              "      <td>0</td>\n",
              "      <td>30</td>\n",
              "      <td>30</td>\n",
              "    </tr>\n",
              "    <tr>\n",
              "      <th>13-Sep-21</th>\n",
              "      <td>0</td>\n",
              "      <td>0</td>\n",
              "      <td>0</td>\n",
              "      <td>0</td>\n",
              "      <td>1</td>\n",
              "      <td>1</td>\n",
              "      <td>4</td>\n",
              "      <td>7</td>\n",
              "      <td>0</td>\n",
              "      <td>0</td>\n",
              "      <td>1</td>\n",
              "      <td>1</td>\n",
              "    </tr>\n",
              "    <tr>\n",
              "      <th>29-Sep-21</th>\n",
              "      <td>0</td>\n",
              "      <td>0</td>\n",
              "      <td>33</td>\n",
              "      <td>27</td>\n",
              "      <td>87</td>\n",
              "      <td>67</td>\n",
              "      <td>54</td>\n",
              "      <td>69</td>\n",
              "      <td>0</td>\n",
              "      <td>0</td>\n",
              "      <td>27</td>\n",
              "      <td>27</td>\n",
              "    </tr>\n",
              "    <tr>\n",
              "      <th>28-Aug-21</th>\n",
              "      <td>1</td>\n",
              "      <td>4</td>\n",
              "      <td>2</td>\n",
              "      <td>6</td>\n",
              "      <td>27</td>\n",
              "      <td>17</td>\n",
              "      <td>121</td>\n",
              "      <td>94</td>\n",
              "      <td>0</td>\n",
              "      <td>0</td>\n",
              "      <td>22</td>\n",
              "      <td>22</td>\n",
              "    </tr>\n",
              "  </tbody>\n",
              "</table>\n",
              "</div>\n",
              "      <button class=\"colab-df-convert\" onclick=\"convertToInteractive('df-e95381fe-2634-4820-b072-eede537936f5')\"\n",
              "              title=\"Convert this dataframe to an interactive table.\"\n",
              "              style=\"display:none;\">\n",
              "        \n",
              "  <svg xmlns=\"http://www.w3.org/2000/svg\" height=\"24px\"viewBox=\"0 0 24 24\"\n",
              "       width=\"24px\">\n",
              "    <path d=\"M0 0h24v24H0V0z\" fill=\"none\"/>\n",
              "    <path d=\"M18.56 5.44l.94 2.06.94-2.06 2.06-.94-2.06-.94-.94-2.06-.94 2.06-2.06.94zm-11 1L8.5 8.5l.94-2.06 2.06-.94-2.06-.94L8.5 2.5l-.94 2.06-2.06.94zm10 10l.94 2.06.94-2.06 2.06-.94-2.06-.94-.94-2.06-.94 2.06-2.06.94z\"/><path d=\"M17.41 7.96l-1.37-1.37c-.4-.4-.92-.59-1.43-.59-.52 0-1.04.2-1.43.59L10.3 9.45l-7.72 7.72c-.78.78-.78 2.05 0 2.83L4 21.41c.39.39.9.59 1.41.59.51 0 1.02-.2 1.41-.59l7.78-7.78 2.81-2.81c.8-.78.8-2.07 0-2.86zM5.41 20L4 18.59l7.72-7.72 1.47 1.35L5.41 20z\"/>\n",
              "  </svg>\n",
              "      </button>\n",
              "      \n",
              "  <style>\n",
              "    .colab-df-container {\n",
              "      display:flex;\n",
              "      flex-wrap:wrap;\n",
              "      gap: 12px;\n",
              "    }\n",
              "\n",
              "    .colab-df-convert {\n",
              "      background-color: #E8F0FE;\n",
              "      border: none;\n",
              "      border-radius: 50%;\n",
              "      cursor: pointer;\n",
              "      display: none;\n",
              "      fill: #1967D2;\n",
              "      height: 32px;\n",
              "      padding: 0 0 0 0;\n",
              "      width: 32px;\n",
              "    }\n",
              "\n",
              "    .colab-df-convert:hover {\n",
              "      background-color: #E2EBFA;\n",
              "      box-shadow: 0px 1px 2px rgba(60, 64, 67, 0.3), 0px 1px 3px 1px rgba(60, 64, 67, 0.15);\n",
              "      fill: #174EA6;\n",
              "    }\n",
              "\n",
              "    [theme=dark] .colab-df-convert {\n",
              "      background-color: #3B4455;\n",
              "      fill: #D2E3FC;\n",
              "    }\n",
              "\n",
              "    [theme=dark] .colab-df-convert:hover {\n",
              "      background-color: #434B5C;\n",
              "      box-shadow: 0px 1px 3px 1px rgba(0, 0, 0, 0.15);\n",
              "      filter: drop-shadow(0px 1px 2px rgba(0, 0, 0, 0.3));\n",
              "      fill: #FFFFFF;\n",
              "    }\n",
              "  </style>\n",
              "\n",
              "      <script>\n",
              "        const buttonEl =\n",
              "          document.querySelector('#df-e95381fe-2634-4820-b072-eede537936f5 button.colab-df-convert');\n",
              "        buttonEl.style.display =\n",
              "          google.colab.kernel.accessAllowed ? 'block' : 'none';\n",
              "\n",
              "        async function convertToInteractive(key) {\n",
              "          const element = document.querySelector('#df-e95381fe-2634-4820-b072-eede537936f5');\n",
              "          const dataTable =\n",
              "            await google.colab.kernel.invokeFunction('convertToInteractive',\n",
              "                                                     [key], {});\n",
              "          if (!dataTable) return;\n",
              "\n",
              "          const docLinkHtml = 'Like what you see? Visit the ' +\n",
              "            '<a target=\"_blank\" href=https://colab.research.google.com/notebooks/data_table.ipynb>data table notebook</a>'\n",
              "            + ' to learn more about interactive tables.';\n",
              "          element.innerHTML = '';\n",
              "          dataTable['output_type'] = 'display_data';\n",
              "          await google.colab.output.renderOutput(dataTable, element);\n",
              "          const docLink = document.createElement('div');\n",
              "          docLink.innerHTML = docLinkHtml;\n",
              "          element.appendChild(docLink);\n",
              "        }\n",
              "      </script>\n",
              "    </div>\n",
              "  </div>\n",
              "  "
            ]
          },
          "metadata": {},
          "execution_count": 9
        }
      ]
    },
    {
      "cell_type": "code",
      "source": [
        "#displays summary statistics of dataframe\n",
        "df.describe()"
      ],
      "metadata": {
        "colab": {
          "base_uri": "https://localhost:8080/"
        },
        "id": "YALw657m1BVK",
        "outputId": "1174a543-07ec-42dc-84e8-be53a5dab34b"
      },
      "execution_count": null,
      "outputs": [
        {
          "output_type": "execute_result",
          "data": {
            "text/plain": [
              "          HCWs M     HCWs F  Other FLWs M  Other FLWs F  Elderly ? 50years M  \\\n",
              "count  70.000000  70.000000     70.000000     70.000000            70.000000   \n",
              "mean    1.857143   2.571429     15.214286     13.242857            37.585714   \n",
              "std     2.751999   4.116321     17.154788     13.562989            29.450274   \n",
              "min     0.000000   0.000000      0.000000      0.000000             0.000000   \n",
              "25%     0.000000   0.000000      1.000000      1.000000            13.250000   \n",
              "50%     0.500000   0.500000     10.500000     10.000000            29.500000   \n",
              "75%     2.000000   3.000000     23.750000     21.000000            52.000000   \n",
              "max    11.000000  20.000000     86.000000     71.000000           122.000000   \n",
              "\n",
              "       Elderly ? 50years F  Youth 18-49years M  Youth 18-49years F  \\\n",
              "count            70.000000           70.000000           70.000000   \n",
              "mean             30.185714           76.885714           70.414286   \n",
              "std              24.159070           61.318258           56.187701   \n",
              "min               1.000000            0.000000            0.000000   \n",
              "25%              11.250000           25.750000           25.500000   \n",
              "50%              26.500000           67.500000           63.000000   \n",
              "75%              44.250000          115.500000          107.500000   \n",
              "max             108.000000          252.000000          261.000000   \n",
              "\n",
              "       AEFI Serious  AEFI Unserious  Vaccine Dials Rcd  Vaccine Dials Used  \n",
              "count          70.0            70.0          70.000000           70.000000  \n",
              "mean            0.0             0.0          19.771429           19.771429  \n",
              "std             0.0             0.0          13.570184           13.570184  \n",
              "min             0.0             0.0           1.000000            1.000000  \n",
              "25%             0.0             0.0           8.250000            8.250000  \n",
              "50%             0.0             0.0          19.500000           19.500000  \n",
              "75%             0.0             0.0          29.500000           29.500000  \n",
              "max             0.0             0.0          58.000000           58.000000  "
            ],
            "text/html": [
              "\n",
              "  <div id=\"df-50ec8552-18f4-4d2f-a437-d1fe883b3cbc\">\n",
              "    <div class=\"colab-df-container\">\n",
              "      <div>\n",
              "<style scoped>\n",
              "    .dataframe tbody tr th:only-of-type {\n",
              "        vertical-align: middle;\n",
              "    }\n",
              "\n",
              "    .dataframe tbody tr th {\n",
              "        vertical-align: top;\n",
              "    }\n",
              "\n",
              "    .dataframe thead th {\n",
              "        text-align: right;\n",
              "    }\n",
              "</style>\n",
              "<table border=\"1\" class=\"dataframe\">\n",
              "  <thead>\n",
              "    <tr style=\"text-align: right;\">\n",
              "      <th></th>\n",
              "      <th>HCWs M</th>\n",
              "      <th>HCWs F</th>\n",
              "      <th>Other FLWs M</th>\n",
              "      <th>Other FLWs F</th>\n",
              "      <th>Elderly ? 50years M</th>\n",
              "      <th>Elderly ? 50years F</th>\n",
              "      <th>Youth 18-49years M</th>\n",
              "      <th>Youth 18-49years F</th>\n",
              "      <th>AEFI Serious</th>\n",
              "      <th>AEFI Unserious</th>\n",
              "      <th>Vaccine Dials Rcd</th>\n",
              "      <th>Vaccine Dials Used</th>\n",
              "    </tr>\n",
              "  </thead>\n",
              "  <tbody>\n",
              "    <tr>\n",
              "      <th>count</th>\n",
              "      <td>70.000000</td>\n",
              "      <td>70.000000</td>\n",
              "      <td>70.000000</td>\n",
              "      <td>70.000000</td>\n",
              "      <td>70.000000</td>\n",
              "      <td>70.000000</td>\n",
              "      <td>70.000000</td>\n",
              "      <td>70.000000</td>\n",
              "      <td>70.0</td>\n",
              "      <td>70.0</td>\n",
              "      <td>70.000000</td>\n",
              "      <td>70.000000</td>\n",
              "    </tr>\n",
              "    <tr>\n",
              "      <th>mean</th>\n",
              "      <td>1.857143</td>\n",
              "      <td>2.571429</td>\n",
              "      <td>15.214286</td>\n",
              "      <td>13.242857</td>\n",
              "      <td>37.585714</td>\n",
              "      <td>30.185714</td>\n",
              "      <td>76.885714</td>\n",
              "      <td>70.414286</td>\n",
              "      <td>0.0</td>\n",
              "      <td>0.0</td>\n",
              "      <td>19.771429</td>\n",
              "      <td>19.771429</td>\n",
              "    </tr>\n",
              "    <tr>\n",
              "      <th>std</th>\n",
              "      <td>2.751999</td>\n",
              "      <td>4.116321</td>\n",
              "      <td>17.154788</td>\n",
              "      <td>13.562989</td>\n",
              "      <td>29.450274</td>\n",
              "      <td>24.159070</td>\n",
              "      <td>61.318258</td>\n",
              "      <td>56.187701</td>\n",
              "      <td>0.0</td>\n",
              "      <td>0.0</td>\n",
              "      <td>13.570184</td>\n",
              "      <td>13.570184</td>\n",
              "    </tr>\n",
              "    <tr>\n",
              "      <th>min</th>\n",
              "      <td>0.000000</td>\n",
              "      <td>0.000000</td>\n",
              "      <td>0.000000</td>\n",
              "      <td>0.000000</td>\n",
              "      <td>0.000000</td>\n",
              "      <td>1.000000</td>\n",
              "      <td>0.000000</td>\n",
              "      <td>0.000000</td>\n",
              "      <td>0.0</td>\n",
              "      <td>0.0</td>\n",
              "      <td>1.000000</td>\n",
              "      <td>1.000000</td>\n",
              "    </tr>\n",
              "    <tr>\n",
              "      <th>25%</th>\n",
              "      <td>0.000000</td>\n",
              "      <td>0.000000</td>\n",
              "      <td>1.000000</td>\n",
              "      <td>1.000000</td>\n",
              "      <td>13.250000</td>\n",
              "      <td>11.250000</td>\n",
              "      <td>25.750000</td>\n",
              "      <td>25.500000</td>\n",
              "      <td>0.0</td>\n",
              "      <td>0.0</td>\n",
              "      <td>8.250000</td>\n",
              "      <td>8.250000</td>\n",
              "    </tr>\n",
              "    <tr>\n",
              "      <th>50%</th>\n",
              "      <td>0.500000</td>\n",
              "      <td>0.500000</td>\n",
              "      <td>10.500000</td>\n",
              "      <td>10.000000</td>\n",
              "      <td>29.500000</td>\n",
              "      <td>26.500000</td>\n",
              "      <td>67.500000</td>\n",
              "      <td>63.000000</td>\n",
              "      <td>0.0</td>\n",
              "      <td>0.0</td>\n",
              "      <td>19.500000</td>\n",
              "      <td>19.500000</td>\n",
              "    </tr>\n",
              "    <tr>\n",
              "      <th>75%</th>\n",
              "      <td>2.000000</td>\n",
              "      <td>3.000000</td>\n",
              "      <td>23.750000</td>\n",
              "      <td>21.000000</td>\n",
              "      <td>52.000000</td>\n",
              "      <td>44.250000</td>\n",
              "      <td>115.500000</td>\n",
              "      <td>107.500000</td>\n",
              "      <td>0.0</td>\n",
              "      <td>0.0</td>\n",
              "      <td>29.500000</td>\n",
              "      <td>29.500000</td>\n",
              "    </tr>\n",
              "    <tr>\n",
              "      <th>max</th>\n",
              "      <td>11.000000</td>\n",
              "      <td>20.000000</td>\n",
              "      <td>86.000000</td>\n",
              "      <td>71.000000</td>\n",
              "      <td>122.000000</td>\n",
              "      <td>108.000000</td>\n",
              "      <td>252.000000</td>\n",
              "      <td>261.000000</td>\n",
              "      <td>0.0</td>\n",
              "      <td>0.0</td>\n",
              "      <td>58.000000</td>\n",
              "      <td>58.000000</td>\n",
              "    </tr>\n",
              "  </tbody>\n",
              "</table>\n",
              "</div>\n",
              "      <button class=\"colab-df-convert\" onclick=\"convertToInteractive('df-50ec8552-18f4-4d2f-a437-d1fe883b3cbc')\"\n",
              "              title=\"Convert this dataframe to an interactive table.\"\n",
              "              style=\"display:none;\">\n",
              "        \n",
              "  <svg xmlns=\"http://www.w3.org/2000/svg\" height=\"24px\"viewBox=\"0 0 24 24\"\n",
              "       width=\"24px\">\n",
              "    <path d=\"M0 0h24v24H0V0z\" fill=\"none\"/>\n",
              "    <path d=\"M18.56 5.44l.94 2.06.94-2.06 2.06-.94-2.06-.94-.94-2.06-.94 2.06-2.06.94zm-11 1L8.5 8.5l.94-2.06 2.06-.94-2.06-.94L8.5 2.5l-.94 2.06-2.06.94zm10 10l.94 2.06.94-2.06 2.06-.94-2.06-.94-.94-2.06-.94 2.06-2.06.94z\"/><path d=\"M17.41 7.96l-1.37-1.37c-.4-.4-.92-.59-1.43-.59-.52 0-1.04.2-1.43.59L10.3 9.45l-7.72 7.72c-.78.78-.78 2.05 0 2.83L4 21.41c.39.39.9.59 1.41.59.51 0 1.02-.2 1.41-.59l7.78-7.78 2.81-2.81c.8-.78.8-2.07 0-2.86zM5.41 20L4 18.59l7.72-7.72 1.47 1.35L5.41 20z\"/>\n",
              "  </svg>\n",
              "      </button>\n",
              "      \n",
              "  <style>\n",
              "    .colab-df-container {\n",
              "      display:flex;\n",
              "      flex-wrap:wrap;\n",
              "      gap: 12px;\n",
              "    }\n",
              "\n",
              "    .colab-df-convert {\n",
              "      background-color: #E8F0FE;\n",
              "      border: none;\n",
              "      border-radius: 50%;\n",
              "      cursor: pointer;\n",
              "      display: none;\n",
              "      fill: #1967D2;\n",
              "      height: 32px;\n",
              "      padding: 0 0 0 0;\n",
              "      width: 32px;\n",
              "    }\n",
              "\n",
              "    .colab-df-convert:hover {\n",
              "      background-color: #E2EBFA;\n",
              "      box-shadow: 0px 1px 2px rgba(60, 64, 67, 0.3), 0px 1px 3px 1px rgba(60, 64, 67, 0.15);\n",
              "      fill: #174EA6;\n",
              "    }\n",
              "\n",
              "    [theme=dark] .colab-df-convert {\n",
              "      background-color: #3B4455;\n",
              "      fill: #D2E3FC;\n",
              "    }\n",
              "\n",
              "    [theme=dark] .colab-df-convert:hover {\n",
              "      background-color: #434B5C;\n",
              "      box-shadow: 0px 1px 3px 1px rgba(0, 0, 0, 0.15);\n",
              "      filter: drop-shadow(0px 1px 2px rgba(0, 0, 0, 0.3));\n",
              "      fill: #FFFFFF;\n",
              "    }\n",
              "  </style>\n",
              "\n",
              "      <script>\n",
              "        const buttonEl =\n",
              "          document.querySelector('#df-50ec8552-18f4-4d2f-a437-d1fe883b3cbc button.colab-df-convert');\n",
              "        buttonEl.style.display =\n",
              "          google.colab.kernel.accessAllowed ? 'block' : 'none';\n",
              "\n",
              "        async function convertToInteractive(key) {\n",
              "          const element = document.querySelector('#df-50ec8552-18f4-4d2f-a437-d1fe883b3cbc');\n",
              "          const dataTable =\n",
              "            await google.colab.kernel.invokeFunction('convertToInteractive',\n",
              "                                                     [key], {});\n",
              "          if (!dataTable) return;\n",
              "\n",
              "          const docLinkHtml = 'Like what you see? Visit the ' +\n",
              "            '<a target=\"_blank\" href=https://colab.research.google.com/notebooks/data_table.ipynb>data table notebook</a>'\n",
              "            + ' to learn more about interactive tables.';\n",
              "          element.innerHTML = '';\n",
              "          dataTable['output_type'] = 'display_data';\n",
              "          await google.colab.output.renderOutput(dataTable, element);\n",
              "          const docLink = document.createElement('div');\n",
              "          docLink.innerHTML = docLinkHtml;\n",
              "          element.appendChild(docLink);\n",
              "        }\n",
              "      </script>\n",
              "    </div>\n",
              "  </div>\n",
              "  "
            ]
          },
          "metadata": {},
          "execution_count": 10
        }
      ]
    },
    {
      "cell_type": "code",
      "source": [
        "#grouping features into subsets of dataframe\n",
        "#subsets of dataframe\n",
        "health_care_workers = df[[\"HCWs M\", \"HCWs F\"]]\n",
        "\n",
        "other_frontline_workers = df[[\"Other FLWs M\", \"Other FLWs F\"]]\n",
        "\n",
        "elderly_50_and_above = df[[\"Elderly ? 50years M\", \"Elderly ? 50years F\"]]\n",
        "\n",
        "youths = df[[\"Youth 18-49years M\", \"Youth 18-49years F\"]]"
      ],
      "metadata": {
        "id": "IcG74QXI2Sl_"
      },
      "execution_count": null,
      "outputs": []
    },
    {
      "cell_type": "code",
      "source": [
        "#summary statistics of healthcare workers\n",
        "health_care_workers.describe()"
      ],
      "metadata": {
        "colab": {
          "base_uri": "https://localhost:8080/"
        },
        "id": "_qqagCrs22dn",
        "outputId": "0c40ae37-a8fd-4797-ead7-9fda09e68b2e"
      },
      "execution_count": null,
      "outputs": [
        {
          "output_type": "execute_result",
          "data": {
            "text/plain": [
              "          HCWs M     HCWs F\n",
              "count  70.000000  70.000000\n",
              "mean    1.857143   2.571429\n",
              "std     2.751999   4.116321\n",
              "min     0.000000   0.000000\n",
              "25%     0.000000   0.000000\n",
              "50%     0.500000   0.500000\n",
              "75%     2.000000   3.000000\n",
              "max    11.000000  20.000000"
            ],
            "text/html": [
              "\n",
              "  <div id=\"df-c9ffa3ee-a32d-4c99-a42f-b6479b8089df\">\n",
              "    <div class=\"colab-df-container\">\n",
              "      <div>\n",
              "<style scoped>\n",
              "    .dataframe tbody tr th:only-of-type {\n",
              "        vertical-align: middle;\n",
              "    }\n",
              "\n",
              "    .dataframe tbody tr th {\n",
              "        vertical-align: top;\n",
              "    }\n",
              "\n",
              "    .dataframe thead th {\n",
              "        text-align: right;\n",
              "    }\n",
              "</style>\n",
              "<table border=\"1\" class=\"dataframe\">\n",
              "  <thead>\n",
              "    <tr style=\"text-align: right;\">\n",
              "      <th></th>\n",
              "      <th>HCWs M</th>\n",
              "      <th>HCWs F</th>\n",
              "    </tr>\n",
              "  </thead>\n",
              "  <tbody>\n",
              "    <tr>\n",
              "      <th>count</th>\n",
              "      <td>70.000000</td>\n",
              "      <td>70.000000</td>\n",
              "    </tr>\n",
              "    <tr>\n",
              "      <th>mean</th>\n",
              "      <td>1.857143</td>\n",
              "      <td>2.571429</td>\n",
              "    </tr>\n",
              "    <tr>\n",
              "      <th>std</th>\n",
              "      <td>2.751999</td>\n",
              "      <td>4.116321</td>\n",
              "    </tr>\n",
              "    <tr>\n",
              "      <th>min</th>\n",
              "      <td>0.000000</td>\n",
              "      <td>0.000000</td>\n",
              "    </tr>\n",
              "    <tr>\n",
              "      <th>25%</th>\n",
              "      <td>0.000000</td>\n",
              "      <td>0.000000</td>\n",
              "    </tr>\n",
              "    <tr>\n",
              "      <th>50%</th>\n",
              "      <td>0.500000</td>\n",
              "      <td>0.500000</td>\n",
              "    </tr>\n",
              "    <tr>\n",
              "      <th>75%</th>\n",
              "      <td>2.000000</td>\n",
              "      <td>3.000000</td>\n",
              "    </tr>\n",
              "    <tr>\n",
              "      <th>max</th>\n",
              "      <td>11.000000</td>\n",
              "      <td>20.000000</td>\n",
              "    </tr>\n",
              "  </tbody>\n",
              "</table>\n",
              "</div>\n",
              "      <button class=\"colab-df-convert\" onclick=\"convertToInteractive('df-c9ffa3ee-a32d-4c99-a42f-b6479b8089df')\"\n",
              "              title=\"Convert this dataframe to an interactive table.\"\n",
              "              style=\"display:none;\">\n",
              "        \n",
              "  <svg xmlns=\"http://www.w3.org/2000/svg\" height=\"24px\"viewBox=\"0 0 24 24\"\n",
              "       width=\"24px\">\n",
              "    <path d=\"M0 0h24v24H0V0z\" fill=\"none\"/>\n",
              "    <path d=\"M18.56 5.44l.94 2.06.94-2.06 2.06-.94-2.06-.94-.94-2.06-.94 2.06-2.06.94zm-11 1L8.5 8.5l.94-2.06 2.06-.94-2.06-.94L8.5 2.5l-.94 2.06-2.06.94zm10 10l.94 2.06.94-2.06 2.06-.94-2.06-.94-.94-2.06-.94 2.06-2.06.94z\"/><path d=\"M17.41 7.96l-1.37-1.37c-.4-.4-.92-.59-1.43-.59-.52 0-1.04.2-1.43.59L10.3 9.45l-7.72 7.72c-.78.78-.78 2.05 0 2.83L4 21.41c.39.39.9.59 1.41.59.51 0 1.02-.2 1.41-.59l7.78-7.78 2.81-2.81c.8-.78.8-2.07 0-2.86zM5.41 20L4 18.59l7.72-7.72 1.47 1.35L5.41 20z\"/>\n",
              "  </svg>\n",
              "      </button>\n",
              "      \n",
              "  <style>\n",
              "    .colab-df-container {\n",
              "      display:flex;\n",
              "      flex-wrap:wrap;\n",
              "      gap: 12px;\n",
              "    }\n",
              "\n",
              "    .colab-df-convert {\n",
              "      background-color: #E8F0FE;\n",
              "      border: none;\n",
              "      border-radius: 50%;\n",
              "      cursor: pointer;\n",
              "      display: none;\n",
              "      fill: #1967D2;\n",
              "      height: 32px;\n",
              "      padding: 0 0 0 0;\n",
              "      width: 32px;\n",
              "    }\n",
              "\n",
              "    .colab-df-convert:hover {\n",
              "      background-color: #E2EBFA;\n",
              "      box-shadow: 0px 1px 2px rgba(60, 64, 67, 0.3), 0px 1px 3px 1px rgba(60, 64, 67, 0.15);\n",
              "      fill: #174EA6;\n",
              "    }\n",
              "\n",
              "    [theme=dark] .colab-df-convert {\n",
              "      background-color: #3B4455;\n",
              "      fill: #D2E3FC;\n",
              "    }\n",
              "\n",
              "    [theme=dark] .colab-df-convert:hover {\n",
              "      background-color: #434B5C;\n",
              "      box-shadow: 0px 1px 3px 1px rgba(0, 0, 0, 0.15);\n",
              "      filter: drop-shadow(0px 1px 2px rgba(0, 0, 0, 0.3));\n",
              "      fill: #FFFFFF;\n",
              "    }\n",
              "  </style>\n",
              "\n",
              "      <script>\n",
              "        const buttonEl =\n",
              "          document.querySelector('#df-c9ffa3ee-a32d-4c99-a42f-b6479b8089df button.colab-df-convert');\n",
              "        buttonEl.style.display =\n",
              "          google.colab.kernel.accessAllowed ? 'block' : 'none';\n",
              "\n",
              "        async function convertToInteractive(key) {\n",
              "          const element = document.querySelector('#df-c9ffa3ee-a32d-4c99-a42f-b6479b8089df');\n",
              "          const dataTable =\n",
              "            await google.colab.kernel.invokeFunction('convertToInteractive',\n",
              "                                                     [key], {});\n",
              "          if (!dataTable) return;\n",
              "\n",
              "          const docLinkHtml = 'Like what you see? Visit the ' +\n",
              "            '<a target=\"_blank\" href=https://colab.research.google.com/notebooks/data_table.ipynb>data table notebook</a>'\n",
              "            + ' to learn more about interactive tables.';\n",
              "          element.innerHTML = '';\n",
              "          dataTable['output_type'] = 'display_data';\n",
              "          await google.colab.output.renderOutput(dataTable, element);\n",
              "          const docLink = document.createElement('div');\n",
              "          docLink.innerHTML = docLinkHtml;\n",
              "          element.appendChild(docLink);\n",
              "        }\n",
              "      </script>\n",
              "    </div>\n",
              "  </div>\n",
              "  "
            ]
          },
          "metadata": {},
          "execution_count": 12
        }
      ]
    },
    {
      "cell_type": "code",
      "source": [
        "#the range of the subset healthcare workers\n",
        "range = health_care_workers.max() - health_care_workers.min()\n",
        "range"
      ],
      "metadata": {
        "colab": {
          "base_uri": "https://localhost:8080/"
        },
        "id": "0jM22tJG7TUa",
        "outputId": "43389d7f-f9af-44b1-eff5-6c39eae08684"
      },
      "execution_count": null,
      "outputs": [
        {
          "output_type": "execute_result",
          "data": {
            "text/plain": [
              "HCWs M    11\n",
              "HCWs F    20\n",
              "dtype: int64"
            ]
          },
          "metadata": {},
          "execution_count": 13
        }
      ]
    },
    {
      "cell_type": "code",
      "source": [
        "#the first quartile of the subset healthcare workers\n",
        "Q1 = health_care_workers.quantile(0.25)\n",
        "Q1"
      ],
      "metadata": {
        "colab": {
          "base_uri": "https://localhost:8080/"
        },
        "id": "79o4SBsk9WIo",
        "outputId": "ba61a337-e6cf-440c-b969-54268e167e2e"
      },
      "execution_count": null,
      "outputs": [
        {
          "output_type": "execute_result",
          "data": {
            "text/plain": [
              "HCWs M    0.0\n",
              "HCWs F    0.0\n",
              "Name: 0.25, dtype: float64"
            ]
          },
          "metadata": {},
          "execution_count": 14
        }
      ]
    },
    {
      "cell_type": "code",
      "source": [
        "#the second quartile of the subset healthcare workers\n",
        "Q2 = health_care_workers.quantile(0.5)\n",
        "Q2"
      ],
      "metadata": {
        "colab": {
          "base_uri": "https://localhost:8080/"
        },
        "id": "ZMr3rTys-FPv",
        "outputId": "46238853-ae22-4edb-c7f5-bb22f07c2ffd"
      },
      "execution_count": null,
      "outputs": [
        {
          "output_type": "execute_result",
          "data": {
            "text/plain": [
              "HCWs M    0.5\n",
              "HCWs F    0.5\n",
              "Name: 0.5, dtype: float64"
            ]
          },
          "metadata": {},
          "execution_count": 15
        }
      ]
    },
    {
      "cell_type": "code",
      "source": [
        "#the third quartile of the subset healthcare workers\n",
        "Q3 = health_care_workers.quantile(0.75)\n",
        "Q3"
      ],
      "metadata": {
        "colab": {
          "base_uri": "https://localhost:8080/"
        },
        "id": "BlaiOY-N-UYb",
        "outputId": "4941232f-b782-4470-c151-acf1608de4a9"
      },
      "execution_count": null,
      "outputs": [
        {
          "output_type": "execute_result",
          "data": {
            "text/plain": [
              "HCWs M    2.0\n",
              "HCWs F    3.0\n",
              "Name: 0.75, dtype: float64"
            ]
          },
          "metadata": {},
          "execution_count": 16
        }
      ]
    },
    {
      "cell_type": "code",
      "source": [
        "#middle 50% of the subset healthcare workers\n",
        "IQR = Q3 - Q1\n",
        "IQR"
      ],
      "metadata": {
        "colab": {
          "base_uri": "https://localhost:8080/"
        },
        "id": "Hv6m499E76fL",
        "outputId": "be4d7aca-4e1a-4233-beff-628ff67804f9"
      },
      "execution_count": null,
      "outputs": [
        {
          "output_type": "execute_result",
          "data": {
            "text/plain": [
              "HCWs M    2.0\n",
              "HCWs F    3.0\n",
              "dtype: float64"
            ]
          },
          "metadata": {},
          "execution_count": 17
        }
      ]
    },
    {
      "cell_type": "code",
      "source": [
        "#dataframe of combined subsets/features\n",
        "moderna = pd.concat([health_care_workers, other_frontline_workers, elderly_50_and_above, youths], axis=1)"
      ],
      "metadata": {
        "id": "naiYFi69-shx"
      },
      "execution_count": null,
      "outputs": []
    },
    {
      "cell_type": "code",
      "source": [
        "#summary statistics for moderna dataframe\n",
        "moderna.describe()"
      ],
      "metadata": {
        "colab": {
          "base_uri": "https://localhost:8080/"
        },
        "id": "dbgrbAkl_Lct",
        "outputId": "9a62548a-f90a-442f-a125-0357391c4a0d"
      },
      "execution_count": null,
      "outputs": [
        {
          "output_type": "execute_result",
          "data": {
            "text/plain": [
              "          HCWs M     HCWs F  Other FLWs M  Other FLWs F  Elderly ? 50years M  \\\n",
              "count  70.000000  70.000000     70.000000     70.000000            70.000000   \n",
              "mean    1.857143   2.571429     15.214286     13.242857            37.585714   \n",
              "std     2.751999   4.116321     17.154788     13.562989            29.450274   \n",
              "min     0.000000   0.000000      0.000000      0.000000             0.000000   \n",
              "25%     0.000000   0.000000      1.000000      1.000000            13.250000   \n",
              "50%     0.500000   0.500000     10.500000     10.000000            29.500000   \n",
              "75%     2.000000   3.000000     23.750000     21.000000            52.000000   \n",
              "max    11.000000  20.000000     86.000000     71.000000           122.000000   \n",
              "\n",
              "       Elderly ? 50years F  Youth 18-49years M  Youth 18-49years F  \n",
              "count            70.000000           70.000000           70.000000  \n",
              "mean             30.185714           76.885714           70.414286  \n",
              "std              24.159070           61.318258           56.187701  \n",
              "min               1.000000            0.000000            0.000000  \n",
              "25%              11.250000           25.750000           25.500000  \n",
              "50%              26.500000           67.500000           63.000000  \n",
              "75%              44.250000          115.500000          107.500000  \n",
              "max             108.000000          252.000000          261.000000  "
            ],
            "text/html": [
              "\n",
              "  <div id=\"df-0d57142f-0be2-46c3-8015-11ce785774ad\">\n",
              "    <div class=\"colab-df-container\">\n",
              "      <div>\n",
              "<style scoped>\n",
              "    .dataframe tbody tr th:only-of-type {\n",
              "        vertical-align: middle;\n",
              "    }\n",
              "\n",
              "    .dataframe tbody tr th {\n",
              "        vertical-align: top;\n",
              "    }\n",
              "\n",
              "    .dataframe thead th {\n",
              "        text-align: right;\n",
              "    }\n",
              "</style>\n",
              "<table border=\"1\" class=\"dataframe\">\n",
              "  <thead>\n",
              "    <tr style=\"text-align: right;\">\n",
              "      <th></th>\n",
              "      <th>HCWs M</th>\n",
              "      <th>HCWs F</th>\n",
              "      <th>Other FLWs M</th>\n",
              "      <th>Other FLWs F</th>\n",
              "      <th>Elderly ? 50years M</th>\n",
              "      <th>Elderly ? 50years F</th>\n",
              "      <th>Youth 18-49years M</th>\n",
              "      <th>Youth 18-49years F</th>\n",
              "    </tr>\n",
              "  </thead>\n",
              "  <tbody>\n",
              "    <tr>\n",
              "      <th>count</th>\n",
              "      <td>70.000000</td>\n",
              "      <td>70.000000</td>\n",
              "      <td>70.000000</td>\n",
              "      <td>70.000000</td>\n",
              "      <td>70.000000</td>\n",
              "      <td>70.000000</td>\n",
              "      <td>70.000000</td>\n",
              "      <td>70.000000</td>\n",
              "    </tr>\n",
              "    <tr>\n",
              "      <th>mean</th>\n",
              "      <td>1.857143</td>\n",
              "      <td>2.571429</td>\n",
              "      <td>15.214286</td>\n",
              "      <td>13.242857</td>\n",
              "      <td>37.585714</td>\n",
              "      <td>30.185714</td>\n",
              "      <td>76.885714</td>\n",
              "      <td>70.414286</td>\n",
              "    </tr>\n",
              "    <tr>\n",
              "      <th>std</th>\n",
              "      <td>2.751999</td>\n",
              "      <td>4.116321</td>\n",
              "      <td>17.154788</td>\n",
              "      <td>13.562989</td>\n",
              "      <td>29.450274</td>\n",
              "      <td>24.159070</td>\n",
              "      <td>61.318258</td>\n",
              "      <td>56.187701</td>\n",
              "    </tr>\n",
              "    <tr>\n",
              "      <th>min</th>\n",
              "      <td>0.000000</td>\n",
              "      <td>0.000000</td>\n",
              "      <td>0.000000</td>\n",
              "      <td>0.000000</td>\n",
              "      <td>0.000000</td>\n",
              "      <td>1.000000</td>\n",
              "      <td>0.000000</td>\n",
              "      <td>0.000000</td>\n",
              "    </tr>\n",
              "    <tr>\n",
              "      <th>25%</th>\n",
              "      <td>0.000000</td>\n",
              "      <td>0.000000</td>\n",
              "      <td>1.000000</td>\n",
              "      <td>1.000000</td>\n",
              "      <td>13.250000</td>\n",
              "      <td>11.250000</td>\n",
              "      <td>25.750000</td>\n",
              "      <td>25.500000</td>\n",
              "    </tr>\n",
              "    <tr>\n",
              "      <th>50%</th>\n",
              "      <td>0.500000</td>\n",
              "      <td>0.500000</td>\n",
              "      <td>10.500000</td>\n",
              "      <td>10.000000</td>\n",
              "      <td>29.500000</td>\n",
              "      <td>26.500000</td>\n",
              "      <td>67.500000</td>\n",
              "      <td>63.000000</td>\n",
              "    </tr>\n",
              "    <tr>\n",
              "      <th>75%</th>\n",
              "      <td>2.000000</td>\n",
              "      <td>3.000000</td>\n",
              "      <td>23.750000</td>\n",
              "      <td>21.000000</td>\n",
              "      <td>52.000000</td>\n",
              "      <td>44.250000</td>\n",
              "      <td>115.500000</td>\n",
              "      <td>107.500000</td>\n",
              "    </tr>\n",
              "    <tr>\n",
              "      <th>max</th>\n",
              "      <td>11.000000</td>\n",
              "      <td>20.000000</td>\n",
              "      <td>86.000000</td>\n",
              "      <td>71.000000</td>\n",
              "      <td>122.000000</td>\n",
              "      <td>108.000000</td>\n",
              "      <td>252.000000</td>\n",
              "      <td>261.000000</td>\n",
              "    </tr>\n",
              "  </tbody>\n",
              "</table>\n",
              "</div>\n",
              "      <button class=\"colab-df-convert\" onclick=\"convertToInteractive('df-0d57142f-0be2-46c3-8015-11ce785774ad')\"\n",
              "              title=\"Convert this dataframe to an interactive table.\"\n",
              "              style=\"display:none;\">\n",
              "        \n",
              "  <svg xmlns=\"http://www.w3.org/2000/svg\" height=\"24px\"viewBox=\"0 0 24 24\"\n",
              "       width=\"24px\">\n",
              "    <path d=\"M0 0h24v24H0V0z\" fill=\"none\"/>\n",
              "    <path d=\"M18.56 5.44l.94 2.06.94-2.06 2.06-.94-2.06-.94-.94-2.06-.94 2.06-2.06.94zm-11 1L8.5 8.5l.94-2.06 2.06-.94-2.06-.94L8.5 2.5l-.94 2.06-2.06.94zm10 10l.94 2.06.94-2.06 2.06-.94-2.06-.94-.94-2.06-.94 2.06-2.06.94z\"/><path d=\"M17.41 7.96l-1.37-1.37c-.4-.4-.92-.59-1.43-.59-.52 0-1.04.2-1.43.59L10.3 9.45l-7.72 7.72c-.78.78-.78 2.05 0 2.83L4 21.41c.39.39.9.59 1.41.59.51 0 1.02-.2 1.41-.59l7.78-7.78 2.81-2.81c.8-.78.8-2.07 0-2.86zM5.41 20L4 18.59l7.72-7.72 1.47 1.35L5.41 20z\"/>\n",
              "  </svg>\n",
              "      </button>\n",
              "      \n",
              "  <style>\n",
              "    .colab-df-container {\n",
              "      display:flex;\n",
              "      flex-wrap:wrap;\n",
              "      gap: 12px;\n",
              "    }\n",
              "\n",
              "    .colab-df-convert {\n",
              "      background-color: #E8F0FE;\n",
              "      border: none;\n",
              "      border-radius: 50%;\n",
              "      cursor: pointer;\n",
              "      display: none;\n",
              "      fill: #1967D2;\n",
              "      height: 32px;\n",
              "      padding: 0 0 0 0;\n",
              "      width: 32px;\n",
              "    }\n",
              "\n",
              "    .colab-df-convert:hover {\n",
              "      background-color: #E2EBFA;\n",
              "      box-shadow: 0px 1px 2px rgba(60, 64, 67, 0.3), 0px 1px 3px 1px rgba(60, 64, 67, 0.15);\n",
              "      fill: #174EA6;\n",
              "    }\n",
              "\n",
              "    [theme=dark] .colab-df-convert {\n",
              "      background-color: #3B4455;\n",
              "      fill: #D2E3FC;\n",
              "    }\n",
              "\n",
              "    [theme=dark] .colab-df-convert:hover {\n",
              "      background-color: #434B5C;\n",
              "      box-shadow: 0px 1px 3px 1px rgba(0, 0, 0, 0.15);\n",
              "      filter: drop-shadow(0px 1px 2px rgba(0, 0, 0, 0.3));\n",
              "      fill: #FFFFFF;\n",
              "    }\n",
              "  </style>\n",
              "\n",
              "      <script>\n",
              "        const buttonEl =\n",
              "          document.querySelector('#df-0d57142f-0be2-46c3-8015-11ce785774ad button.colab-df-convert');\n",
              "        buttonEl.style.display =\n",
              "          google.colab.kernel.accessAllowed ? 'block' : 'none';\n",
              "\n",
              "        async function convertToInteractive(key) {\n",
              "          const element = document.querySelector('#df-0d57142f-0be2-46c3-8015-11ce785774ad');\n",
              "          const dataTable =\n",
              "            await google.colab.kernel.invokeFunction('convertToInteractive',\n",
              "                                                     [key], {});\n",
              "          if (!dataTable) return;\n",
              "\n",
              "          const docLinkHtml = 'Like what you see? Visit the ' +\n",
              "            '<a target=\"_blank\" href=https://colab.research.google.com/notebooks/data_table.ipynb>data table notebook</a>'\n",
              "            + ' to learn more about interactive tables.';\n",
              "          element.innerHTML = '';\n",
              "          dataTable['output_type'] = 'display_data';\n",
              "          await google.colab.output.renderOutput(dataTable, element);\n",
              "          const docLink = document.createElement('div');\n",
              "          docLink.innerHTML = docLinkHtml;\n",
              "          element.appendChild(docLink);\n",
              "        }\n",
              "      </script>\n",
              "    </div>\n",
              "  </div>\n",
              "  "
            ]
          },
          "metadata": {},
          "execution_count": 19
        }
      ]
    },
    {
      "cell_type": "markdown",
      "source": [
        "*Interpreting the tables above*\n",
        "\n",
        "The *count* represents total number of entries in each column\n",
        "\n",
        "The *mean* is the average number of persons vaccinated of each feature\n",
        "\n",
        "The *std* is the standard deviation of each feature\n",
        "\n",
        "The *min* is the minimum value of each feature\n",
        "\n",
        "*25%* represents the first quartile **Q1** of each feature\n",
        "\n",
        "*50%* represents the second quartile or median value **Q2** of each feature\n",
        "\n",
        "*75%* represents the third quartile **Q3** of each feature\n",
        "\n",
        "The *max* is the maximum value of each feature\n",
        "\n",
        "\n",
        "The *min*, *25%*, *50%*, *75%*, and *max* values give the **Five number summary** of each feature.\n",
        "\n"
      ],
      "metadata": {
        "id": "rS6HgC0g3Yqr"
      }
    },
    {
      "cell_type": "code",
      "source": [
        "#covariance among features\n",
        "moderna.cov()"
      ],
      "metadata": {
        "colab": {
          "base_uri": "https://localhost:8080/"
        },
        "id": "IgXUFMpYAZZP",
        "outputId": "7b61a148-91bd-423e-ab69-75d03599d3f5"
      },
      "execution_count": null,
      "outputs": [
        {
          "output_type": "execute_result",
          "data": {
            "text/plain": [
              "                         HCWs M      HCWs F  Other FLWs M  Other FLWs F  \\\n",
              "HCWs M                 7.573499    7.416149      4.625259      3.020704   \n",
              "HCWs F                 7.416149   16.944099      1.933747     -1.706004   \n",
              "Other FLWs M           4.625259    1.933747    294.286749    211.048654   \n",
              "Other FLWs F           3.020704   -1.706004    211.048654    183.954658   \n",
              "Elderly ? 50years M   30.780538   36.167702    230.814700    178.073085   \n",
              "Elderly ? 50years F   17.360248   17.051760    242.945135    183.736853   \n",
              "Youth 18-49years M   107.896480  126.703934    563.937888    455.578882   \n",
              "Youth 18-49years F    89.378882  112.426501    553.199793    424.013872   \n",
              "\n",
              "                     Elderly ? 50years M  Elderly ? 50years F  \\\n",
              "HCWs M                         30.780538            17.360248   \n",
              "HCWs F                         36.167702            17.051760   \n",
              "Other FLWs M                  230.814700           242.945135   \n",
              "Other FLWs F                  178.073085           183.736853   \n",
              "Elderly ? 50years M           867.318634           663.425880   \n",
              "Elderly ? 50years F           663.425880           583.660663   \n",
              "Youth 18-49years M           1165.169358           886.673706   \n",
              "Youth 18-49years F           1116.681366           904.458178   \n",
              "\n",
              "                     Youth 18-49years M  Youth 18-49years F  \n",
              "HCWs M                       107.896480           89.378882  \n",
              "HCWs F                       126.703934          112.426501  \n",
              "Other FLWs M                 563.937888          553.199793  \n",
              "Other FLWs F                 455.578882          424.013872  \n",
              "Elderly ? 50years M         1165.169358         1116.681366  \n",
              "Elderly ? 50years F          886.673706          904.458178  \n",
              "Youth 18-49years M          3759.928778         3285.453830  \n",
              "Youth 18-49years F          3285.453830         3157.057764  "
            ],
            "text/html": [
              "\n",
              "  <div id=\"df-5a3e88a1-399a-41ea-b83e-8caf3dabe785\">\n",
              "    <div class=\"colab-df-container\">\n",
              "      <div>\n",
              "<style scoped>\n",
              "    .dataframe tbody tr th:only-of-type {\n",
              "        vertical-align: middle;\n",
              "    }\n",
              "\n",
              "    .dataframe tbody tr th {\n",
              "        vertical-align: top;\n",
              "    }\n",
              "\n",
              "    .dataframe thead th {\n",
              "        text-align: right;\n",
              "    }\n",
              "</style>\n",
              "<table border=\"1\" class=\"dataframe\">\n",
              "  <thead>\n",
              "    <tr style=\"text-align: right;\">\n",
              "      <th></th>\n",
              "      <th>HCWs M</th>\n",
              "      <th>HCWs F</th>\n",
              "      <th>Other FLWs M</th>\n",
              "      <th>Other FLWs F</th>\n",
              "      <th>Elderly ? 50years M</th>\n",
              "      <th>Elderly ? 50years F</th>\n",
              "      <th>Youth 18-49years M</th>\n",
              "      <th>Youth 18-49years F</th>\n",
              "    </tr>\n",
              "  </thead>\n",
              "  <tbody>\n",
              "    <tr>\n",
              "      <th>HCWs M</th>\n",
              "      <td>7.573499</td>\n",
              "      <td>7.416149</td>\n",
              "      <td>4.625259</td>\n",
              "      <td>3.020704</td>\n",
              "      <td>30.780538</td>\n",
              "      <td>17.360248</td>\n",
              "      <td>107.896480</td>\n",
              "      <td>89.378882</td>\n",
              "    </tr>\n",
              "    <tr>\n",
              "      <th>HCWs F</th>\n",
              "      <td>7.416149</td>\n",
              "      <td>16.944099</td>\n",
              "      <td>1.933747</td>\n",
              "      <td>-1.706004</td>\n",
              "      <td>36.167702</td>\n",
              "      <td>17.051760</td>\n",
              "      <td>126.703934</td>\n",
              "      <td>112.426501</td>\n",
              "    </tr>\n",
              "    <tr>\n",
              "      <th>Other FLWs M</th>\n",
              "      <td>4.625259</td>\n",
              "      <td>1.933747</td>\n",
              "      <td>294.286749</td>\n",
              "      <td>211.048654</td>\n",
              "      <td>230.814700</td>\n",
              "      <td>242.945135</td>\n",
              "      <td>563.937888</td>\n",
              "      <td>553.199793</td>\n",
              "    </tr>\n",
              "    <tr>\n",
              "      <th>Other FLWs F</th>\n",
              "      <td>3.020704</td>\n",
              "      <td>-1.706004</td>\n",
              "      <td>211.048654</td>\n",
              "      <td>183.954658</td>\n",
              "      <td>178.073085</td>\n",
              "      <td>183.736853</td>\n",
              "      <td>455.578882</td>\n",
              "      <td>424.013872</td>\n",
              "    </tr>\n",
              "    <tr>\n",
              "      <th>Elderly ? 50years M</th>\n",
              "      <td>30.780538</td>\n",
              "      <td>36.167702</td>\n",
              "      <td>230.814700</td>\n",
              "      <td>178.073085</td>\n",
              "      <td>867.318634</td>\n",
              "      <td>663.425880</td>\n",
              "      <td>1165.169358</td>\n",
              "      <td>1116.681366</td>\n",
              "    </tr>\n",
              "    <tr>\n",
              "      <th>Elderly ? 50years F</th>\n",
              "      <td>17.360248</td>\n",
              "      <td>17.051760</td>\n",
              "      <td>242.945135</td>\n",
              "      <td>183.736853</td>\n",
              "      <td>663.425880</td>\n",
              "      <td>583.660663</td>\n",
              "      <td>886.673706</td>\n",
              "      <td>904.458178</td>\n",
              "    </tr>\n",
              "    <tr>\n",
              "      <th>Youth 18-49years M</th>\n",
              "      <td>107.896480</td>\n",
              "      <td>126.703934</td>\n",
              "      <td>563.937888</td>\n",
              "      <td>455.578882</td>\n",
              "      <td>1165.169358</td>\n",
              "      <td>886.673706</td>\n",
              "      <td>3759.928778</td>\n",
              "      <td>3285.453830</td>\n",
              "    </tr>\n",
              "    <tr>\n",
              "      <th>Youth 18-49years F</th>\n",
              "      <td>89.378882</td>\n",
              "      <td>112.426501</td>\n",
              "      <td>553.199793</td>\n",
              "      <td>424.013872</td>\n",
              "      <td>1116.681366</td>\n",
              "      <td>904.458178</td>\n",
              "      <td>3285.453830</td>\n",
              "      <td>3157.057764</td>\n",
              "    </tr>\n",
              "  </tbody>\n",
              "</table>\n",
              "</div>\n",
              "      <button class=\"colab-df-convert\" onclick=\"convertToInteractive('df-5a3e88a1-399a-41ea-b83e-8caf3dabe785')\"\n",
              "              title=\"Convert this dataframe to an interactive table.\"\n",
              "              style=\"display:none;\">\n",
              "        \n",
              "  <svg xmlns=\"http://www.w3.org/2000/svg\" height=\"24px\"viewBox=\"0 0 24 24\"\n",
              "       width=\"24px\">\n",
              "    <path d=\"M0 0h24v24H0V0z\" fill=\"none\"/>\n",
              "    <path d=\"M18.56 5.44l.94 2.06.94-2.06 2.06-.94-2.06-.94-.94-2.06-.94 2.06-2.06.94zm-11 1L8.5 8.5l.94-2.06 2.06-.94-2.06-.94L8.5 2.5l-.94 2.06-2.06.94zm10 10l.94 2.06.94-2.06 2.06-.94-2.06-.94-.94-2.06-.94 2.06-2.06.94z\"/><path d=\"M17.41 7.96l-1.37-1.37c-.4-.4-.92-.59-1.43-.59-.52 0-1.04.2-1.43.59L10.3 9.45l-7.72 7.72c-.78.78-.78 2.05 0 2.83L4 21.41c.39.39.9.59 1.41.59.51 0 1.02-.2 1.41-.59l7.78-7.78 2.81-2.81c.8-.78.8-2.07 0-2.86zM5.41 20L4 18.59l7.72-7.72 1.47 1.35L5.41 20z\"/>\n",
              "  </svg>\n",
              "      </button>\n",
              "      \n",
              "  <style>\n",
              "    .colab-df-container {\n",
              "      display:flex;\n",
              "      flex-wrap:wrap;\n",
              "      gap: 12px;\n",
              "    }\n",
              "\n",
              "    .colab-df-convert {\n",
              "      background-color: #E8F0FE;\n",
              "      border: none;\n",
              "      border-radius: 50%;\n",
              "      cursor: pointer;\n",
              "      display: none;\n",
              "      fill: #1967D2;\n",
              "      height: 32px;\n",
              "      padding: 0 0 0 0;\n",
              "      width: 32px;\n",
              "    }\n",
              "\n",
              "    .colab-df-convert:hover {\n",
              "      background-color: #E2EBFA;\n",
              "      box-shadow: 0px 1px 2px rgba(60, 64, 67, 0.3), 0px 1px 3px 1px rgba(60, 64, 67, 0.15);\n",
              "      fill: #174EA6;\n",
              "    }\n",
              "\n",
              "    [theme=dark] .colab-df-convert {\n",
              "      background-color: #3B4455;\n",
              "      fill: #D2E3FC;\n",
              "    }\n",
              "\n",
              "    [theme=dark] .colab-df-convert:hover {\n",
              "      background-color: #434B5C;\n",
              "      box-shadow: 0px 1px 3px 1px rgba(0, 0, 0, 0.15);\n",
              "      filter: drop-shadow(0px 1px 2px rgba(0, 0, 0, 0.3));\n",
              "      fill: #FFFFFF;\n",
              "    }\n",
              "  </style>\n",
              "\n",
              "      <script>\n",
              "        const buttonEl =\n",
              "          document.querySelector('#df-5a3e88a1-399a-41ea-b83e-8caf3dabe785 button.colab-df-convert');\n",
              "        buttonEl.style.display =\n",
              "          google.colab.kernel.accessAllowed ? 'block' : 'none';\n",
              "\n",
              "        async function convertToInteractive(key) {\n",
              "          const element = document.querySelector('#df-5a3e88a1-399a-41ea-b83e-8caf3dabe785');\n",
              "          const dataTable =\n",
              "            await google.colab.kernel.invokeFunction('convertToInteractive',\n",
              "                                                     [key], {});\n",
              "          if (!dataTable) return;\n",
              "\n",
              "          const docLinkHtml = 'Like what you see? Visit the ' +\n",
              "            '<a target=\"_blank\" href=https://colab.research.google.com/notebooks/data_table.ipynb>data table notebook</a>'\n",
              "            + ' to learn more about interactive tables.';\n",
              "          element.innerHTML = '';\n",
              "          dataTable['output_type'] = 'display_data';\n",
              "          await google.colab.output.renderOutput(dataTable, element);\n",
              "          const docLink = document.createElement('div');\n",
              "          docLink.innerHTML = docLinkHtml;\n",
              "          element.appendChild(docLink);\n",
              "        }\n",
              "      </script>\n",
              "    </div>\n",
              "  </div>\n",
              "  "
            ]
          },
          "metadata": {},
          "execution_count": 20
        }
      ]
    },
    {
      "cell_type": "markdown",
      "source": [
        "The above covariance matrix shows the covariance or variability in direction among features. A positive covariance among features indicate movement in the same direction whereas, a negative covariance among features indicate movement in the opposite direction. That is, as one feature increases the other increases and vice versa."
      ],
      "metadata": {
        "id": "VqnUrvLuAvoW"
      }
    },
    {
      "cell_type": "code",
      "source": [
        "#correlation between features\n",
        "moderna.corr()"
      ],
      "metadata": {
        "colab": {
          "base_uri": "https://localhost:8080/"
        },
        "id": "4iCCPNe2DXej",
        "outputId": "89c85845-44dd-4c56-dbc4-c38b10d5df2b"
      },
      "execution_count": null,
      "outputs": [
        {
          "output_type": "execute_result",
          "data": {
            "text/plain": [
              "                       HCWs M    HCWs F  Other FLWs M  Other FLWs F  \\\n",
              "HCWs M               1.000000  0.654668      0.097972      0.080929   \n",
              "HCWs F               0.654668  1.000000      0.027385     -0.030557   \n",
              "Other FLWs M         0.097972  0.027385      1.000000      0.907072   \n",
              "Other FLWs F         0.080929 -0.030557      0.907072      1.000000   \n",
              "Elderly ? 50years M  0.379786  0.298347      0.456866      0.445814   \n",
              "Elderly ? 50years F  0.261112  0.171467      0.586196      0.560739   \n",
              "Youth 18-49years M   0.639395  0.501985      0.536113      0.547795   \n",
              "Youth 18-49years F   0.578023  0.486092      0.573925      0.556395   \n",
              "\n",
              "                     Elderly ? 50years M  Elderly ? 50years F  \\\n",
              "HCWs M                          0.379786             0.261112   \n",
              "HCWs F                          0.298347             0.171467   \n",
              "Other FLWs M                    0.456866             0.586196   \n",
              "Other FLWs F                    0.445814             0.560739   \n",
              "Elderly ? 50years M             1.000000             0.932444   \n",
              "Elderly ? 50years F             0.932444             1.000000   \n",
              "Youth 18-49years M              0.645223             0.598541   \n",
              "Youth 18-49years F              0.674837             0.666296   \n",
              "\n",
              "                     Youth 18-49years M  Youth 18-49years F  \n",
              "HCWs M                         0.639395            0.578023  \n",
              "HCWs F                         0.501985            0.486092  \n",
              "Other FLWs M                   0.536113            0.573925  \n",
              "Other FLWs F                   0.547795            0.556395  \n",
              "Elderly ? 50years M            0.645223            0.674837  \n",
              "Elderly ? 50years F            0.598541            0.666296  \n",
              "Youth 18-49years M             1.000000            0.953596  \n",
              "Youth 18-49years F             0.953596            1.000000  "
            ],
            "text/html": [
              "\n",
              "  <div id=\"df-18be2404-9131-4331-a587-c1adfbeba940\">\n",
              "    <div class=\"colab-df-container\">\n",
              "      <div>\n",
              "<style scoped>\n",
              "    .dataframe tbody tr th:only-of-type {\n",
              "        vertical-align: middle;\n",
              "    }\n",
              "\n",
              "    .dataframe tbody tr th {\n",
              "        vertical-align: top;\n",
              "    }\n",
              "\n",
              "    .dataframe thead th {\n",
              "        text-align: right;\n",
              "    }\n",
              "</style>\n",
              "<table border=\"1\" class=\"dataframe\">\n",
              "  <thead>\n",
              "    <tr style=\"text-align: right;\">\n",
              "      <th></th>\n",
              "      <th>HCWs M</th>\n",
              "      <th>HCWs F</th>\n",
              "      <th>Other FLWs M</th>\n",
              "      <th>Other FLWs F</th>\n",
              "      <th>Elderly ? 50years M</th>\n",
              "      <th>Elderly ? 50years F</th>\n",
              "      <th>Youth 18-49years M</th>\n",
              "      <th>Youth 18-49years F</th>\n",
              "    </tr>\n",
              "  </thead>\n",
              "  <tbody>\n",
              "    <tr>\n",
              "      <th>HCWs M</th>\n",
              "      <td>1.000000</td>\n",
              "      <td>0.654668</td>\n",
              "      <td>0.097972</td>\n",
              "      <td>0.080929</td>\n",
              "      <td>0.379786</td>\n",
              "      <td>0.261112</td>\n",
              "      <td>0.639395</td>\n",
              "      <td>0.578023</td>\n",
              "    </tr>\n",
              "    <tr>\n",
              "      <th>HCWs F</th>\n",
              "      <td>0.654668</td>\n",
              "      <td>1.000000</td>\n",
              "      <td>0.027385</td>\n",
              "      <td>-0.030557</td>\n",
              "      <td>0.298347</td>\n",
              "      <td>0.171467</td>\n",
              "      <td>0.501985</td>\n",
              "      <td>0.486092</td>\n",
              "    </tr>\n",
              "    <tr>\n",
              "      <th>Other FLWs M</th>\n",
              "      <td>0.097972</td>\n",
              "      <td>0.027385</td>\n",
              "      <td>1.000000</td>\n",
              "      <td>0.907072</td>\n",
              "      <td>0.456866</td>\n",
              "      <td>0.586196</td>\n",
              "      <td>0.536113</td>\n",
              "      <td>0.573925</td>\n",
              "    </tr>\n",
              "    <tr>\n",
              "      <th>Other FLWs F</th>\n",
              "      <td>0.080929</td>\n",
              "      <td>-0.030557</td>\n",
              "      <td>0.907072</td>\n",
              "      <td>1.000000</td>\n",
              "      <td>0.445814</td>\n",
              "      <td>0.560739</td>\n",
              "      <td>0.547795</td>\n",
              "      <td>0.556395</td>\n",
              "    </tr>\n",
              "    <tr>\n",
              "      <th>Elderly ? 50years M</th>\n",
              "      <td>0.379786</td>\n",
              "      <td>0.298347</td>\n",
              "      <td>0.456866</td>\n",
              "      <td>0.445814</td>\n",
              "      <td>1.000000</td>\n",
              "      <td>0.932444</td>\n",
              "      <td>0.645223</td>\n",
              "      <td>0.674837</td>\n",
              "    </tr>\n",
              "    <tr>\n",
              "      <th>Elderly ? 50years F</th>\n",
              "      <td>0.261112</td>\n",
              "      <td>0.171467</td>\n",
              "      <td>0.586196</td>\n",
              "      <td>0.560739</td>\n",
              "      <td>0.932444</td>\n",
              "      <td>1.000000</td>\n",
              "      <td>0.598541</td>\n",
              "      <td>0.666296</td>\n",
              "    </tr>\n",
              "    <tr>\n",
              "      <th>Youth 18-49years M</th>\n",
              "      <td>0.639395</td>\n",
              "      <td>0.501985</td>\n",
              "      <td>0.536113</td>\n",
              "      <td>0.547795</td>\n",
              "      <td>0.645223</td>\n",
              "      <td>0.598541</td>\n",
              "      <td>1.000000</td>\n",
              "      <td>0.953596</td>\n",
              "    </tr>\n",
              "    <tr>\n",
              "      <th>Youth 18-49years F</th>\n",
              "      <td>0.578023</td>\n",
              "      <td>0.486092</td>\n",
              "      <td>0.573925</td>\n",
              "      <td>0.556395</td>\n",
              "      <td>0.674837</td>\n",
              "      <td>0.666296</td>\n",
              "      <td>0.953596</td>\n",
              "      <td>1.000000</td>\n",
              "    </tr>\n",
              "  </tbody>\n",
              "</table>\n",
              "</div>\n",
              "      <button class=\"colab-df-convert\" onclick=\"convertToInteractive('df-18be2404-9131-4331-a587-c1adfbeba940')\"\n",
              "              title=\"Convert this dataframe to an interactive table.\"\n",
              "              style=\"display:none;\">\n",
              "        \n",
              "  <svg xmlns=\"http://www.w3.org/2000/svg\" height=\"24px\"viewBox=\"0 0 24 24\"\n",
              "       width=\"24px\">\n",
              "    <path d=\"M0 0h24v24H0V0z\" fill=\"none\"/>\n",
              "    <path d=\"M18.56 5.44l.94 2.06.94-2.06 2.06-.94-2.06-.94-.94-2.06-.94 2.06-2.06.94zm-11 1L8.5 8.5l.94-2.06 2.06-.94-2.06-.94L8.5 2.5l-.94 2.06-2.06.94zm10 10l.94 2.06.94-2.06 2.06-.94-2.06-.94-.94-2.06-.94 2.06-2.06.94z\"/><path d=\"M17.41 7.96l-1.37-1.37c-.4-.4-.92-.59-1.43-.59-.52 0-1.04.2-1.43.59L10.3 9.45l-7.72 7.72c-.78.78-.78 2.05 0 2.83L4 21.41c.39.39.9.59 1.41.59.51 0 1.02-.2 1.41-.59l7.78-7.78 2.81-2.81c.8-.78.8-2.07 0-2.86zM5.41 20L4 18.59l7.72-7.72 1.47 1.35L5.41 20z\"/>\n",
              "  </svg>\n",
              "      </button>\n",
              "      \n",
              "  <style>\n",
              "    .colab-df-container {\n",
              "      display:flex;\n",
              "      flex-wrap:wrap;\n",
              "      gap: 12px;\n",
              "    }\n",
              "\n",
              "    .colab-df-convert {\n",
              "      background-color: #E8F0FE;\n",
              "      border: none;\n",
              "      border-radius: 50%;\n",
              "      cursor: pointer;\n",
              "      display: none;\n",
              "      fill: #1967D2;\n",
              "      height: 32px;\n",
              "      padding: 0 0 0 0;\n",
              "      width: 32px;\n",
              "    }\n",
              "\n",
              "    .colab-df-convert:hover {\n",
              "      background-color: #E2EBFA;\n",
              "      box-shadow: 0px 1px 2px rgba(60, 64, 67, 0.3), 0px 1px 3px 1px rgba(60, 64, 67, 0.15);\n",
              "      fill: #174EA6;\n",
              "    }\n",
              "\n",
              "    [theme=dark] .colab-df-convert {\n",
              "      background-color: #3B4455;\n",
              "      fill: #D2E3FC;\n",
              "    }\n",
              "\n",
              "    [theme=dark] .colab-df-convert:hover {\n",
              "      background-color: #434B5C;\n",
              "      box-shadow: 0px 1px 3px 1px rgba(0, 0, 0, 0.15);\n",
              "      filter: drop-shadow(0px 1px 2px rgba(0, 0, 0, 0.3));\n",
              "      fill: #FFFFFF;\n",
              "    }\n",
              "  </style>\n",
              "\n",
              "      <script>\n",
              "        const buttonEl =\n",
              "          document.querySelector('#df-18be2404-9131-4331-a587-c1adfbeba940 button.colab-df-convert');\n",
              "        buttonEl.style.display =\n",
              "          google.colab.kernel.accessAllowed ? 'block' : 'none';\n",
              "\n",
              "        async function convertToInteractive(key) {\n",
              "          const element = document.querySelector('#df-18be2404-9131-4331-a587-c1adfbeba940');\n",
              "          const dataTable =\n",
              "            await google.colab.kernel.invokeFunction('convertToInteractive',\n",
              "                                                     [key], {});\n",
              "          if (!dataTable) return;\n",
              "\n",
              "          const docLinkHtml = 'Like what you see? Visit the ' +\n",
              "            '<a target=\"_blank\" href=https://colab.research.google.com/notebooks/data_table.ipynb>data table notebook</a>'\n",
              "            + ' to learn more about interactive tables.';\n",
              "          element.innerHTML = '';\n",
              "          dataTable['output_type'] = 'display_data';\n",
              "          await google.colab.output.renderOutput(dataTable, element);\n",
              "          const docLink = document.createElement('div');\n",
              "          docLink.innerHTML = docLinkHtml;\n",
              "          element.appendChild(docLink);\n",
              "        }\n",
              "      </script>\n",
              "    </div>\n",
              "  </div>\n",
              "  "
            ]
          },
          "metadata": {},
          "execution_count": 21
        }
      ]
    },
    {
      "cell_type": "markdown",
      "source": [
        "The above correlation matrix shows the relationship between features. The correlation coefficient usually between -1 and 1 tells us the degree to which two features move in sequence.\n",
        "\n",
        "A positive value shows the extent of movement in the same direction with values very close to 1 meaning a strong relationship between features.\n",
        "\n",
        "A negative value on the other hand, shows the extent of movement in the opposite direction with values close to -1 having  a very strong relationship.The farther away the value is from negative one or positive one, the farther or weaker the relationship.\n",
        "\n",
        "A zero value indicates no linear relationship, meaning other functional relationships may exist.\n",
        "\n",
        "From the correlation matrix above, the features **Youth 18-49years M** and **Youth 18-49years F** have the strongest relationship between them with a correlation coefficient of 0.95.\n",
        "\n",
        "Whereas, the features **HCWs F**(female healthcare workers) and **Other FLWs F**(Other female frontline workers) have the weakest relationship between them with a correlation coefficient of -0.03."
      ],
      "metadata": {
        "id": "mPl3V8sJDxe2"
      }
    },
    {
      "cell_type": "markdown",
      "source": [
        "# Visualizations"
      ],
      "metadata": {
        "id": "PYOk3kiSM0cZ"
      }
    },
    {
      "cell_type": "code",
      "source": [
        "#histogram of health care workers\n",
        "plt.figure(figsize=(16,8))\n",
        "health_care_workers.plot.hist(stacked=True, bins=8, title=\"HCWs M vs. HCWs F\")\n",
        "plt.show()"
      ],
      "metadata": {
        "colab": {
          "base_uri": "https://localhost:8080/",
          "height": 299
        },
        "id": "Ff-tpxLkMstn",
        "outputId": "8c96ddbc-2810-444f-c0b7-535f4a51e37c"
      },
      "execution_count": null,
      "outputs": [
        {
          "output_type": "display_data",
          "data": {
            "text/plain": [
              "<Figure size 1152x576 with 0 Axes>"
            ]
          },
          "metadata": {}
        },
        {
          "output_type": "display_data",
          "data": {
            "text/plain": [
              "<Figure size 432x288 with 1 Axes>"
            ],
            "image/png": "[encoded data removed]"
          },
          "metadata": {
            "needs_background": "light"
          }
        }
      ]
    },
    {
      "cell_type": "markdown",
      "source": [
        "From the display, we can get that the distribution of data in the \"histogram of health care workers\" is right-skewed.\n",
        "\n",
        "We can also get the most frequent total number of \"healthcare workers\" vaccinated at a timeframe during the vaccination window in study to be between the intervals 0 and 25.\n",
        "\n",
        "Also, more \"female healthcare workers\" than their \"male counterparts\" were vaccinated.\n",
        "\n",
        "Some outliers can also be seen at the tail end between the intervals 17.5 and 20."
      ],
      "metadata": {
        "id": "YZiujbLlNWsl"
      }
    },
    {
      "cell_type": "code",
      "source": [
        "#histogram of other frontline workers\n",
        "plt.figure(figsize=(16,8))\n",
        "other_frontline_workers.plot.hist(stacked=True, bins=8, title=\"Other FLWs M vs. Other FLWs F\")\n",
        "plt.show()"
      ],
      "metadata": {
        "colab": {
          "base_uri": "https://localhost:8080/",
          "height": 299
        },
        "id": "5XFMwcBQRRr8",
        "outputId": "232e4c58-2284-40a4-bd8f-2ba156008b5e"
      },
      "execution_count": null,
      "outputs": [
        {
          "output_type": "display_data",
          "data": {
            "text/plain": [
              "<Figure size 1152x576 with 0 Axes>"
            ]
          },
          "metadata": {}
        },
        {
          "output_type": "display_data",
          "data": {
            "text/plain": [
              "<Figure size 432x288 with 1 Axes>"
            ],
            "image/png": "[encoded data removed]"
          },
          "metadata": {
            "needs_background": "light"
          }
        }
      ]
    },
    {
      "cell_type": "markdown",
      "source": [
        "As before, we can get that the distribution of data in the \"histogram of other frontline workers\" is right-skewed.\n",
        "\n",
        "We can also get the most frequent total number of \"other frontline workers\" vaccinated at a timeframe during the vaccination window in study to be between intervals 0 and 25.\n",
        "\n",
        "Also, more \"other female frontline workers\" than their \"male counterparts\" were vaccinated.\n",
        "\n",
        "Some outliers can be seen at the tail end between range 60.5 and 80.5."
      ],
      "metadata": {
        "id": "DxcJMyAIRiV5"
      }
    },
    {
      "cell_type": "code",
      "source": [
        "#histogram of elderly\n",
        "plt.figure(figsize=(16,8))\n",
        "elderly_50_and_above.plot.hist(stacked=True, bins=8, title = \"Elderly M vs. Elderly F\")\n",
        "plt.show()"
      ],
      "metadata": {
        "colab": {
          "base_uri": "https://localhost:8080/",
          "height": 299
        },
        "id": "TgwzrTC2SeyY",
        "outputId": "40f392ad-f99a-404c-9d58-83ef3173d397"
      },
      "execution_count": null,
      "outputs": [
        {
          "output_type": "display_data",
          "data": {
            "text/plain": [
              "<Figure size 1152x576 with 0 Axes>"
            ]
          },
          "metadata": {}
        },
        {
          "output_type": "display_data",
          "data": {
            "text/plain": [
              "<Figure size 432x288 with 1 Axes>"
            ],
            "image/png": "[encoded data removed]"
          },
          "metadata": {
            "needs_background": "light"
          }
        }
      ]
    },
    {
      "cell_type": "markdown",
      "source": [
        "Here also, we can get that the distribution of data in the \"histogram of elderly 50years and above\" is right-skewed.\n",
        "\n",
        "We can also get the most frequent total number of \"elderly 50years and above\" vaccinated at a timeframe during the vaccination window in study to be between intervals 0 and 25.\n",
        "\n",
        "Also, more \"female elderly 50years and above\" than their male counterparts were vaccinated."
      ],
      "metadata": {
        "id": "5Dx7z3aPSuMX"
      }
    },
    {
      "cell_type": "code",
      "source": [
        "#histogram of youths\n",
        "plt.figure(figsize=(16,8))\n",
        "youths.plot.hist(stacked=True, bins=8, title=\"Youths M vs. Youths F\")\n",
        "plt.show()"
      ],
      "metadata": {
        "colab": {
          "base_uri": "https://localhost:8080/",
          "height": 299
        },
        "id": "k2j_muyuXIyq",
        "outputId": "32b4d667-4b5e-4bca-9c36-6eef6c9cad5d"
      },
      "execution_count": null,
      "outputs": [
        {
          "output_type": "display_data",
          "data": {
            "text/plain": [
              "<Figure size 1152x576 with 0 Axes>"
            ]
          },
          "metadata": {}
        },
        {
          "output_type": "display_data",
          "data": {
            "text/plain": [
              "<Figure size 432x288 with 1 Axes>"
            ],
            "image/png": "[encoded data removed]"
          },
          "metadata": {
            "needs_background": "light"
          }
        }
      ]
    },
    {
      "cell_type": "markdown",
      "source": [
        "Again, we can get that the distribution of data in the \"histogram of youths 18-49years\" is right-skewed.\n",
        "\n",
        "We can also get the most frequent total number of \"youths 18-49years\" vaccinated at a timeframe during the vaccination window in study to be between the intervals 0 and 25.\n",
        "\n",
        "Also, more \"female youths 18-49years\" than their \"male counterparts\" were vaccinated.\n",
        "\n"
      ],
      "metadata": {
        "id": "ABAHhr8UVPwk"
      }
    },
    {
      "cell_type": "code",
      "source": [
        "#stacked histogram of subsets\n",
        "plt.figure(figsize=(16,8))\n",
        "moderna.plot.hist(stacked=True, bins=8, title=\"Comparison: HCWs, Other FLWs, Elderly, & Youths\")\n",
        "plt.savefig(\"stacked-histogram.png\")\n",
        "files.download(\"stacked-histogram.png\")\n",
        "plt.show()"
      ],
      "metadata": {
        "colab": {
          "base_uri": "https://localhost:8080/",
          "height": 299
        },
        "id": "nUZFaR4BZ6mx",
        "outputId": "6833c547-c39f-431d-f97b-d881976ab47f"
      },
      "execution_count": null,
      "outputs": [
        {
          "output_type": "display_data",
          "data": {
            "text/plain": [
              "<IPython.core.display.Javascript object>"
            ],
            "application/javascript": [
              "\n",
              "    async function download(id, filename, size) {\n",
              "      if (!google.colab.kernel.accessAllowed) {\n",
              "        return;\n",
              "      }\n",
              "      const div = document.createElement('div');\n",
              "      const label = document.createElement('label');\n",
              "      label.textContent = `Downloading \"${filename}\": `;\n",
              "      div.appendChild(label);\n",
              "      const progress = document.createElement('progress');\n",
              "      progress.max = size;\n",
              "      div.appendChild(progress);\n",
              "      document.body.appendChild(div);\n",
              "\n",
              "      const buffers = [];\n",
              "      let downloaded = 0;\n",
              "\n",
              "      const channel = await google.colab.kernel.comms.open(id);\n",
              "      // Send a message to notify the kernel that we're ready.\n",
              "      channel.send({})\n",
              "\n",
              "      for await (const message of channel.messages) {\n",
              "        // Send a message to notify the kernel that we're ready.\n",
              "        channel.send({})\n",
              "        if (message.buffers) {\n",
              "          for (const buffer of message.buffers) {\n",
              "            buffers.push(buffer);\n",
              "            downloaded += buffer.byteLength;\n",
              "            progress.value = downloaded;\n",
              "          }\n",
              "        }\n",
              "      }\n",
              "      const blob = new Blob(buffers, {type: 'application/binary'});\n",
              "      const a = document.createElement('a');\n",
              "      a.href = window.URL.createObjectURL(blob);\n",
              "      a.download = filename;\n",
              "      div.appendChild(a);\n",
              "      a.click();\n",
              "      div.remove();\n",
              "    }\n",
              "  "
            ]
          },
          "metadata": {}
        },
        {
          "output_type": "display_data",
          "data": {
            "text/plain": [
              "<IPython.core.display.Javascript object>"
            ],
            "application/javascript": [
              "download(\"download_9b166594-6974-4d4b-bfb8-5ab1d15cd0ee\", \"stacked-histogram.png\", 17889)"
            ]
          },
          "metadata": {}
        },
        {
          "output_type": "display_data",
          "data": {
            "text/plain": [
              "<Figure size 1152x576 with 0 Axes>"
            ]
          },
          "metadata": {}
        },
        {
          "output_type": "display_data",
          "data": {
            "text/plain": [
              "<Figure size 432x288 with 1 Axes>"
            ],
            "image/png": "[encoded data removed]"
          },
          "metadata": {
            "needs_background": "light"
          }
        }
      ]
    },
    {
      "cell_type": "markdown",
      "source": [
        "As in the previous displays, we can get that the distribution of data in the stacked histogram showing comparison among features is right-skewed.\n",
        "\n",
        "We can also get the most frequent total number of persons vaccinated at a timeframe during the vaccination window in study to fall between intervls 0 and 40.\n",
        "\n",
        "Also, more females than their male counterparts in all features were vaccinated.\n",
        "\n",
        "Some outliers can be seen at the tail end for some features."
      ],
      "metadata": {
        "id": "LA-s2M7yaeZL"
      }
    },
    {
      "cell_type": "code",
      "source": [
        "#scatterplot of healthcare workers\n",
        "health_care_workers.plot.scatter(x=\"HCWs F\", y=\"HCWs M\", c=\"Darkblue\")\n",
        "plt.title(\"Scatter Plot of Health Care Workers\")\n",
        "plt.savefig(\"scatterplot-hc-workers.png\")\n",
        "files.download(\"scatterplot-hc-workers.png\")\n",
        "plt.show()"
      ],
      "metadata": {
        "colab": {
          "base_uri": "https://localhost:8080/",
          "height": 295
        },
        "id": "er-lFCzYc94L",
        "outputId": "9c2400c7-4a7a-48c5-d1b8-96f50e0a9289"
      },
      "execution_count": null,
      "outputs": [
        {
          "output_type": "display_data",
          "data": {
            "text/plain": [
              "<IPython.core.display.Javascript object>"
            ],
            "application/javascript": [
              "\n",
              "    async function download(id, filename, size) {\n",
              "      if (!google.colab.kernel.accessAllowed) {\n",
              "        return;\n",
              "      }\n",
              "      const div = document.createElement('div');\n",
              "      const label = document.createElement('label');\n",
              "      label.textContent = `Downloading \"${filename}\": `;\n",
              "      div.appendChild(label);\n",
              "      const progress = document.createElement('progress');\n",
              "      progress.max = size;\n",
              "      div.appendChild(progress);\n",
              "      document.body.appendChild(div);\n",
              "\n",
              "      const buffers = [];\n",
              "      let downloaded = 0;\n",
              "\n",
              "      const channel = await google.colab.kernel.comms.open(id);\n",
              "      // Send a message to notify the kernel that we're ready.\n",
              "      channel.send({})\n",
              "\n",
              "      for await (const message of channel.messages) {\n",
              "        // Send a message to notify the kernel that we're ready.\n",
              "        channel.send({})\n",
              "        if (message.buffers) {\n",
              "          for (const buffer of message.buffers) {\n",
              "            buffers.push(buffer);\n",
              "            downloaded += buffer.byteLength;\n",
              "            progress.value = downloaded;\n",
              "          }\n",
              "        }\n",
              "      }\n",
              "      const blob = new Blob(buffers, {type: 'application/binary'});\n",
              "      const a = document.createElement('a');\n",
              "      a.href = window.URL.createObjectURL(blob);\n",
              "      a.download = filename;\n",
              "      div.appendChild(a);\n",
              "      a.click();\n",
              "      div.remove();\n",
              "    }\n",
              "  "
            ]
          },
          "metadata": {}
        },
        {
          "output_type": "display_data",
          "data": {
            "text/plain": [
              "<IPython.core.display.Javascript object>"
            ],
            "application/javascript": [
              "download(\"download_06bc68e9-ca1d-410c-930f-c03b6db804cd\", \"scatterplot-hc-workers.png\", 10958)"
            ]
          },
          "metadata": {}
        },
        {
          "output_type": "display_data",
          "data": {
            "text/plain": [
              "<Figure size 432x288 with 1 Axes>"
            ],
            "image/png": "[encoded data removed]"
          },
          "metadata": {
            "needs_background": "light"
          }
        }
      ]
    },
    {
      "cell_type": "markdown",
      "source": [
        "From the scattered plots of Health Care Workers above, it can be seen that there is positive correlation, i.e. upward movement from left to right is observed but the distribution of the datapoints indicates a very weak relationship between the variables. Some Outliers are visible at the far right."
      ],
      "metadata": {
        "id": "q3CAlr_KdHHF"
      }
    },
    {
      "cell_type": "code",
      "source": [
        "#scatterplot of other frontline workers\n",
        "other_frontline_workers.plot.scatter(x=\"Other FLWs F\", y=\"Other FLWs M\", c=\"Darkgreen\")\n",
        "plt.title(\"Scatter Plot of Other Frontline Workers\")\n",
        "plt.savefig(\"scatterplot-fl-workers.png\")\n",
        "files.download(\"scatterplot-fl-workers.png\")\n",
        "plt.show()"
      ],
      "metadata": {
        "colab": {
          "base_uri": "https://localhost:8080/",
          "height": 295
        },
        "id": "UTMbLkaddOhU",
        "outputId": "0914ad12-e6f2-44dd-9312-6a34f3094430"
      },
      "execution_count": null,
      "outputs": [
        {
          "output_type": "display_data",
          "data": {
            "text/plain": [
              "<IPython.core.display.Javascript object>"
            ],
            "application/javascript": [
              "\n",
              "    async function download(id, filename, size) {\n",
              "      if (!google.colab.kernel.accessAllowed) {\n",
              "        return;\n",
              "      }\n",
              "      const div = document.createElement('div');\n",
              "      const label = document.createElement('label');\n",
              "      label.textContent = `Downloading \"${filename}\": `;\n",
              "      div.appendChild(label);\n",
              "      const progress = document.createElement('progress');\n",
              "      progress.max = size;\n",
              "      div.appendChild(progress);\n",
              "      document.body.appendChild(div);\n",
              "\n",
              "      const buffers = [];\n",
              "      let downloaded = 0;\n",
              "\n",
              "      const channel = await google.colab.kernel.comms.open(id);\n",
              "      // Send a message to notify the kernel that we're ready.\n",
              "      channel.send({})\n",
              "\n",
              "      for await (const message of channel.messages) {\n",
              "        // Send a message to notify the kernel that we're ready.\n",
              "        channel.send({})\n",
              "        if (message.buffers) {\n",
              "          for (const buffer of message.buffers) {\n",
              "            buffers.push(buffer);\n",
              "            downloaded += buffer.byteLength;\n",
              "            progress.value = downloaded;\n",
              "          }\n",
              "        }\n",
              "      }\n",
              "      const blob = new Blob(buffers, {type: 'application/binary'});\n",
              "      const a = document.createElement('a');\n",
              "      a.href = window.URL.createObjectURL(blob);\n",
              "      a.download = filename;\n",
              "      div.appendChild(a);\n",
              "      a.click();\n",
              "      div.remove();\n",
              "    }\n",
              "  "
            ]
          },
          "metadata": {}
        },
        {
          "output_type": "display_data",
          "data": {
            "text/plain": [
              "<IPython.core.display.Javascript object>"
            ],
            "application/javascript": [
              "download(\"download_4fe92f7b-f8fc-4547-8570-e3e16f02c5d9\", \"scatterplot-fl-workers.png\", 12902)"
            ]
          },
          "metadata": {}
        },
        {
          "output_type": "display_data",
          "data": {
            "text/plain": [
              "<Figure size 432x288 with 1 Axes>"
            ],
            "image/png": "[encoded data removed]"
          },
          "metadata": {
            "needs_background": "light"
          }
        }
      ]
    },
    {
      "cell_type": "markdown",
      "source": [
        "From the scattered plots of Other Frontline Workers above, it can be seen that there is positive correlation, i.e. upward movement from left to right is observed but the distribution of the datapoints indicates a not strong relationship between the two variables of Other Frontline Workers. Some of the data points are ckosely packed while others are dispersed. We can also see an outlier present at the far right."
      ],
      "metadata": {
        "id": "LglB33ocdj61"
      }
    },
    {
      "cell_type": "code",
      "source": [
        "#scatterplot of eldrly 50years & above\n",
        "elderly_50_and_above.plot.scatter(x=\"Elderly ? 50years F\", y=\"Elderly ? 50years M\", c=\"green\")\n",
        "plt.title(\"Scatter Plot of Elderly 50years & Above\")\n",
        "plt.savefig(\"scatterplot-elderly.png\")\n",
        "files.download(\"scatterplot-elderly.png\")\n",
        "plt.show()"
      ],
      "metadata": {
        "colab": {
          "base_uri": "https://localhost:8080/",
          "height": 295
        },
        "id": "CAkGiBsYdlE0",
        "outputId": "94c50197-d41c-4f02-e17a-c1ce3caca66e"
      },
      "execution_count": null,
      "outputs": [
        {
          "output_type": "display_data",
          "data": {
            "text/plain": [
              "<IPython.core.display.Javascript object>"
            ],
            "application/javascript": [
              "\n",
              "    async function download(id, filename, size) {\n",
              "      if (!google.colab.kernel.accessAllowed) {\n",
              "        return;\n",
              "      }\n",
              "      const div = document.createElement('div');\n",
              "      const label = document.createElement('label');\n",
              "      label.textContent = `Downloading \"${filename}\": `;\n",
              "      div.appendChild(label);\n",
              "      const progress = document.createElement('progress');\n",
              "      progress.max = size;\n",
              "      div.appendChild(progress);\n",
              "      document.body.appendChild(div);\n",
              "\n",
              "      const buffers = [];\n",
              "      let downloaded = 0;\n",
              "\n",
              "      const channel = await google.colab.kernel.comms.open(id);\n",
              "      // Send a message to notify the kernel that we're ready.\n",
              "      channel.send({})\n",
              "\n",
              "      for await (const message of channel.messages) {\n",
              "        // Send a message to notify the kernel that we're ready.\n",
              "        channel.send({})\n",
              "        if (message.buffers) {\n",
              "          for (const buffer of message.buffers) {\n",
              "            buffers.push(buffer);\n",
              "            downloaded += buffer.byteLength;\n",
              "            progress.value = downloaded;\n",
              "          }\n",
              "        }\n",
              "      }\n",
              "      const blob = new Blob(buffers, {type: 'application/binary'});\n",
              "      const a = document.createElement('a');\n",
              "      a.href = window.URL.createObjectURL(blob);\n",
              "      a.download = filename;\n",
              "      div.appendChild(a);\n",
              "      a.click();\n",
              "      div.remove();\n",
              "    }\n",
              "  "
            ]
          },
          "metadata": {}
        },
        {
          "output_type": "display_data",
          "data": {
            "text/plain": [
              "<IPython.core.display.Javascript object>"
            ],
            "application/javascript": [
              "download(\"download_d8716956-3719-47ed-b369-3de07b10b2eb\", \"scatterplot-elderly.png\", 15213)"
            ]
          },
          "metadata": {}
        },
        {
          "output_type": "display_data",
          "data": {
            "text/plain": [
              "<Figure size 432x288 with 1 Axes>"
            ],
            "image/png": "[encoded data removed]"
          },
          "metadata": {
            "needs_background": "light"
          }
        }
      ]
    },
    {
      "cell_type": "markdown",
      "source": [
        "From the scattered plots of Elderly 50years & Above above, it can be seen that there is positive correlation, i.e. upward movement from left to right is observed. The distribution of the datapoints indicates a strong but not so strong relationship between the two variables of Elderly 50years & Above. Some of the data points are ckosely packed while there are wide gaps among others. We can also see some outliers present at the far right."
      ],
      "metadata": {
        "id": "z2p-zkp9dyKF"
      }
    },
    {
      "cell_type": "code",
      "source": [
        "#scatterplot of youths\n",
        "youths.plot.scatter(x=\"Youth 18-49years F\", y=\"Youth 18-49years M\", c=\"blue\")\n",
        "plt.title(\"Scatter Plot of Youths\")\n",
        "plt.savefig(\"scatterplot-youths.png\")\n",
        "files.download(\"scatterplot-youths.png\")\n",
        "plt.show()"
      ],
      "metadata": {
        "colab": {
          "base_uri": "https://localhost:8080/",
          "height": 295
        },
        "id": "TvBNMZf9d3O7",
        "outputId": "2e96b97b-e09f-46c2-84ea-13a39f2161f7"
      },
      "execution_count": null,
      "outputs": [
        {
          "output_type": "display_data",
          "data": {
            "text/plain": [
              "<IPython.core.display.Javascript object>"
            ],
            "application/javascript": [
              "\n",
              "    async function download(id, filename, size) {\n",
              "      if (!google.colab.kernel.accessAllowed) {\n",
              "        return;\n",
              "      }\n",
              "      const div = document.createElement('div');\n",
              "      const label = document.createElement('label');\n",
              "      label.textContent = `Downloading \"${filename}\": `;\n",
              "      div.appendChild(label);\n",
              "      const progress = document.createElement('progress');\n",
              "      progress.max = size;\n",
              "      div.appendChild(progress);\n",
              "      document.body.appendChild(div);\n",
              "\n",
              "      const buffers = [];\n",
              "      let downloaded = 0;\n",
              "\n",
              "      const channel = await google.colab.kernel.comms.open(id);\n",
              "      // Send a message to notify the kernel that we're ready.\n",
              "      channel.send({})\n",
              "\n",
              "      for await (const message of channel.messages) {\n",
              "        // Send a message to notify the kernel that we're ready.\n",
              "        channel.send({})\n",
              "        if (message.buffers) {\n",
              "          for (const buffer of message.buffers) {\n",
              "            buffers.push(buffer);\n",
              "            downloaded += buffer.byteLength;\n",
              "            progress.value = downloaded;\n",
              "          }\n",
              "        }\n",
              "      }\n",
              "      const blob = new Blob(buffers, {type: 'application/binary'});\n",
              "      const a = document.createElement('a');\n",
              "      a.href = window.URL.createObjectURL(blob);\n",
              "      a.download = filename;\n",
              "      div.appendChild(a);\n",
              "      a.click();\n",
              "      div.remove();\n",
              "    }\n",
              "  "
            ]
          },
          "metadata": {}
        },
        {
          "output_type": "display_data",
          "data": {
            "text/plain": [
              "<IPython.core.display.Javascript object>"
            ],
            "application/javascript": [
              "download(\"download_53ca836f-22d4-404f-a339-a251db3f8c08\", \"scatterplot-youths.png\", 13520)"
            ]
          },
          "metadata": {}
        },
        {
          "output_type": "display_data",
          "data": {
            "text/plain": [
              "<Figure size 432x288 with 1 Axes>"
            ],
            "image/png": "[encoded data removed]"
          },
          "metadata": {
            "needs_background": "light"
          }
        }
      ]
    },
    {
      "cell_type": "markdown",
      "source": [
        "From the scattered plots of Youths above, it can be seen that there is positive correlation, i.e. upward movement from left to right is observed. The distribution of the datapoints indicates a very strong relationship between the two variables of Youths. Most of the data points are ckosely packed with a few that are sparsely dispersed. We can also see some outliers present at the far right."
      ],
      "metadata": {
        "id": "SKPyRkMJeCB6"
      }
    },
    {
      "cell_type": "code",
      "source": [
        "#boxplot of healthcare workers\n",
        "health_care_workers.plot(kind=\"box\", title=\"Health Care Workers\")\n",
        "plt.show()"
      ],
      "metadata": {
        "colab": {
          "base_uri": "https://localhost:8080/",
          "height": 281
        },
        "id": "YSDYbplxeDnc",
        "outputId": "69a61fca-c5c3-4ac9-e7e2-076006504fe6"
      },
      "execution_count": null,
      "outputs": [
        {
          "output_type": "display_data",
          "data": {
            "text/plain": [
              "<Figure size 432x288 with 1 Axes>"
            ],
            "image/png": "[encoded data removed]"
          },
          "metadata": {
            "needs_background": "light"
          }
        }
      ]
    },
    {
      "cell_type": "markdown",
      "source": [
        "It can be seen from the box and whisker display above that the features *HCWs M* and *HCWs F* are both missing the lower or left whiskers. This is so because their minimum values are equal to their first quartile values. There is no difference.\n",
        "\n",
        "Also, the long whiskers on the upper or right side of the box indicates right skewness. Some outliers can also be seen outside the distribution."
      ],
      "metadata": {
        "id": "84c8ZftkfhNM"
      }
    },
    {
      "cell_type": "code",
      "source": [
        "#boxplot of other frontline workers\n",
        "other_frontline_workers.plot(kind=\"box\", title=\"Other Frontline Workers\")\n",
        "plt.show()"
      ],
      "metadata": {
        "colab": {
          "base_uri": "https://localhost:8080/",
          "height": 281
        },
        "id": "rrDFd0UBfh7M",
        "outputId": "527d4a5b-4b40-4a99-8fa0-bd1602697cdb"
      },
      "execution_count": null,
      "outputs": [
        {
          "output_type": "display_data",
          "data": {
            "text/plain": [
              "<Figure size 432x288 with 1 Axes>"
            ],
            "image/png": "[encoded data removed]"
          },
          "metadata": {
            "needs_background": "light"
          }
        }
      ]
    },
    {
      "cell_type": "markdown",
      "source": [
        "Here, from the \"Other Frontline Workers\" boxplots above, the lower or left whiskers of the boxplots of the features are barely visible. This is so because the distance between their minimum values and their first quartile values are close. There is little difference.\n",
        "\n",
        "Also, the long whiskers on the upper or right side of the box indicates right skewness. An outlier can also be seen outside the distribution for each of the features."
      ],
      "metadata": {
        "id": "lB03J56cf2nV"
      }
    },
    {
      "cell_type": "code",
      "source": [
        "#boxplot of elderly 50years & above\n",
        "elderly_50_and_above.plot(kind=\"box\", title=\"Elderly 50years & Above\")\n",
        "plt.show()"
      ],
      "metadata": {
        "colab": {
          "base_uri": "https://localhost:8080/",
          "height": 281
        },
        "id": "9g1NTWR_gZ49",
        "outputId": "5a57c67e-d680-4c1c-95c3-6e3f7fe9a3ad"
      },
      "execution_count": null,
      "outputs": [
        {
          "output_type": "display_data",
          "data": {
            "text/plain": [
              "<Figure size 432x288 with 1 Axes>"
            ],
            "image/png": "[encoded data removed]"
          },
          "metadata": {
            "needs_background": "light"
          }
        }
      ]
    },
    {
      "cell_type": "markdown",
      "source": [
        "Here also, the long whiskers on the upper or right side of the box for each of the features of the \"Elderly 50 & Above\" boxplot indicates right skewness. An outlier can also be seen outside the distribution for each of the features."
      ],
      "metadata": {
        "id": "KvvB5C9tgcnJ"
      }
    },
    {
      "cell_type": "code",
      "source": [
        "#boxplot of youths\n",
        "youths.plot(kind=\"box\", title=\"Youth 18 to 49years\")\n",
        "plt.show()"
      ],
      "metadata": {
        "colab": {
          "base_uri": "https://localhost:8080/",
          "height": 281
        },
        "id": "XVYwUsAYgmTB",
        "outputId": "f245fcc7-c7ba-49ad-be51-b3acaa6fd8b6"
      },
      "execution_count": null,
      "outputs": [
        {
          "output_type": "display_data",
          "data": {
            "text/plain": [
              "<Figure size 432x288 with 1 Axes>"
            ],
            "image/png": "[encoded data removed]"
          },
          "metadata": {
            "needs_background": "light"
          }
        }
      ]
    },
    {
      "cell_type": "markdown",
      "source": [
        "It can be seen from the box and whisker display above that the features *Youth 18-49years M* and *Youth 18-49years F* both have longer whiskers on the upper or right side of the box than on the lower or left side of the box. This is an indication of positive skewness or right skewness of their distributions.\n",
        "\n",
        "Some outliers can also be seen outside the distribution."
      ],
      "metadata": {
        "id": "_Kzap5F2gunl"
      }
    },
    {
      "cell_type": "code",
      "source": [
        "#box plot comparison\n",
        "moderna.plot(kind='box', title=\"Box Comparison of HCWs, Other FLWs, Elderly, & Youths\", rot=45)\n",
        "plt.savefig(\"box-comparison.png\")\n",
        "files.download(\"box-comparison.png\")\n",
        "plt.show()"
      ],
      "metadata": {
        "colab": {
          "base_uri": "https://localhost:8080/",
          "height": 348
        },
        "id": "xQbX8YaXgycK",
        "outputId": "74635d29-a417-4688-e17f-02f26d3c9c77"
      },
      "execution_count": null,
      "outputs": [
        {
          "output_type": "display_data",
          "data": {
            "text/plain": [
              "<IPython.core.display.Javascript object>"
            ],
            "application/javascript": [
              "\n",
              "    async function download(id, filename, size) {\n",
              "      if (!google.colab.kernel.accessAllowed) {\n",
              "        return;\n",
              "      }\n",
              "      const div = document.createElement('div');\n",
              "      const label = document.createElement('label');\n",
              "      label.textContent = `Downloading \"${filename}\": `;\n",
              "      div.appendChild(label);\n",
              "      const progress = document.createElement('progress');\n",
              "      progress.max = size;\n",
              "      div.appendChild(progress);\n",
              "      document.body.appendChild(div);\n",
              "\n",
              "      const buffers = [];\n",
              "      let downloaded = 0;\n",
              "\n",
              "      const channel = await google.colab.kernel.comms.open(id);\n",
              "      // Send a message to notify the kernel that we're ready.\n",
              "      channel.send({})\n",
              "\n",
              "      for await (const message of channel.messages) {\n",
              "        // Send a message to notify the kernel that we're ready.\n",
              "        channel.send({})\n",
              "        if (message.buffers) {\n",
              "          for (const buffer of message.buffers) {\n",
              "            buffers.push(buffer);\n",
              "            downloaded += buffer.byteLength;\n",
              "            progress.value = downloaded;\n",
              "          }\n",
              "        }\n",
              "      }\n",
              "      const blob = new Blob(buffers, {type: 'application/binary'});\n",
              "      const a = document.createElement('a');\n",
              "      a.href = window.URL.createObjectURL(blob);\n",
              "      a.download = filename;\n",
              "      div.appendChild(a);\n",
              "      a.click();\n",
              "      div.remove();\n",
              "    }\n",
              "  "
            ]
          },
          "metadata": {}
        },
        {
          "output_type": "display_data",
          "data": {
            "text/plain": [
              "<IPython.core.display.Javascript object>"
            ],
            "application/javascript": [
              "download(\"download_1d42b854-0cd4-4f43-b625-9443a793fa77\", \"box-comparison.png\", 17117)"
            ]
          },
          "metadata": {}
        },
        {
          "output_type": "display_data",
          "data": {
            "text/plain": [
              "<Figure size 432x288 with 1 Axes>"
            ],
            "image/png": "[encoded data removed]"
          },
          "metadata": {
            "needs_background": "light"
          }
        }
      ]
    },
    {
      "cell_type": "markdown",
      "source": [
        "From the comparison boxplots among features above, it can be seen that all of the features have a right-skewed distribution. We can also see the outliers, some of which are very close to the range of values while others are farther from the range. The length of the box represents the *interquartile range IQR*. The longer the length of box the longer the distance between the third quartile and the first quartile. Hence, the larger the *IQR*. The edge of the lower whisker represents the minimum value, the lower edge of the box represents the first quartile, the middle line represents the second quartile or median, the upper edge of the box represents the third quartile, while the edge of the upper whisker represents the maximum value.\n",
        "\n",
        "The boxplot gives the five number summary:\n",
        "\n",
        "The minimum value, the 25th percentile, the 50th percentile or median, the 75th percentile, and the maximum values.\n"
      ],
      "metadata": {
        "id": "fEWN6lnfg83g"
      }
    },
    {
      "cell_type": "code",
      "source": [
        "#Covariance heatmap of features\n",
        "cov=moderna.cov()\n",
        "sns.heatmap(cov, cmap=\"icefire_r\", linewidths=0.1, annot=True)\n",
        "plt.title(\"Covariance Heatmap of Features\")\n",
        "plt.savefig(\"covariance-heatmap.png\")\n",
        "files.download(\"covariance-heatmap.png\")\n",
        "plt.show()"
      ],
      "metadata": {
        "colab": {
          "base_uri": "https://localhost:8080/",
          "height": 370
        },
        "id": "J7Jb8_wnhHxd",
        "outputId": "066ade0c-6b0d-4935-89f2-ca96a3c64417"
      },
      "execution_count": null,
      "outputs": [
        {
          "output_type": "display_data",
          "data": {
            "text/plain": [
              "<IPython.core.display.Javascript object>"
            ],
            "application/javascript": [
              "\n",
              "    async function download(id, filename, size) {\n",
              "      if (!google.colab.kernel.accessAllowed) {\n",
              "        return;\n",
              "      }\n",
              "      const div = document.createElement('div');\n",
              "      const label = document.createElement('label');\n",
              "      label.textContent = `Downloading \"${filename}\": `;\n",
              "      div.appendChild(label);\n",
              "      const progress = document.createElement('progress');\n",
              "      progress.max = size;\n",
              "      div.appendChild(progress);\n",
              "      document.body.appendChild(div);\n",
              "\n",
              "      const buffers = [];\n",
              "      let downloaded = 0;\n",
              "\n",
              "      const channel = await google.colab.kernel.comms.open(id);\n",
              "      // Send a message to notify the kernel that we're ready.\n",
              "      channel.send({})\n",
              "\n",
              "      for await (const message of channel.messages) {\n",
              "        // Send a message to notify the kernel that we're ready.\n",
              "        channel.send({})\n",
              "        if (message.buffers) {\n",
              "          for (const buffer of message.buffers) {\n",
              "            buffers.push(buffer);\n",
              "            downloaded += buffer.byteLength;\n",
              "            progress.value = downloaded;\n",
              "          }\n",
              "        }\n",
              "      }\n",
              "      const blob = new Blob(buffers, {type: 'application/binary'});\n",
              "      const a = document.createElement('a');\n",
              "      a.href = window.URL.createObjectURL(blob);\n",
              "      a.download = filename;\n",
              "      div.appendChild(a);\n",
              "      a.click();\n",
              "      div.remove();\n",
              "    }\n",
              "  "
            ]
          },
          "metadata": {}
        },
        {
          "output_type": "display_data",
          "data": {
            "text/plain": [
              "<IPython.core.display.Javascript object>"
            ],
            "application/javascript": [
              "download(\"download_5fa7c5ad-6758-4182-9004-7ef0d647d14c\", \"covariance-heatmap.png\", 46885)"
            ]
          },
          "metadata": {}
        },
        {
          "output_type": "display_data",
          "data": {
            "text/plain": [
              "<Figure size 432x288 with 2 Axes>"
            ],
            "image/png": "[encoded data removed]"
          },
          "metadata": {
            "needs_background": "light"
          }
        }
      ]
    },
    {
      "cell_type": "markdown",
      "source": [
        "The covariance heatmap above makes it easy for us to visualize and understand the relationship between variables. The change in colour indicates an increase in covariance. A positive covariance among features indicate movement in the same direction whereas, a negative covariance among features indicate movement in the opposite direction. That is, as one feature increases the other increases and vice versa. The larger the covariance, the closer the relationship as can be seen in the relationship between \"Youth 18-49years M\" and \"Youth 18-49years F\"."
      ],
      "metadata": {
        "id": "tHgVhoSlhkBg"
      }
    },
    {
      "cell_type": "code",
      "source": [
        "#correlation heatmap\n",
        "corr = moderna.corr()\n",
        "sns.heatmap(corr, cmap=\"icefire\", linewidths=0.1, annot=True)\n",
        "plt.title(\"Correlation Heatmap of Features\")\n",
        "plt.savefig(\"correlation-heatmap.png\")\n",
        "files.download(\"correlation-heatmap.png\")\n",
        "plt.show()"
      ],
      "metadata": {
        "colab": {
          "base_uri": "https://localhost:8080/",
          "height": 370
        },
        "id": "uKnGHTychq3l",
        "outputId": "ee6fdfe7-724a-4e5d-e025-d8b57229e0d5"
      },
      "execution_count": null,
      "outputs": [
        {
          "output_type": "display_data",
          "data": {
            "text/plain": [
              "<IPython.core.display.Javascript object>"
            ],
            "application/javascript": [
              "\n",
              "    async function download(id, filename, size) {\n",
              "      if (!google.colab.kernel.accessAllowed) {\n",
              "        return;\n",
              "      }\n",
              "      const div = document.createElement('div');\n",
              "      const label = document.createElement('label');\n",
              "      label.textContent = `Downloading \"${filename}\": `;\n",
              "      div.appendChild(label);\n",
              "      const progress = document.createElement('progress');\n",
              "      progress.max = size;\n",
              "      div.appendChild(progress);\n",
              "      document.body.appendChild(div);\n",
              "\n",
              "      const buffers = [];\n",
              "      let downloaded = 0;\n",
              "\n",
              "      const channel = await google.colab.kernel.comms.open(id);\n",
              "      // Send a message to notify the kernel that we're ready.\n",
              "      channel.send({})\n",
              "\n",
              "      for await (const message of channel.messages) {\n",
              "        // Send a message to notify the kernel that we're ready.\n",
              "        channel.send({})\n",
              "        if (message.buffers) {\n",
              "          for (const buffer of message.buffers) {\n",
              "            buffers.push(buffer);\n",
              "            downloaded += buffer.byteLength;\n",
              "            progress.value = downloaded;\n",
              "          }\n",
              "        }\n",
              "      }\n",
              "      const blob = new Blob(buffers, {type: 'application/binary'});\n",
              "      const a = document.createElement('a');\n",
              "      a.href = window.URL.createObjectURL(blob);\n",
              "      a.download = filename;\n",
              "      div.appendChild(a);\n",
              "      a.click();\n",
              "      div.remove();\n",
              "    }\n",
              "  "
            ]
          },
          "metadata": {}
        },
        {
          "output_type": "display_data",
          "data": {
            "text/plain": [
              "<IPython.core.display.Javascript object>"
            ],
            "application/javascript": [
              "download(\"download_800f4c85-ddde-41a6-bd67-8d85fed38e96\", \"correlation-heatmap.png\", 41369)"
            ]
          },
          "metadata": {}
        },
        {
          "output_type": "display_data",
          "data": {
            "text/plain": [
              "<Figure size 432x288 with 2 Axes>"
            ],
            "image/png": "[encoded data removed]"
          },
          "metadata": {
            "needs_background": "light"
          }
        }
      ]
    },
    {
      "cell_type": "markdown",
      "source": [
        "The correlation heatmap shows the relationship between features. From the color scale it is easy to see this relationship. The correlation coefficient usually between -1 and 1 tells us the degree to which two features move in sequence.\n",
        "\n",
        "A positive value shows the extent of movement in the same direction with values very close to 1 meaning a strong relationship between features.\n",
        "\n",
        "A negative value on the other hand, shows the extent of movement in the opposite direction with values close to -1 having  a very strong relationship. The farther away the value is from negative one or positive one, the farther or weaker the relationship.\n",
        "\n",
        "A zero value indicates no linear relationship, meaning other functional relationships may exist.\n",
        "\n",
        "From the correlation heatmap above, the features **Youth 18-49years M** and **Youth 18-49years F** have the strongest relationship between them with a correlation coefficient of 0.95.\n",
        "\n",
        "Whereas, the features **HCWs F**(female healthcare workers) and **Other FLWs F**(Other female frontline workers) have the weakest relationship between them with a correlation coefficient of -0.03."
      ],
      "metadata": {
        "id": "hYJRfnj2hyUb"
      }
    },
    {
      "cell_type": "markdown",
      "source": [
        "# Estimation:"
      ],
      "metadata": {
        "id": "y0YZER6gh6ZQ"
      }
    },
    {
      "cell_type": "markdown",
      "source": [
        "One Sample Estimation"
      ],
      "metadata": {
        "id": "8NLpNQfsiJN5"
      }
    },
    {
      "cell_type": "code",
      "source": [
        "#importing dataframe\n",
        "df"
      ],
      "metadata": {
        "colab": {
          "base_uri": "https://localhost:8080/"
        },
        "id": "dmrmPMMGigpL",
        "outputId": "0160b56f-4301-4458-b5da-04cdbd742985"
      },
      "execution_count": null,
      "outputs": [
        {
          "output_type": "execute_result",
          "data": {
            "text/plain": [
              "           HCWs M  HCWs F  Other FLWs M  Other FLWs F  Elderly ? 50years M  \\\n",
              "Date                                                                         \n",
              "23-Aug-21       1       5             2             6                    7   \n",
              "24-Aug-21       5       3             6             1                   58   \n",
              "25-Aug-21       6       6             1             1                   52   \n",
              "26-Aug-21       9       2            34            28                   68   \n",
              "27-Aug-21      11      10            36            20                   52   \n",
              "...           ...     ...           ...           ...                  ...   \n",
              "27-Oct-21       0       0             6             2                    5   \n",
              "28-Oct-21       2       9            49            27                   48   \n",
              "29-Oct-21       0       0             1             1                   13   \n",
              "30-Oct-21       0       0            12            10                    7   \n",
              "31-Oct-21       0       0             0             0                    5   \n",
              "\n",
              "           Elderly ? 50years F  Youth 18-49years M  Youth 18-49years F  \\\n",
              "Date                                                                     \n",
              "23-Aug-21                   16                  71                  46   \n",
              "24-Aug-21                   26                 117                  88   \n",
              "25-Aug-21                   39                 106                 118   \n",
              "26-Aug-21                   39                 159                 105   \n",
              "27-Aug-21                   46                 146                 141   \n",
              "...                        ...                 ...                 ...   \n",
              "27-Oct-21                    2                   7                   5   \n",
              "28-Oct-21                   49                 162                 140   \n",
              "29-Oct-21                   15                  19                  17   \n",
              "30-Oct-21                    2                  33                  28   \n",
              "31-Oct-21                    3                   9                  15   \n",
              "\n",
              "           AEFI Serious  AEFI Unserious  Vaccine Dials Rcd  Vaccine Dials Used  \n",
              "Date                                                                            \n",
              "23-Aug-21             0               0                 12                  12  \n",
              "24-Aug-21             0               0                 25                  25  \n",
              "25-Aug-21             0               0                 26                  26  \n",
              "26-Aug-21             0               0                 34                  34  \n",
              "27-Aug-21             0               0                 36                  36  \n",
              "...                 ...             ...                ...                 ...  \n",
              "27-Oct-21             0               0                  3                   3  \n",
              "28-Oct-21             0               0                 36                  36  \n",
              "29-Oct-21             0               0                  5                   5  \n",
              "30-Oct-21             0               0                  6                   6  \n",
              "31-Oct-21             0               0                  3                   3  \n",
              "\n",
              "[70 rows x 12 columns]"
            ],
            "text/html": [
              "\n",
              "  <div id=\"df-feb93593-0342-49ae-8dc0-ff834c3871dc\">\n",
              "    <div class=\"colab-df-container\">\n",
              "      <div>\n",
              "<style scoped>\n",
              "    .dataframe tbody tr th:only-of-type {\n",
              "        vertical-align: middle;\n",
              "    }\n",
              "\n",
              "    .dataframe tbody tr th {\n",
              "        vertical-align: top;\n",
              "    }\n",
              "\n",
              "    .dataframe thead th {\n",
              "        text-align: right;\n",
              "    }\n",
              "</style>\n",
              "<table border=\"1\" class=\"dataframe\">\n",
              "  <thead>\n",
              "    <tr style=\"text-align: right;\">\n",
              "      <th></th>\n",
              "      <th>HCWs M</th>\n",
              "      <th>HCWs F</th>\n",
              "      <th>Other FLWs M</th>\n",
              "      <th>Other FLWs F</th>\n",
              "      <th>Elderly ? 50years M</th>\n",
              "      <th>Elderly ? 50years F</th>\n",
              "      <th>Youth 18-49years M</th>\n",
              "      <th>Youth 18-49years F</th>\n",
              "      <th>AEFI Serious</th>\n",
              "      <th>AEFI Unserious</th>\n",
              "      <th>Vaccine Dials Rcd</th>\n",
              "      <th>Vaccine Dials Used</th>\n",
              "    </tr>\n",
              "    <tr>\n",
              "      <th>Date</th>\n",
              "      <th></th>\n",
              "      <th></th>\n",
              "      <th></th>\n",
              "      <th></th>\n",
              "      <th></th>\n",
              "      <th></th>\n",
              "      <th></th>\n",
              "      <th></th>\n",
              "      <th></th>\n",
              "      <th></th>\n",
              "      <th></th>\n",
              "      <th></th>\n",
              "    </tr>\n",
              "  </thead>\n",
              "  <tbody>\n",
              "    <tr>\n",
              "      <th>23-Aug-21</th>\n",
              "      <td>1</td>\n",
              "      <td>5</td>\n",
              "      <td>2</td>\n",
              "      <td>6</td>\n",
              "      <td>7</td>\n",
              "      <td>16</td>\n",
              "      <td>71</td>\n",
              "      <td>46</td>\n",
              "      <td>0</td>\n",
              "      <td>0</td>\n",
              "      <td>12</td>\n",
              "      <td>12</td>\n",
              "    </tr>\n",
              "    <tr>\n",
              "      <th>24-Aug-21</th>\n",
              "      <td>5</td>\n",
              "      <td>3</td>\n",
              "      <td>6</td>\n",
              "      <td>1</td>\n",
              "      <td>58</td>\n",
              "      <td>26</td>\n",
              "      <td>117</td>\n",
              "      <td>88</td>\n",
              "      <td>0</td>\n",
              "      <td>0</td>\n",
              "      <td>25</td>\n",
              "      <td>25</td>\n",
              "    </tr>\n",
              "    <tr>\n",
              "      <th>25-Aug-21</th>\n",
              "      <td>6</td>\n",
              "      <td>6</td>\n",
              "      <td>1</td>\n",
              "      <td>1</td>\n",
              "      <td>52</td>\n",
              "      <td>39</td>\n",
              "      <td>106</td>\n",
              "      <td>118</td>\n",
              "      <td>0</td>\n",
              "      <td>0</td>\n",
              "      <td>26</td>\n",
              "      <td>26</td>\n",
              "    </tr>\n",
              "    <tr>\n",
              "      <th>26-Aug-21</th>\n",
              "      <td>9</td>\n",
              "      <td>2</td>\n",
              "      <td>34</td>\n",
              "      <td>28</td>\n",
              "      <td>68</td>\n",
              "      <td>39</td>\n",
              "      <td>159</td>\n",
              "      <td>105</td>\n",
              "      <td>0</td>\n",
              "      <td>0</td>\n",
              "      <td>34</td>\n",
              "      <td>34</td>\n",
              "    </tr>\n",
              "    <tr>\n",
              "      <th>27-Aug-21</th>\n",
              "      <td>11</td>\n",
              "      <td>10</td>\n",
              "      <td>36</td>\n",
              "      <td>20</td>\n",
              "      <td>52</td>\n",
              "      <td>46</td>\n",
              "      <td>146</td>\n",
              "      <td>141</td>\n",
              "      <td>0</td>\n",
              "      <td>0</td>\n",
              "      <td>36</td>\n",
              "      <td>36</td>\n",
              "    </tr>\n",
              "    <tr>\n",
              "      <th>...</th>\n",
              "      <td>...</td>\n",
              "      <td>...</td>\n",
              "      <td>...</td>\n",
              "      <td>...</td>\n",
              "      <td>...</td>\n",
              "      <td>...</td>\n",
              "      <td>...</td>\n",
              "      <td>...</td>\n",
              "      <td>...</td>\n",
              "      <td>...</td>\n",
              "      <td>...</td>\n",
              "      <td>...</td>\n",
              "    </tr>\n",
              "    <tr>\n",
              "      <th>27-Oct-21</th>\n",
              "      <td>0</td>\n",
              "      <td>0</td>\n",
              "      <td>6</td>\n",
              "      <td>2</td>\n",
              "      <td>5</td>\n",
              "      <td>2</td>\n",
              "      <td>7</td>\n",
              "      <td>5</td>\n",
              "      <td>0</td>\n",
              "      <td>0</td>\n",
              "      <td>3</td>\n",
              "      <td>3</td>\n",
              "    </tr>\n",
              "    <tr>\n",
              "      <th>28-Oct-21</th>\n",
              "      <td>2</td>\n",
              "      <td>9</td>\n",
              "      <td>49</td>\n",
              "      <td>27</td>\n",
              "      <td>48</td>\n",
              "      <td>49</td>\n",
              "      <td>162</td>\n",
              "      <td>140</td>\n",
              "      <td>0</td>\n",
              "      <td>0</td>\n",
              "      <td>36</td>\n",
              "      <td>36</td>\n",
              "    </tr>\n",
              "    <tr>\n",
              "      <th>29-Oct-21</th>\n",
              "      <td>0</td>\n",
              "      <td>0</td>\n",
              "      <td>1</td>\n",
              "      <td>1</td>\n",
              "      <td>13</td>\n",
              "      <td>15</td>\n",
              "      <td>19</td>\n",
              "      <td>17</td>\n",
              "      <td>0</td>\n",
              "      <td>0</td>\n",
              "      <td>5</td>\n",
              "      <td>5</td>\n",
              "    </tr>\n",
              "    <tr>\n",
              "      <th>30-Oct-21</th>\n",
              "      <td>0</td>\n",
              "      <td>0</td>\n",
              "      <td>12</td>\n",
              "      <td>10</td>\n",
              "      <td>7</td>\n",
              "      <td>2</td>\n",
              "      <td>33</td>\n",
              "      <td>28</td>\n",
              "      <td>0</td>\n",
              "      <td>0</td>\n",
              "      <td>6</td>\n",
              "      <td>6</td>\n",
              "    </tr>\n",
              "    <tr>\n",
              "      <th>31-Oct-21</th>\n",
              "      <td>0</td>\n",
              "      <td>0</td>\n",
              "      <td>0</td>\n",
              "      <td>0</td>\n",
              "      <td>5</td>\n",
              "      <td>3</td>\n",
              "      <td>9</td>\n",
              "      <td>15</td>\n",
              "      <td>0</td>\n",
              "      <td>0</td>\n",
              "      <td>3</td>\n",
              "      <td>3</td>\n",
              "    </tr>\n",
              "  </tbody>\n",
              "</table>\n",
              "<p>70 rows × 12 columns</p>\n",
              "</div>\n",
              "      <button class=\"colab-df-convert\" onclick=\"convertToInteractive('df-feb93593-0342-49ae-8dc0-ff834c3871dc')\"\n",
              "              title=\"Convert this dataframe to an interactive table.\"\n",
              "              style=\"display:none;\">\n",
              "        \n",
              "  <svg xmlns=\"http://www.w3.org/2000/svg\" height=\"24px\"viewBox=\"0 0 24 24\"\n",
              "       width=\"24px\">\n",
              "    <path d=\"M0 0h24v24H0V0z\" fill=\"none\"/>\n",
              "    <path d=\"M18.56 5.44l.94 2.06.94-2.06 2.06-.94-2.06-.94-.94-2.06-.94 2.06-2.06.94zm-11 1L8.5 8.5l.94-2.06 2.06-.94-2.06-.94L8.5 2.5l-.94 2.06-2.06.94zm10 10l.94 2.06.94-2.06 2.06-.94-2.06-.94-.94-2.06-.94 2.06-2.06.94z\"/><path d=\"M17.41 7.96l-1.37-1.37c-.4-.4-.92-.59-1.43-.59-.52 0-1.04.2-1.43.59L10.3 9.45l-7.72 7.72c-.78.78-.78 2.05 0 2.83L4 21.41c.39.39.9.59 1.41.59.51 0 1.02-.2 1.41-.59l7.78-7.78 2.81-2.81c.8-.78.8-2.07 0-2.86zM5.41 20L4 18.59l7.72-7.72 1.47 1.35L5.41 20z\"/>\n",
              "  </svg>\n",
              "      </button>\n",
              "      \n",
              "  <style>\n",
              "    .colab-df-container {\n",
              "      display:flex;\n",
              "      flex-wrap:wrap;\n",
              "      gap: 12px;\n",
              "    }\n",
              "\n",
              "    .colab-df-convert {\n",
              "      background-color: #E8F0FE;\n",
              "      border: none;\n",
              "      border-radius: 50%;\n",
              "      cursor: pointer;\n",
              "      display: none;\n",
              "      fill: #1967D2;\n",
              "      height: 32px;\n",
              "      padding: 0 0 0 0;\n",
              "      width: 32px;\n",
              "    }\n",
              "\n",
              "    .colab-df-convert:hover {\n",
              "      background-color: #E2EBFA;\n",
              "      box-shadow: 0px 1px 2px rgba(60, 64, 67, 0.3), 0px 1px 3px 1px rgba(60, 64, 67, 0.15);\n",
              "      fill: #174EA6;\n",
              "    }\n",
              "\n",
              "    [theme=dark] .colab-df-convert {\n",
              "      background-color: #3B4455;\n",
              "      fill: #D2E3FC;\n",
              "    }\n",
              "\n",
              "    [theme=dark] .colab-df-convert:hover {\n",
              "      background-color: #434B5C;\n",
              "      box-shadow: 0px 1px 3px 1px rgba(0, 0, 0, 0.15);\n",
              "      filter: drop-shadow(0px 1px 2px rgba(0, 0, 0, 0.3));\n",
              "      fill: #FFFFFF;\n",
              "    }\n",
              "  </style>\n",
              "\n",
              "      <script>\n",
              "        const buttonEl =\n",
              "          document.querySelector('#df-feb93593-0342-49ae-8dc0-ff834c3871dc button.colab-df-convert');\n",
              "        buttonEl.style.display =\n",
              "          google.colab.kernel.accessAllowed ? 'block' : 'none';\n",
              "\n",
              "        async function convertToInteractive(key) {\n",
              "          const element = document.querySelector('#df-feb93593-0342-49ae-8dc0-ff834c3871dc');\n",
              "          const dataTable =\n",
              "            await google.colab.kernel.invokeFunction('convertToInteractive',\n",
              "                                                     [key], {});\n",
              "          if (!dataTable) return;\n",
              "\n",
              "          const docLinkHtml = 'Like what you see? Visit the ' +\n",
              "            '<a target=\"_blank\" href=https://colab.research.google.com/notebooks/data_table.ipynb>data table notebook</a>'\n",
              "            + ' to learn more about interactive tables.';\n",
              "          element.innerHTML = '';\n",
              "          dataTable['output_type'] = 'display_data';\n",
              "          await google.colab.output.renderOutput(dataTable, element);\n",
              "          const docLink = document.createElement('div');\n",
              "          docLink.innerHTML = docLinkHtml;\n",
              "          element.appendChild(docLink);\n",
              "        }\n",
              "      </script>\n",
              "    </div>\n",
              "  </div>\n",
              "  "
            ]
          },
          "metadata": {},
          "execution_count": 40
        }
      ]
    },
    {
      "cell_type": "markdown",
      "source": [
        "# Feature One\n",
        "\n",
        "The first feature we will be estimating the mean of the subset *Healthcare Workers* when sigma is *known*.\n",
        "\n",
        "Here the population of male healthcare workers will be added to the population of female healthcare workers to give the population of healthcare workers and a random sample of the population will be taken for our estimation."
      ],
      "metadata": {
        "id": "v4d35xZ4i66Q"
      }
    },
    {
      "cell_type": "code",
      "source": [
        "#health care workers male column\n",
        "df[\"HCWs M\"]"
      ],
      "metadata": {
        "colab": {
          "base_uri": "https://localhost:8080/"
        },
        "id": "raoKHQ8qlCnh",
        "outputId": "97b7e0ca-66ed-432b-f9c2-2f99bda73a5a"
      },
      "execution_count": null,
      "outputs": [
        {
          "output_type": "execute_result",
          "data": {
            "text/plain": [
              "Date\n",
              "23-Aug-21     1\n",
              "24-Aug-21     5\n",
              "25-Aug-21     6\n",
              "26-Aug-21     9\n",
              "27-Aug-21    11\n",
              "             ..\n",
              "27-Oct-21     0\n",
              "28-Oct-21     2\n",
              "29-Oct-21     0\n",
              "30-Oct-21     0\n",
              "31-Oct-21     0\n",
              "Name: HCWs M, Length: 70, dtype: int64"
            ]
          },
          "metadata": {},
          "execution_count": 42
        }
      ]
    },
    {
      "cell_type": "code",
      "source": [
        "#converting to list\n",
        "population_healthcare_workers_m = df[\"HCWs M\"].values.tolist()"
      ],
      "metadata": {
        "id": "aQw1pCiLiuh_"
      },
      "execution_count": null,
      "outputs": []
    },
    {
      "cell_type": "code",
      "source": [
        "#confirm length of list\n",
        "len(population_healthcare_workers_m)"
      ],
      "metadata": {
        "colab": {
          "base_uri": "https://localhost:8080/"
        },
        "id": "iotWsmHUl3cD",
        "outputId": "62102aaf-5c93-43ab-f4b0-8d86d29912a3"
      },
      "execution_count": null,
      "outputs": [
        {
          "output_type": "execute_result",
          "data": {
            "text/plain": [
              "70"
            ]
          },
          "metadata": {},
          "execution_count": 44
        }
      ]
    },
    {
      "cell_type": "code",
      "source": [
        "#health care workers F column\n",
        "df[\"HCWs F\"]"
      ],
      "metadata": {
        "colab": {
          "base_uri": "https://localhost:8080/"
        },
        "id": "6yuhya5AmKCF",
        "outputId": "a4929c36-1910-42c5-8b4c-4591d2d4de2e"
      },
      "execution_count": null,
      "outputs": [
        {
          "output_type": "execute_result",
          "data": {
            "text/plain": [
              "Date\n",
              "23-Aug-21     5\n",
              "24-Aug-21     3\n",
              "25-Aug-21     6\n",
              "26-Aug-21     2\n",
              "27-Aug-21    10\n",
              "             ..\n",
              "27-Oct-21     0\n",
              "28-Oct-21     9\n",
              "29-Oct-21     0\n",
              "30-Oct-21     0\n",
              "31-Oct-21     0\n",
              "Name: HCWs F, Length: 70, dtype: int64"
            ]
          },
          "metadata": {},
          "execution_count": 45
        }
      ]
    },
    {
      "cell_type": "code",
      "source": [
        "#converting to list\n",
        "population_healthcare_workers_f = df[\"HCWs F\"].values.tolist()"
      ],
      "metadata": {
        "id": "p08HW55wmS6x"
      },
      "execution_count": null,
      "outputs": []
    },
    {
      "cell_type": "code",
      "source": [
        "#confirm length of list\n",
        "len(population_healthcare_workers_f)"
      ],
      "metadata": {
        "colab": {
          "base_uri": "https://localhost:8080/"
        },
        "id": "hKmaTHesma5n",
        "outputId": "9edcec84-9ac4-4e25-9fe3-3b121c2002f7"
      },
      "execution_count": null,
      "outputs": [
        {
          "output_type": "execute_result",
          "data": {
            "text/plain": [
              "70"
            ]
          },
          "metadata": {},
          "execution_count": 47
        }
      ]
    },
    {
      "cell_type": "code",
      "source": [
        "#adding both converted lists to get our population\n",
        "population_healthcare_workers = population_healthcare_workers_m + population_healthcare_workers_f"
      ],
      "metadata": {
        "id": "oXWiAVDqm1TD"
      },
      "execution_count": null,
      "outputs": []
    },
    {
      "cell_type": "code",
      "source": [
        "#confirm length of population list\n",
        "len(population_healthcare_workers)"
      ],
      "metadata": {
        "colab": {
          "base_uri": "https://localhost:8080/"
        },
        "id": "drj5EFDQm_xa",
        "outputId": "dd05bc04-f7b1-4c0b-8a21-929c4c863191"
      },
      "execution_count": null,
      "outputs": [
        {
          "output_type": "execute_result",
          "data": {
            "text/plain": [
              "140"
            ]
          },
          "metadata": {},
          "execution_count": 49
        }
      ]
    },
    {
      "cell_type": "code",
      "source": [
        "#creating a dataframe of the population\n",
        "df0 = pd.DataFrame(population_healthcare_workers)"
      ],
      "metadata": {
        "id": "eoiYEenanUKj"
      },
      "execution_count": null,
      "outputs": []
    },
    {
      "cell_type": "code",
      "source": [
        "#summary statistics of population dataframe\n",
        "df0.describe()"
      ],
      "metadata": {
        "colab": {
          "base_uri": "https://localhost:8080/",
          "height": 300
        },
        "id": "c1L4Lb1yni4M",
        "outputId": "0621a95e-29a7-4825-d952-92d5fa86128d"
      },
      "execution_count": null,
      "outputs": [
        {
          "output_type": "execute_result",
          "data": {
            "text/plain": [
              "                0\n",
              "count  140.000000\n",
              "mean     2.214286\n",
              "std      3.507004\n",
              "min      0.000000\n",
              "25%      0.000000\n",
              "50%      0.500000\n",
              "75%      3.000000\n",
              "max     20.000000"
            ],
            "text/html": [
              "\n",
              "  <div id=\"df-685e3c91-958c-4dda-8e3f-c7c35f81d268\">\n",
              "    <div class=\"colab-df-container\">\n",
              "      <div>\n",
              "<style scoped>\n",
              "    .dataframe tbody tr th:only-of-type {\n",
              "        vertical-align: middle;\n",
              "    }\n",
              "\n",
              "    .dataframe tbody tr th {\n",
              "        vertical-align: top;\n",
              "    }\n",
              "\n",
              "    .dataframe thead th {\n",
              "        text-align: right;\n",
              "    }\n",
              "</style>\n",
              "<table border=\"1\" class=\"dataframe\">\n",
              "  <thead>\n",
              "    <tr style=\"text-align: right;\">\n",
              "      <th></th>\n",
              "      <th>0</th>\n",
              "    </tr>\n",
              "  </thead>\n",
              "  <tbody>\n",
              "    <tr>\n",
              "      <th>count</th>\n",
              "      <td>140.000000</td>\n",
              "    </tr>\n",
              "    <tr>\n",
              "      <th>mean</th>\n",
              "      <td>2.214286</td>\n",
              "    </tr>\n",
              "    <tr>\n",
              "      <th>std</th>\n",
              "      <td>3.507004</td>\n",
              "    </tr>\n",
              "    <tr>\n",
              "      <th>min</th>\n",
              "      <td>0.000000</td>\n",
              "    </tr>\n",
              "    <tr>\n",
              "      <th>25%</th>\n",
              "      <td>0.000000</td>\n",
              "    </tr>\n",
              "    <tr>\n",
              "      <th>50%</th>\n",
              "      <td>0.500000</td>\n",
              "    </tr>\n",
              "    <tr>\n",
              "      <th>75%</th>\n",
              "      <td>3.000000</td>\n",
              "    </tr>\n",
              "    <tr>\n",
              "      <th>max</th>\n",
              "      <td>20.000000</td>\n",
              "    </tr>\n",
              "  </tbody>\n",
              "</table>\n",
              "</div>\n",
              "      <button class=\"colab-df-convert\" onclick=\"convertToInteractive('df-685e3c91-958c-4dda-8e3f-c7c35f81d268')\"\n",
              "              title=\"Convert this dataframe to an interactive table.\"\n",
              "              style=\"display:none;\">\n",
              "        \n",
              "  <svg xmlns=\"http://www.w3.org/2000/svg\" height=\"24px\"viewBox=\"0 0 24 24\"\n",
              "       width=\"24px\">\n",
              "    <path d=\"M0 0h24v24H0V0z\" fill=\"none\"/>\n",
              "    <path d=\"M18.56 5.44l.94 2.06.94-2.06 2.06-.94-2.06-.94-.94-2.06-.94 2.06-2.06.94zm-11 1L8.5 8.5l.94-2.06 2.06-.94-2.06-.94L8.5 2.5l-.94 2.06-2.06.94zm10 10l.94 2.06.94-2.06 2.06-.94-2.06-.94-.94-2.06-.94 2.06-2.06.94z\"/><path d=\"M17.41 7.96l-1.37-1.37c-.4-.4-.92-.59-1.43-.59-.52 0-1.04.2-1.43.59L10.3 9.45l-7.72 7.72c-.78.78-.78 2.05 0 2.83L4 21.41c.39.39.9.59 1.41.59.51 0 1.02-.2 1.41-.59l7.78-7.78 2.81-2.81c.8-.78.8-2.07 0-2.86zM5.41 20L4 18.59l7.72-7.72 1.47 1.35L5.41 20z\"/>\n",
              "  </svg>\n",
              "      </button>\n",
              "      \n",
              "  <style>\n",
              "    .colab-df-container {\n",
              "      display:flex;\n",
              "      flex-wrap:wrap;\n",
              "      gap: 12px;\n",
              "    }\n",
              "\n",
              "    .colab-df-convert {\n",
              "      background-color: #E8F0FE;\n",
              "      border: none;\n",
              "      border-radius: 50%;\n",
              "      cursor: pointer;\n",
              "      display: none;\n",
              "      fill: #1967D2;\n",
              "      height: 32px;\n",
              "      padding: 0 0 0 0;\n",
              "      width: 32px;\n",
              "    }\n",
              "\n",
              "    .colab-df-convert:hover {\n",
              "      background-color: #E2EBFA;\n",
              "      box-shadow: 0px 1px 2px rgba(60, 64, 67, 0.3), 0px 1px 3px 1px rgba(60, 64, 67, 0.15);\n",
              "      fill: #174EA6;\n",
              "    }\n",
              "\n",
              "    [theme=dark] .colab-df-convert {\n",
              "      background-color: #3B4455;\n",
              "      fill: #D2E3FC;\n",
              "    }\n",
              "\n",
              "    [theme=dark] .colab-df-convert:hover {\n",
              "      background-color: #434B5C;\n",
              "      box-shadow: 0px 1px 3px 1px rgba(0, 0, 0, 0.15);\n",
              "      filter: drop-shadow(0px 1px 2px rgba(0, 0, 0, 0.3));\n",
              "      fill: #FFFFFF;\n",
              "    }\n",
              "  </style>\n",
              "\n",
              "      <script>\n",
              "        const buttonEl =\n",
              "          document.querySelector('#df-685e3c91-958c-4dda-8e3f-c7c35f81d268 button.colab-df-convert');\n",
              "        buttonEl.style.display =\n",
              "          google.colab.kernel.accessAllowed ? 'block' : 'none';\n",
              "\n",
              "        async function convertToInteractive(key) {\n",
              "          const element = document.querySelector('#df-685e3c91-958c-4dda-8e3f-c7c35f81d268');\n",
              "          const dataTable =\n",
              "            await google.colab.kernel.invokeFunction('convertToInteractive',\n",
              "                                                     [key], {});\n",
              "          if (!dataTable) return;\n",
              "\n",
              "          const docLinkHtml = 'Like what you see? Visit the ' +\n",
              "            '<a target=\"_blank\" href=https://colab.research.google.com/notebooks/data_table.ipynb>data table notebook</a>'\n",
              "            + ' to learn more about interactive tables.';\n",
              "          element.innerHTML = '';\n",
              "          dataTable['output_type'] = 'display_data';\n",
              "          await google.colab.output.renderOutput(dataTable, element);\n",
              "          const docLink = document.createElement('div');\n",
              "          docLink.innerHTML = docLinkHtml;\n",
              "          element.appendChild(docLink);\n",
              "        }\n",
              "      </script>\n",
              "    </div>\n",
              "  </div>\n",
              "  "
            ]
          },
          "metadata": {},
          "execution_count": 51
        }
      ]
    },
    {
      "cell_type": "code",
      "source": [
        "df0.hist()\n",
        "plt.title(\"Population of Health Care Workers\")"
      ],
      "metadata": {
        "colab": {
          "base_uri": "https://localhost:8080/",
          "height": 299
        },
        "id": "E7UyjNCun6Ua",
        "outputId": "acfdc50b-8d3b-4960-9210-23f46187be6a"
      },
      "execution_count": null,
      "outputs": [
        {
          "output_type": "execute_result",
          "data": {
            "text/plain": [
              "Text(0.5, 1.0, 'Population of Health Care Workers')"
            ]
          },
          "metadata": {},
          "execution_count": 52
        },
        {
          "output_type": "display_data",
          "data": {
            "text/plain": [
              "<Figure size 432x288 with 1 Axes>"
            ],
            "image/png": "[encoded data removed]"
          },
          "metadata": {
            "needs_background": "light"
          }
        }
      ]
    },
    {
      "cell_type": "markdown",
      "source": [
        "From the above histogram display, the distribution of the population of healthcare workers is right skewed. The majority of the distribution falls between the interval 0 and 25. Some outlier is noticed between the interval 17.5 and 20."
      ],
      "metadata": {
        "id": "wgXgijvwobG3"
      }
    },
    {
      "cell_type": "code",
      "source": [
        "#choosing a sample from our healhcare workers population\n",
        "sample_hc_workers = np.random.choice(a=population_healthcare_workers, size=40)"
      ],
      "metadata": {
        "id": "VAP0QWoyogN9"
      },
      "execution_count": null,
      "outputs": []
    },
    {
      "cell_type": "code",
      "source": [
        "#creating a dataframe of sample\n",
        "sample_healthcare_workers = pd.DataFrame(sample_hc_workers)"
      ],
      "metadata": {
        "id": "899O1FDgo0-z"
      },
      "execution_count": null,
      "outputs": []
    },
    {
      "cell_type": "code",
      "source": [
        "#summary statistics of our sample mean\n",
        "sample_healthcare_workers.describe()"
      ],
      "metadata": {
        "colab": {
          "base_uri": "https://localhost:8080/",
          "height": 300
        },
        "id": "14TdIm6UpA6k",
        "outputId": "440449ef-a027-4760-f850-f0905a1b29e6"
      },
      "execution_count": null,
      "outputs": [
        {
          "output_type": "execute_result",
          "data": {
            "text/plain": [
              "               0\n",
              "count  40.000000\n",
              "mean    1.925000\n",
              "std     2.912286\n",
              "min     0.000000\n",
              "25%     0.000000\n",
              "50%     0.000000\n",
              "75%     3.000000\n",
              "max     8.000000"
            ],
            "text/html": [
              "\n",
              "  <div id=\"df-42040414-f171-44f0-9c38-f2a669064034\">\n",
              "    <div class=\"colab-df-container\">\n",
              "      <div>\n",
              "<style scoped>\n",
              "    .dataframe tbody tr th:only-of-type {\n",
              "        vertical-align: middle;\n",
              "    }\n",
              "\n",
              "    .dataframe tbody tr th {\n",
              "        vertical-align: top;\n",
              "    }\n",
              "\n",
              "    .dataframe thead th {\n",
              "        text-align: right;\n",
              "    }\n",
              "</style>\n",
              "<table border=\"1\" class=\"dataframe\">\n",
              "  <thead>\n",
              "    <tr style=\"text-align: right;\">\n",
              "      <th></th>\n",
              "      <th>0</th>\n",
              "    </tr>\n",
              "  </thead>\n",
              "  <tbody>\n",
              "    <tr>\n",
              "      <th>count</th>\n",
              "      <td>40.000000</td>\n",
              "    </tr>\n",
              "    <tr>\n",
              "      <th>mean</th>\n",
              "      <td>1.925000</td>\n",
              "    </tr>\n",
              "    <tr>\n",
              "      <th>std</th>\n",
              "      <td>2.912286</td>\n",
              "    </tr>\n",
              "    <tr>\n",
              "      <th>min</th>\n",
              "      <td>0.000000</td>\n",
              "    </tr>\n",
              "    <tr>\n",
              "      <th>25%</th>\n",
              "      <td>0.000000</td>\n",
              "    </tr>\n",
              "    <tr>\n",
              "      <th>50%</th>\n",
              "      <td>0.000000</td>\n",
              "    </tr>\n",
              "    <tr>\n",
              "      <th>75%</th>\n",
              "      <td>3.000000</td>\n",
              "    </tr>\n",
              "    <tr>\n",
              "      <th>max</th>\n",
              "      <td>8.000000</td>\n",
              "    </tr>\n",
              "  </tbody>\n",
              "</table>\n",
              "</div>\n",
              "      <button class=\"colab-df-convert\" onclick=\"convertToInteractive('df-42040414-f171-44f0-9c38-f2a669064034')\"\n",
              "              title=\"Convert this dataframe to an interactive table.\"\n",
              "              style=\"display:none;\">\n",
              "        \n",
              "  <svg xmlns=\"http://www.w3.org/2000/svg\" height=\"24px\"viewBox=\"0 0 24 24\"\n",
              "       width=\"24px\">\n",
              "    <path d=\"M0 0h24v24H0V0z\" fill=\"none\"/>\n",
              "    <path d=\"M18.56 5.44l.94 2.06.94-2.06 2.06-.94-2.06-.94-.94-2.06-.94 2.06-2.06.94zm-11 1L8.5 8.5l.94-2.06 2.06-.94-2.06-.94L8.5 2.5l-.94 2.06-2.06.94zm10 10l.94 2.06.94-2.06 2.06-.94-2.06-.94-.94-2.06-.94 2.06-2.06.94z\"/><path d=\"M17.41 7.96l-1.37-1.37c-.4-.4-.92-.59-1.43-.59-.52 0-1.04.2-1.43.59L10.3 9.45l-7.72 7.72c-.78.78-.78 2.05 0 2.83L4 21.41c.39.39.9.59 1.41.59.51 0 1.02-.2 1.41-.59l7.78-7.78 2.81-2.81c.8-.78.8-2.07 0-2.86zM5.41 20L4 18.59l7.72-7.72 1.47 1.35L5.41 20z\"/>\n",
              "  </svg>\n",
              "      </button>\n",
              "      \n",
              "  <style>\n",
              "    .colab-df-container {\n",
              "      display:flex;\n",
              "      flex-wrap:wrap;\n",
              "      gap: 12px;\n",
              "    }\n",
              "\n",
              "    .colab-df-convert {\n",
              "      background-color: #E8F0FE;\n",
              "      border: none;\n",
              "      border-radius: 50%;\n",
              "      cursor: pointer;\n",
              "      display: none;\n",
              "      fill: #1967D2;\n",
              "      height: 32px;\n",
              "      padding: 0 0 0 0;\n",
              "      width: 32px;\n",
              "    }\n",
              "\n",
              "    .colab-df-convert:hover {\n",
              "      background-color: #E2EBFA;\n",
              "      box-shadow: 0px 1px 2px rgba(60, 64, 67, 0.3), 0px 1px 3px 1px rgba(60, 64, 67, 0.15);\n",
              "      fill: #174EA6;\n",
              "    }\n",
              "\n",
              "    [theme=dark] .colab-df-convert {\n",
              "      background-color: #3B4455;\n",
              "      fill: #D2E3FC;\n",
              "    }\n",
              "\n",
              "    [theme=dark] .colab-df-convert:hover {\n",
              "      background-color: #434B5C;\n",
              "      box-shadow: 0px 1px 3px 1px rgba(0, 0, 0, 0.15);\n",
              "      filter: drop-shadow(0px 1px 2px rgba(0, 0, 0, 0.3));\n",
              "      fill: #FFFFFF;\n",
              "    }\n",
              "  </style>\n",
              "\n",
              "      <script>\n",
              "        const buttonEl =\n",
              "          document.querySelector('#df-42040414-f171-44f0-9c38-f2a669064034 button.colab-df-convert');\n",
              "        buttonEl.style.display =\n",
              "          google.colab.kernel.accessAllowed ? 'block' : 'none';\n",
              "\n",
              "        async function convertToInteractive(key) {\n",
              "          const element = document.querySelector('#df-42040414-f171-44f0-9c38-f2a669064034');\n",
              "          const dataTable =\n",
              "            await google.colab.kernel.invokeFunction('convertToInteractive',\n",
              "                                                     [key], {});\n",
              "          if (!dataTable) return;\n",
              "\n",
              "          const docLinkHtml = 'Like what you see? Visit the ' +\n",
              "            '<a target=\"_blank\" href=https://colab.research.google.com/notebooks/data_table.ipynb>data table notebook</a>'\n",
              "            + ' to learn more about interactive tables.';\n",
              "          element.innerHTML = '';\n",
              "          dataTable['output_type'] = 'display_data';\n",
              "          await google.colab.output.renderOutput(dataTable, element);\n",
              "          const docLink = document.createElement('div');\n",
              "          docLink.innerHTML = docLinkHtml;\n",
              "          element.appendChild(docLink);\n",
              "        }\n",
              "      </script>\n",
              "    </div>\n",
              "  </div>\n",
              "  "
            ]
          },
          "metadata": {},
          "execution_count": 55
        }
      ]
    },
    {
      "cell_type": "code",
      "source": [
        "sample_healthcare_workers.hist(bins=6)\n",
        "plt.title(\"Sample Health Care Workers\")"
      ],
      "metadata": {
        "colab": {
          "base_uri": "https://localhost:8080/",
          "height": 299
        },
        "id": "FDluOErGpOx-",
        "outputId": "2bd0da11-8de7-498d-89cf-62dd422de8df"
      },
      "execution_count": null,
      "outputs": [
        {
          "output_type": "execute_result",
          "data": {
            "text/plain": [
              "Text(0.5, 1.0, 'Sample Health Care Workers')"
            ]
          },
          "metadata": {},
          "execution_count": 68
        },
        {
          "output_type": "display_data",
          "data": {
            "text/plain": [
              "<Figure size 432x288 with 1 Axes>"
            ],
            "image/png": "[encoded data removed]"
          },
          "metadata": {
            "needs_background": "light"
          }
        }
      ]
    },
    {
      "cell_type": "markdown",
      "source": [
        "In the sample histogram without the bins set, there are gaps between the intervals. Setting th bins to 6 for a sample size of 40 allows for a continuous distribution of data across the histogram.\n",
        "\n",
        "From the above histogram display, the distribution of the sample population of healthcare workers is right skewed. The majority of the distribution falls between the interval 0 and 1."
      ],
      "metadata": {
        "id": "-CCN7G-8pkED"
      }
    },
    {
      "cell_type": "markdown",
      "source": [
        "*a 95% Confidence Interval of feature one for mu when sigma is known:*"
      ],
      "metadata": {
        "id": "8Q_EBSVTp6rC"
      }
    },
    {
      "cell_type": "code",
      "source": [
        "#sample size of feature one\n",
        "n = 40"
      ],
      "metadata": {
        "id": "i-SjohsQpuKA"
      },
      "execution_count": null,
      "outputs": []
    },
    {
      "cell_type": "code",
      "source": [
        "#sample mean of feature one\n",
        "xbar = sample_healthcare_workers.mean()"
      ],
      "metadata": {
        "id": "IMJXDO5yqf_-"
      },
      "execution_count": null,
      "outputs": []
    },
    {
      "cell_type": "code",
      "source": [
        "#population standard deviation\n",
        "sigma = df0.std()"
      ],
      "metadata": {
        "id": "PUjFmND5qy64"
      },
      "execution_count": null,
      "outputs": []
    },
    {
      "cell_type": "code",
      "source": [
        "standard_error = sigma/math.sqrt(n)"
      ],
      "metadata": {
        "id": "D7Z61HGCrP58"
      },
      "execution_count": null,
      "outputs": []
    },
    {
      "cell_type": "code",
      "source": [
        "#significance level\n",
        "alpha = 1 - 0.95"
      ],
      "metadata": {
        "id": "4VqIah45rbCP"
      },
      "execution_count": null,
      "outputs": []
    },
    {
      "cell_type": "code",
      "source": [
        "#z statistic\n",
        "z_critical = stats.norm.ppf(q=0.95 + alpha/2)"
      ],
      "metadata": {
        "id": "mZifhcsEro1L"
      },
      "execution_count": null,
      "outputs": []
    },
    {
      "cell_type": "code",
      "source": [
        "reliability_factor = z_critical"
      ],
      "metadata": {
        "id": "wCNJ0UrKtD38"
      },
      "execution_count": null,
      "outputs": []
    },
    {
      "cell_type": "code",
      "source": [
        "#margin of error\n",
        "marginof_error = round(reliability_factor * standard_error, 3)"
      ],
      "metadata": {
        "id": "iSHXZ8e0tUSj"
      },
      "execution_count": null,
      "outputs": []
    },
    {
      "cell_type": "code",
      "source": [
        "confidence_interval = (xbar - marginof_error, xbar + marginof_error)"
      ],
      "metadata": {
        "id": "LDuISty4tjtM"
      },
      "execution_count": null,
      "outputs": []
    },
    {
      "cell_type": "code",
      "source": [
        "print(\"95% CI for mu when sigma is known:\")\n",
        "print(confidence_interval)"
      ],
      "metadata": {
        "colab": {
          "base_uri": "https://localhost:8080/"
        },
        "id": "ijootymOtwFD",
        "outputId": "91835299-dfb0-4d86-a375-cd8de0d288a9"
      },
      "execution_count": null,
      "outputs": [
        {
          "output_type": "stream",
          "name": "stdout",
          "text": [
            "95% CI for mu when sigma is known:\n",
            "(0    0.838\n",
            "dtype: float64, 0    3.012\n",
            "dtype: float64)\n"
          ]
        }
      ]
    },
    {
      "cell_type": "markdown",
      "source": [
        "**Conclusion**\n",
        "\n",
        "We have a 95% confidence interval that our mu of feature one *healthcare workers* when sigma is known falls in the range(0.863, 3.037)."
      ],
      "metadata": {
        "id": "I2gnwHLjt_Rk"
      }
    },
    {
      "cell_type": "markdown",
      "source": [
        "# Feature Two\n",
        "\n",
        "The second feature we will be estimating the mean of the subset *Youths* when sigma is *unknown*.\n",
        "\n",
        "Here the population of *male youths* will be added to the population of the *female youths* to give the population of youths and a random sample of the population will be taken for our estimation."
      ],
      "metadata": {
        "id": "PH-e-QiGvm7-"
      }
    },
    {
      "cell_type": "code",
      "source": [
        "#youth male column of df\n",
        "df[\"Youth 18-49years M\"]"
      ],
      "metadata": {
        "colab": {
          "base_uri": "https://localhost:8080/"
        },
        "id": "eU3Yawzdvlke",
        "outputId": "e3d96046-e4f3-419a-e5ab-14ae6d62b457"
      },
      "execution_count": null,
      "outputs": [
        {
          "output_type": "execute_result",
          "data": {
            "text/plain": [
              "Date\n",
              "23-Aug-21     71\n",
              "24-Aug-21    117\n",
              "25-Aug-21    106\n",
              "26-Aug-21    159\n",
              "27-Aug-21    146\n",
              "            ... \n",
              "27-Oct-21      7\n",
              "28-Oct-21    162\n",
              "29-Oct-21     19\n",
              "30-Oct-21     33\n",
              "31-Oct-21      9\n",
              "Name: Youth 18-49years M, Length: 70, dtype: int64"
            ]
          },
          "metadata": {},
          "execution_count": 71
        }
      ]
    },
    {
      "cell_type": "code",
      "source": [
        "#converting to list\n",
        "population_youths_m = df[\"Youth 18-49years M\"].values.tolist()"
      ],
      "metadata": {
        "id": "1mXN0HszvX7x"
      },
      "execution_count": null,
      "outputs": []
    },
    {
      "cell_type": "code",
      "source": [
        "#confirm length of list\n",
        "len(population_youths_m)"
      ],
      "metadata": {
        "colab": {
          "base_uri": "https://localhost:8080/"
        },
        "id": "9sQuX48uw8M6",
        "outputId": "8031dd58-466e-4bb3-d459-4ae51e0c9a98"
      },
      "execution_count": null,
      "outputs": [
        {
          "output_type": "execute_result",
          "data": {
            "text/plain": [
              "70"
            ]
          },
          "metadata": {},
          "execution_count": 73
        }
      ]
    },
    {
      "cell_type": "code",
      "source": [
        "#youth female column of df\n",
        "df[\"Youth 18-49years F\"]"
      ],
      "metadata": {
        "colab": {
          "base_uri": "https://localhost:8080/"
        },
        "id": "dEu0tosaxOUE",
        "outputId": "9b0bb2dc-433c-4d9b-b8be-4299bd494fcd"
      },
      "execution_count": null,
      "outputs": [
        {
          "output_type": "execute_result",
          "data": {
            "text/plain": [
              "Date\n",
              "23-Aug-21     46\n",
              "24-Aug-21     88\n",
              "25-Aug-21    118\n",
              "26-Aug-21    105\n",
              "27-Aug-21    141\n",
              "            ... \n",
              "27-Oct-21      5\n",
              "28-Oct-21    140\n",
              "29-Oct-21     17\n",
              "30-Oct-21     28\n",
              "31-Oct-21     15\n",
              "Name: Youth 18-49years F, Length: 70, dtype: int64"
            ]
          },
          "metadata": {},
          "execution_count": 74
        }
      ]
    },
    {
      "cell_type": "code",
      "source": [
        "#converting to list\n",
        "population_youths_f = df[\"Youth 18-49years F\"].values.tolist()"
      ],
      "metadata": {
        "id": "ONJn8OcFxGBY"
      },
      "execution_count": null,
      "outputs": []
    },
    {
      "cell_type": "code",
      "source": [
        "#confirm length of list\n",
        "len(population_youths_f)"
      ],
      "metadata": {
        "colab": {
          "base_uri": "https://localhost:8080/"
        },
        "id": "ds6sxUnmxgLg",
        "outputId": "72f38460-7c9f-4b36-cebc-bc32d1b30005"
      },
      "execution_count": null,
      "outputs": [
        {
          "output_type": "execute_result",
          "data": {
            "text/plain": [
              "70"
            ]
          },
          "metadata": {},
          "execution_count": 76
        }
      ]
    },
    {
      "cell_type": "code",
      "source": [
        "population_youths = population_youths_m + population_youths_f"
      ],
      "metadata": {
        "id": "6nPQHT3DyIb2"
      },
      "execution_count": null,
      "outputs": []
    },
    {
      "cell_type": "code",
      "source": [
        "#confirming length of youths population\n",
        "len(population_youths)"
      ],
      "metadata": {
        "colab": {
          "base_uri": "https://localhost:8080/"
        },
        "id": "HSGGFhOSy1jF",
        "outputId": "d737866e-16e2-4c9f-85cb-a3715d1a8ed1"
      },
      "execution_count": null,
      "outputs": [
        {
          "output_type": "execute_result",
          "data": {
            "text/plain": [
              "140"
            ]
          },
          "metadata": {},
          "execution_count": 78
        }
      ]
    },
    {
      "cell_type": "code",
      "source": [
        "#creating dataframe of youths population\n",
        "df1 = pd.DataFrame(population_youths)"
      ],
      "metadata": {
        "id": "8tt1somuzTu1"
      },
      "execution_count": null,
      "outputs": []
    },
    {
      "cell_type": "code",
      "source": [
        "#summary statistics of youths population\n",
        "df1.describe()"
      ],
      "metadata": {
        "colab": {
          "base_uri": "https://localhost:8080/",
          "height": 300
        },
        "id": "xiTvc7jF_es1",
        "outputId": "bc7f574f-4fe4-474c-cde2-2148b48a8471"
      },
      "execution_count": null,
      "outputs": [
        {
          "output_type": "execute_result",
          "data": {
            "text/plain": [
              "                0\n",
              "count  140.000000\n",
              "mean    73.650000\n",
              "std     58.686942\n",
              "min      0.000000\n",
              "25%     25.000000\n",
              "50%     64.500000\n",
              "75%    109.250000\n",
              "max    261.000000"
            ],
            "text/html": [
              "\n",
              "  <div id=\"df-7c8b373c-2d52-4207-a0e3-1d5309ab662b\">\n",
              "    <div class=\"colab-df-container\">\n",
              "      <div>\n",
              "<style scoped>\n",
              "    .dataframe tbody tr th:only-of-type {\n",
              "        vertical-align: middle;\n",
              "    }\n",
              "\n",
              "    .dataframe tbody tr th {\n",
              "        vertical-align: top;\n",
              "    }\n",
              "\n",
              "    .dataframe thead th {\n",
              "        text-align: right;\n",
              "    }\n",
              "</style>\n",
              "<table border=\"1\" class=\"dataframe\">\n",
              "  <thead>\n",
              "    <tr style=\"text-align: right;\">\n",
              "      <th></th>\n",
              "      <th>0</th>\n",
              "    </tr>\n",
              "  </thead>\n",
              "  <tbody>\n",
              "    <tr>\n",
              "      <th>count</th>\n",
              "      <td>140.000000</td>\n",
              "    </tr>\n",
              "    <tr>\n",
              "      <th>mean</th>\n",
              "      <td>73.650000</td>\n",
              "    </tr>\n",
              "    <tr>\n",
              "      <th>std</th>\n",
              "      <td>58.686942</td>\n",
              "    </tr>\n",
              "    <tr>\n",
              "      <th>min</th>\n",
              "      <td>0.000000</td>\n",
              "    </tr>\n",
              "    <tr>\n",
              "      <th>25%</th>\n",
              "      <td>25.000000</td>\n",
              "    </tr>\n",
              "    <tr>\n",
              "      <th>50%</th>\n",
              "      <td>64.500000</td>\n",
              "    </tr>\n",
              "    <tr>\n",
              "      <th>75%</th>\n",
              "      <td>109.250000</td>\n",
              "    </tr>\n",
              "    <tr>\n",
              "      <th>max</th>\n",
              "      <td>261.000000</td>\n",
              "    </tr>\n",
              "  </tbody>\n",
              "</table>\n",
              "</div>\n",
              "      <button class=\"colab-df-convert\" onclick=\"convertToInteractive('df-7c8b373c-2d52-4207-a0e3-1d5309ab662b')\"\n",
              "              title=\"Convert this dataframe to an interactive table.\"\n",
              "              style=\"display:none;\">\n",
              "        \n",
              "  <svg xmlns=\"http://www.w3.org/2000/svg\" height=\"24px\"viewBox=\"0 0 24 24\"\n",
              "       width=\"24px\">\n",
              "    <path d=\"M0 0h24v24H0V0z\" fill=\"none\"/>\n",
              "    <path d=\"M18.56 5.44l.94 2.06.94-2.06 2.06-.94-2.06-.94-.94-2.06-.94 2.06-2.06.94zm-11 1L8.5 8.5l.94-2.06 2.06-.94-2.06-.94L8.5 2.5l-.94 2.06-2.06.94zm10 10l.94 2.06.94-2.06 2.06-.94-2.06-.94-.94-2.06-.94 2.06-2.06.94z\"/><path d=\"M17.41 7.96l-1.37-1.37c-.4-.4-.92-.59-1.43-.59-.52 0-1.04.2-1.43.59L10.3 9.45l-7.72 7.72c-.78.78-.78 2.05 0 2.83L4 21.41c.39.39.9.59 1.41.59.51 0 1.02-.2 1.41-.59l7.78-7.78 2.81-2.81c.8-.78.8-2.07 0-2.86zM5.41 20L4 18.59l7.72-7.72 1.47 1.35L5.41 20z\"/>\n",
              "  </svg>\n",
              "      </button>\n",
              "      \n",
              "  <style>\n",
              "    .colab-df-container {\n",
              "      display:flex;\n",
              "      flex-wrap:wrap;\n",
              "      gap: 12px;\n",
              "    }\n",
              "\n",
              "    .colab-df-convert {\n",
              "      background-color: #E8F0FE;\n",
              "      border: none;\n",
              "      border-radius: 50%;\n",
              "      cursor: pointer;\n",
              "      display: none;\n",
              "      fill: #1967D2;\n",
              "      height: 32px;\n",
              "      padding: 0 0 0 0;\n",
              "      width: 32px;\n",
              "    }\n",
              "\n",
              "    .colab-df-convert:hover {\n",
              "      background-color: #E2EBFA;\n",
              "      box-shadow: 0px 1px 2px rgba(60, 64, 67, 0.3), 0px 1px 3px 1px rgba(60, 64, 67, 0.15);\n",
              "      fill: #174EA6;\n",
              "    }\n",
              "\n",
              "    [theme=dark] .colab-df-convert {\n",
              "      background-color: #3B4455;\n",
              "      fill: #D2E3FC;\n",
              "    }\n",
              "\n",
              "    [theme=dark] .colab-df-convert:hover {\n",
              "      background-color: #434B5C;\n",
              "      box-shadow: 0px 1px 3px 1px rgba(0, 0, 0, 0.15);\n",
              "      filter: drop-shadow(0px 1px 2px rgba(0, 0, 0, 0.3));\n",
              "      fill: #FFFFFF;\n",
              "    }\n",
              "  </style>\n",
              "\n",
              "      <script>\n",
              "        const buttonEl =\n",
              "          document.querySelector('#df-7c8b373c-2d52-4207-a0e3-1d5309ab662b button.colab-df-convert');\n",
              "        buttonEl.style.display =\n",
              "          google.colab.kernel.accessAllowed ? 'block' : 'none';\n",
              "\n",
              "        async function convertToInteractive(key) {\n",
              "          const element = document.querySelector('#df-7c8b373c-2d52-4207-a0e3-1d5309ab662b');\n",
              "          const dataTable =\n",
              "            await google.colab.kernel.invokeFunction('convertToInteractive',\n",
              "                                                     [key], {});\n",
              "          if (!dataTable) return;\n",
              "\n",
              "          const docLinkHtml = 'Like what you see? Visit the ' +\n",
              "            '<a target=\"_blank\" href=https://colab.research.google.com/notebooks/data_table.ipynb>data table notebook</a>'\n",
              "            + ' to learn more about interactive tables.';\n",
              "          element.innerHTML = '';\n",
              "          dataTable['output_type'] = 'display_data';\n",
              "          await google.colab.output.renderOutput(dataTable, element);\n",
              "          const docLink = document.createElement('div');\n",
              "          docLink.innerHTML = docLinkHtml;\n",
              "          element.appendChild(docLink);\n",
              "        }\n",
              "      </script>\n",
              "    </div>\n",
              "  </div>\n",
              "  "
            ]
          },
          "metadata": {},
          "execution_count": 80
        }
      ]
    },
    {
      "cell_type": "code",
      "source": [
        "df1.hist()\n",
        "plt.title(\"Histogram of Youths Population\")\n"
      ],
      "metadata": {
        "colab": {
          "base_uri": "https://localhost:8080/",
          "height": 299
        },
        "id": "M-PhM3PH_zwW",
        "outputId": "3ee6cad3-e55c-4b6b-8610-bdb2f3e41a24"
      },
      "execution_count": null,
      "outputs": [
        {
          "output_type": "execute_result",
          "data": {
            "text/plain": [
              "Text(0.5, 1.0, 'Histogram of Youths Population')"
            ]
          },
          "metadata": {},
          "execution_count": 81
        },
        {
          "output_type": "display_data",
          "data": {
            "text/plain": [
              "<Figure size 432x288 with 1 Axes>"
            ],
            "image/png": "[encoded data removed]"
          },
          "metadata": {
            "needs_background": "light"
          }
        }
      ]
    },
    {
      "cell_type": "markdown",
      "source": [
        "It can be observed from the histogram of youths population that the distribution of data is packed to the left with a longer tail at the right. It is therefore a right-skewed distribution. Some outliers are seen at the tail end of the distribution."
      ],
      "metadata": {
        "id": "I5uxS79bwBD2"
      }
    },
    {
      "cell_type": "code",
      "source": [
        "#choosing a sample\n",
        "sample_y = np.random.choice(a=population_youths, size=30)"
      ],
      "metadata": {
        "id": "9BknjjxSBqgQ"
      },
      "execution_count": null,
      "outputs": []
    },
    {
      "cell_type": "code",
      "source": [
        "#creating a dataframe of sample\n",
        "sample_youths = pd.DataFrame(sample_y)"
      ],
      "metadata": {
        "id": "ImV6lYL0B-XW"
      },
      "execution_count": null,
      "outputs": []
    },
    {
      "cell_type": "code",
      "source": [
        "#summary statistics of sample\n",
        "sample_youths.describe()"
      ],
      "metadata": {
        "colab": {
          "base_uri": "https://localhost:8080/",
          "height": 300
        },
        "id": "5wF7xbkMCKVI",
        "outputId": "4d179890-06e7-455c-9707-827bea58dc55"
      },
      "execution_count": null,
      "outputs": [
        {
          "output_type": "execute_result",
          "data": {
            "text/plain": [
              "                0\n",
              "count   30.000000\n",
              "mean    86.100000\n",
              "std     57.919296\n",
              "min      2.000000\n",
              "25%     33.750000\n",
              "50%     90.000000\n",
              "75%    120.000000\n",
              "max    215.000000"
            ],
            "text/html": [
              "\n",
              "  <div id=\"df-3137e2c0-1ce7-4b00-81aa-9d9379b21acc\">\n",
              "    <div class=\"colab-df-container\">\n",
              "      <div>\n",
              "<style scoped>\n",
              "    .dataframe tbody tr th:only-of-type {\n",
              "        vertical-align: middle;\n",
              "    }\n",
              "\n",
              "    .dataframe tbody tr th {\n",
              "        vertical-align: top;\n",
              "    }\n",
              "\n",
              "    .dataframe thead th {\n",
              "        text-align: right;\n",
              "    }\n",
              "</style>\n",
              "<table border=\"1\" class=\"dataframe\">\n",
              "  <thead>\n",
              "    <tr style=\"text-align: right;\">\n",
              "      <th></th>\n",
              "      <th>0</th>\n",
              "    </tr>\n",
              "  </thead>\n",
              "  <tbody>\n",
              "    <tr>\n",
              "      <th>count</th>\n",
              "      <td>30.000000</td>\n",
              "    </tr>\n",
              "    <tr>\n",
              "      <th>mean</th>\n",
              "      <td>86.100000</td>\n",
              "    </tr>\n",
              "    <tr>\n",
              "      <th>std</th>\n",
              "      <td>57.919296</td>\n",
              "    </tr>\n",
              "    <tr>\n",
              "      <th>min</th>\n",
              "      <td>2.000000</td>\n",
              "    </tr>\n",
              "    <tr>\n",
              "      <th>25%</th>\n",
              "      <td>33.750000</td>\n",
              "    </tr>\n",
              "    <tr>\n",
              "      <th>50%</th>\n",
              "      <td>90.000000</td>\n",
              "    </tr>\n",
              "    <tr>\n",
              "      <th>75%</th>\n",
              "      <td>120.000000</td>\n",
              "    </tr>\n",
              "    <tr>\n",
              "      <th>max</th>\n",
              "      <td>215.000000</td>\n",
              "    </tr>\n",
              "  </tbody>\n",
              "</table>\n",
              "</div>\n",
              "      <button class=\"colab-df-convert\" onclick=\"convertToInteractive('df-3137e2c0-1ce7-4b00-81aa-9d9379b21acc')\"\n",
              "              title=\"Convert this dataframe to an interactive table.\"\n",
              "              style=\"display:none;\">\n",
              "        \n",
              "  <svg xmlns=\"http://www.w3.org/2000/svg\" height=\"24px\"viewBox=\"0 0 24 24\"\n",
              "       width=\"24px\">\n",
              "    <path d=\"M0 0h24v24H0V0z\" fill=\"none\"/>\n",
              "    <path d=\"M18.56 5.44l.94 2.06.94-2.06 2.06-.94-2.06-.94-.94-2.06-.94 2.06-2.06.94zm-11 1L8.5 8.5l.94-2.06 2.06-.94-2.06-.94L8.5 2.5l-.94 2.06-2.06.94zm10 10l.94 2.06.94-2.06 2.06-.94-2.06-.94-.94-2.06-.94 2.06-2.06.94z\"/><path d=\"M17.41 7.96l-1.37-1.37c-.4-.4-.92-.59-1.43-.59-.52 0-1.04.2-1.43.59L10.3 9.45l-7.72 7.72c-.78.78-.78 2.05 0 2.83L4 21.41c.39.39.9.59 1.41.59.51 0 1.02-.2 1.41-.59l7.78-7.78 2.81-2.81c.8-.78.8-2.07 0-2.86zM5.41 20L4 18.59l7.72-7.72 1.47 1.35L5.41 20z\"/>\n",
              "  </svg>\n",
              "      </button>\n",
              "      \n",
              "  <style>\n",
              "    .colab-df-container {\n",
              "      display:flex;\n",
              "      flex-wrap:wrap;\n",
              "      gap: 12px;\n",
              "    }\n",
              "\n",
              "    .colab-df-convert {\n",
              "      background-color: #E8F0FE;\n",
              "      border: none;\n",
              "      border-radius: 50%;\n",
              "      cursor: pointer;\n",
              "      display: none;\n",
              "      fill: #1967D2;\n",
              "      height: 32px;\n",
              "      padding: 0 0 0 0;\n",
              "      width: 32px;\n",
              "    }\n",
              "\n",
              "    .colab-df-convert:hover {\n",
              "      background-color: #E2EBFA;\n",
              "      box-shadow: 0px 1px 2px rgba(60, 64, 67, 0.3), 0px 1px 3px 1px rgba(60, 64, 67, 0.15);\n",
              "      fill: #174EA6;\n",
              "    }\n",
              "\n",
              "    [theme=dark] .colab-df-convert {\n",
              "      background-color: #3B4455;\n",
              "      fill: #D2E3FC;\n",
              "    }\n",
              "\n",
              "    [theme=dark] .colab-df-convert:hover {\n",
              "      background-color: #434B5C;\n",
              "      box-shadow: 0px 1px 3px 1px rgba(0, 0, 0, 0.15);\n",
              "      filter: drop-shadow(0px 1px 2px rgba(0, 0, 0, 0.3));\n",
              "      fill: #FFFFFF;\n",
              "    }\n",
              "  </style>\n",
              "\n",
              "      <script>\n",
              "        const buttonEl =\n",
              "          document.querySelector('#df-3137e2c0-1ce7-4b00-81aa-9d9379b21acc button.colab-df-convert');\n",
              "        buttonEl.style.display =\n",
              "          google.colab.kernel.accessAllowed ? 'block' : 'none';\n",
              "\n",
              "        async function convertToInteractive(key) {\n",
              "          const element = document.querySelector('#df-3137e2c0-1ce7-4b00-81aa-9d9379b21acc');\n",
              "          const dataTable =\n",
              "            await google.colab.kernel.invokeFunction('convertToInteractive',\n",
              "                                                     [key], {});\n",
              "          if (!dataTable) return;\n",
              "\n",
              "          const docLinkHtml = 'Like what you see? Visit the ' +\n",
              "            '<a target=\"_blank\" href=https://colab.research.google.com/notebooks/data_table.ipynb>data table notebook</a>'\n",
              "            + ' to learn more about interactive tables.';\n",
              "          element.innerHTML = '';\n",
              "          dataTable['output_type'] = 'display_data';\n",
              "          await google.colab.output.renderOutput(dataTable, element);\n",
              "          const docLink = document.createElement('div');\n",
              "          docLink.innerHTML = docLinkHtml;\n",
              "          element.appendChild(docLink);\n",
              "        }\n",
              "      </script>\n",
              "    </div>\n",
              "  </div>\n",
              "  "
            ]
          },
          "metadata": {},
          "execution_count": 84
        }
      ]
    },
    {
      "cell_type": "code",
      "source": [
        "sample_youths.hist(bins=5)\n",
        "plt.title(\"Histogram of Sample Youths Population\")"
      ],
      "metadata": {
        "colab": {
          "base_uri": "https://localhost:8080/",
          "height": 299
        },
        "id": "wDInHEXkCsr-",
        "outputId": "e804ef0d-4e0e-4d14-cf27-028070c4877f"
      },
      "execution_count": null,
      "outputs": [
        {
          "output_type": "execute_result",
          "data": {
            "text/plain": [
              "Text(0.5, 1.0, 'Histogram of Sample Youths Population')"
            ]
          },
          "metadata": {},
          "execution_count": 87
        },
        {
          "output_type": "display_data",
          "data": {
            "text/plain": [
              "<Figure size 432x288 with 1 Axes>"
            ],
            "image/png": "[encoded data removed]"
          },
          "metadata": {
            "needs_background": "light"
          }
        }
      ]
    },
    {
      "cell_type": "markdown",
      "source": [
        "In the sample populaton of youths histogram without the bins set, there are gaps between the intervals. Setting th bins to 5 for a sample size of 30 allows for a continuous distribution of data across the histogram.\n",
        "\n",
        "From the above histogram display, the distribution of the sample population of youths is right skewed."
      ],
      "metadata": {
        "id": "aYzYN47FFRx2"
      }
    },
    {
      "cell_type": "markdown",
      "source": [
        "*a 99% Confidence Interval for mu when sigma is unknown:*"
      ],
      "metadata": {
        "id": "febiPjEDEE90"
      }
    },
    {
      "cell_type": "code",
      "source": [
        "#sample size\n",
        "n1 = 30"
      ],
      "metadata": {
        "id": "Aoqlkm83EkkV"
      },
      "execution_count": null,
      "outputs": []
    },
    {
      "cell_type": "code",
      "source": [
        "#sample mean\n",
        "sample_mean = round(sample_youths.mean(), 3)"
      ],
      "metadata": {
        "id": "i2aBTlLaFK5m"
      },
      "execution_count": null,
      "outputs": []
    },
    {
      "cell_type": "code",
      "source": [
        "#computing student's t statistic\n",
        "t_critical = stats.t.ppf(q= 0.995, df=24)"
      ],
      "metadata": {
        "id": "eDajmg4bGA_G"
      },
      "execution_count": null,
      "outputs": []
    },
    {
      "cell_type": "code",
      "source": [
        "#computing standard deviation of sample for ddof=1\n",
        "sample_std = sample_youths.std(ddof=1)"
      ],
      "metadata": {
        "id": "Wb9m9BUNGc2_"
      },
      "execution_count": null,
      "outputs": []
    },
    {
      "cell_type": "code",
      "source": [
        "#computing standard error\n",
        "se = sample_std/math.sqrt(n1)"
      ],
      "metadata": {
        "id": "WiEOy6ImHw2T"
      },
      "execution_count": null,
      "outputs": []
    },
    {
      "cell_type": "code",
      "source": [
        "#computing margin of error\n",
        "me = t_critical * se"
      ],
      "metadata": {
        "id": "MPQ0tBlTIaxq"
      },
      "execution_count": null,
      "outputs": []
    },
    {
      "cell_type": "code",
      "source": [
        "# computing lower confidence limit\n",
        "LCL = (sample_mean - me)"
      ],
      "metadata": {
        "id": "E8xDz3zuI92r"
      },
      "execution_count": null,
      "outputs": []
    },
    {
      "cell_type": "code",
      "source": [
        "#computing upper confidence limit\n",
        "UCL = (sample_mean + me)"
      ],
      "metadata": {
        "id": "xyl7lXR8Jbyg"
      },
      "execution_count": null,
      "outputs": []
    },
    {
      "cell_type": "code",
      "source": [
        "#Confidence Interval\n",
        "CI = (LCL, UCL)"
      ],
      "metadata": {
        "id": "ToFbG0TlJtcV"
      },
      "execution_count": null,
      "outputs": []
    },
    {
      "cell_type": "code",
      "source": [
        "print(f\"a 99% CI for mu when sigma is unknown:\\n\")\n",
        "print(CI)"
      ],
      "metadata": {
        "colab": {
          "base_uri": "https://localhost:8080/"
        },
        "id": "8wrLK11UJ491",
        "outputId": "9bbd098f-951d-4c30-cbee-3105b806d1ff"
      },
      "execution_count": null,
      "outputs": [
        {
          "output_type": "stream",
          "name": "stdout",
          "text": [
            "a 99% CI for mu when sigma is unknown:\n",
            "\n",
            "(0    56.523572\n",
            "dtype: float64, 0    115.676428\n",
            "dtype: float64)\n"
          ]
        }
      ]
    },
    {
      "cell_type": "markdown",
      "source": [
        "**Conclusion**\n",
        "\n",
        "We have a 99% confidence interval that our mu of feature two *youths* when sigma is unknown falls in the range(55.218, 123.582)."
      ],
      "metadata": {
        "id": "yIBOLKy1KjI3"
      }
    },
    {
      "cell_type": "markdown",
      "source": [
        "# Simple Linear Regression"
      ],
      "metadata": {
        "id": "htEqw43HLpWQ"
      }
    },
    {
      "cell_type": "code",
      "source": [
        "from statsmodels.formula.api import ols\n",
        "import statsmodels.api as sm"
      ],
      "metadata": {
        "id": "ySJ0VUSBMBKz"
      },
      "execution_count": null,
      "outputs": []
    },
    {
      "cell_type": "code",
      "source": [
        "#input variable or independent variable or predictor\n",
        "X = df['Youth 18-49years F']"
      ],
      "metadata": {
        "id": "qY1qVYKmNJBp"
      },
      "execution_count": null,
      "outputs": []
    },
    {
      "cell_type": "code",
      "source": [
        "X"
      ],
      "metadata": {
        "colab": {
          "base_uri": "https://localhost:8080/"
        },
        "id": "yTKpF4byNZpd",
        "outputId": "bbe36d59-7dc0-462d-8927-c6ddd49845d8"
      },
      "execution_count": null,
      "outputs": [
        {
          "output_type": "execute_result",
          "data": {
            "text/plain": [
              "Date\n",
              "23-Aug-21     46\n",
              "24-Aug-21     88\n",
              "25-Aug-21    118\n",
              "26-Aug-21    105\n",
              "27-Aug-21    141\n",
              "            ... \n",
              "27-Oct-21      5\n",
              "28-Oct-21    140\n",
              "29-Oct-21     17\n",
              "30-Oct-21     28\n",
              "31-Oct-21     15\n",
              "Name: Youth 18-49years F, Length: 70, dtype: int64"
            ]
          },
          "metadata": {},
          "execution_count": 102
        }
      ]
    },
    {
      "cell_type": "code",
      "source": [
        "#output variable or dependent variable or response variable\n",
        "Y = df['Vaccine Dials Used']"
      ],
      "metadata": {
        "id": "TKuGLaiKNkRu"
      },
      "execution_count": null,
      "outputs": []
    },
    {
      "cell_type": "code",
      "source": [
        "Y"
      ],
      "metadata": {
        "colab": {
          "base_uri": "https://localhost:8080/"
        },
        "id": "qiNhqRfoYU4o",
        "outputId": "3c4fe7a7-c256-4783-9bd3-65625c251b46"
      },
      "execution_count": null,
      "outputs": [
        {
          "output_type": "execute_result",
          "data": {
            "text/plain": [
              "Date\n",
              "23-Aug-21    12\n",
              "24-Aug-21    25\n",
              "25-Aug-21    26\n",
              "26-Aug-21    34\n",
              "27-Aug-21    36\n",
              "             ..\n",
              "27-Oct-21     3\n",
              "28-Oct-21    36\n",
              "29-Oct-21     5\n",
              "30-Oct-21     6\n",
              "31-Oct-21     3\n",
              "Name: Vaccine Dials Used, Length: 70, dtype: int64"
            ]
          },
          "metadata": {},
          "execution_count": 104
        }
      ]
    },
    {
      "cell_type": "code",
      "source": [
        "#summary statistics of dependable variable Y\n",
        "Y.describe()"
      ],
      "metadata": {
        "colab": {
          "base_uri": "https://localhost:8080/"
        },
        "id": "hXMUCDX5N-8W",
        "outputId": "334e84b9-e4d9-47f8-f86c-58120ad0da9c"
      },
      "execution_count": null,
      "outputs": [
        {
          "output_type": "execute_result",
          "data": {
            "text/plain": [
              "count    70.000000\n",
              "mean     19.771429\n",
              "std      13.570184\n",
              "min       1.000000\n",
              "25%       8.250000\n",
              "50%      19.500000\n",
              "75%      29.500000\n",
              "max      58.000000\n",
              "Name: Vaccine Dials Used, dtype: float64"
            ]
          },
          "metadata": {},
          "execution_count": 105
        }
      ]
    },
    {
      "cell_type": "code",
      "source": [
        "#adding constant\n",
        "X = sm.add_constant(X)"
      ],
      "metadata": {
        "colab": {
          "base_uri": "https://localhost:8080/"
        },
        "id": "On3QaGlaOD0C",
        "outputId": "f82e0b31-8873-4ec1-d2e6-c5aaf6d2b38f"
      },
      "execution_count": null,
      "outputs": [
        {
          "output_type": "stream",
          "name": "stderr",
          "text": [
            "/usr/local/lib/python3.8/dist-packages/statsmodels/tsa/tsatools.py:142: FutureWarning: In a future version of pandas all arguments of concat except for the argument 'objs' will be keyword-only\n",
            "  x = pd.concat(x[::order], 1)\n"
          ]
        }
      ]
    },
    {
      "cell_type": "code",
      "source": [
        "#fitting the model\n",
        "model = sm.OLS(Y, X).fit()"
      ],
      "metadata": {
        "id": "jgPjIdIHOVAx"
      },
      "execution_count": null,
      "outputs": []
    },
    {
      "cell_type": "code",
      "source": [
        "#model prediction\n",
        "predictions = model.predict(X)\n",
        "predictions"
      ],
      "metadata": {
        "colab": {
          "base_uri": "https://localhost:8080/"
        },
        "id": "jwvJucm5O_CF",
        "outputId": "cd96422e-fdb1-4cf7-9f8d-44da50df84d0"
      },
      "execution_count": null,
      "outputs": [
        {
          "output_type": "execute_result",
          "data": {
            "text/plain": [
              "Date\n",
              "23-Aug-21    14.157474\n",
              "24-Aug-21    23.815184\n",
              "25-Aug-21    30.713548\n",
              "26-Aug-21    27.724257\n",
              "27-Aug-21    36.002294\n",
              "               ...    \n",
              "27-Oct-21     4.729710\n",
              "28-Oct-21    35.772349\n",
              "29-Oct-21     7.489055\n",
              "30-Oct-21    10.018456\n",
              "31-Oct-21     7.029164\n",
              "Length: 70, dtype: float64"
            ]
          },
          "metadata": {},
          "execution_count": 108
        }
      ]
    },
    {
      "cell_type": "code",
      "source": [
        "#summary statistics of predictions\n",
        "predictions.describe()"
      ],
      "metadata": {
        "colab": {
          "base_uri": "https://localhost:8080/"
        },
        "id": "_iNW8BbZYyMs",
        "outputId": "258f8f0c-d41d-4662-e9c5-a8eff3b343d1"
      },
      "execution_count": null,
      "outputs": [
        {
          "output_type": "execute_result",
          "data": {
            "text/plain": [
              "count    70.000000\n",
              "mean     19.771429\n",
              "std      12.920107\n",
              "min       3.579982\n",
              "25%       9.443592\n",
              "50%      18.066547\n",
              "75%      28.299121\n",
              "max      63.595751\n",
              "dtype: float64"
            ]
          },
          "metadata": {},
          "execution_count": 109
        }
      ]
    },
    {
      "cell_type": "code",
      "source": [
        "#coefficient of determination or model accuracy or goodness of fit\n",
        "r_square = model.rsquared\n",
        "r_square"
      ],
      "metadata": {
        "colab": {
          "base_uri": "https://localhost:8080/"
        },
        "id": "shg0BI7tQH1r",
        "outputId": "1156c8ba-1276-414f-ee70-25b4be202590"
      },
      "execution_count": null,
      "outputs": [
        {
          "output_type": "execute_result",
          "data": {
            "text/plain": [
              "0.9064853180617556"
            ]
          },
          "metadata": {},
          "execution_count": 110
        }
      ]
    },
    {
      "cell_type": "code",
      "source": [
        "#corrrected model accuracy\n",
        "r_square_adj = model.rsquared_adj\n",
        "r_square_adj"
      ],
      "metadata": {
        "colab": {
          "base_uri": "https://localhost:8080/"
        },
        "id": "nEx6qJCMQ3mD",
        "outputId": "13645137-b1ab-417d-fa4c-5072acc1fb5a"
      },
      "execution_count": null,
      "outputs": [
        {
          "output_type": "execute_result",
          "data": {
            "text/plain": [
              "0.905110102150899"
            ]
          },
          "metadata": {},
          "execution_count": 111
        }
      ]
    },
    {
      "cell_type": "code",
      "source": [
        "#determing the parameters\n",
        "model.params"
      ],
      "metadata": {
        "colab": {
          "base_uri": "https://localhost:8080/"
        },
        "id": "DYrQG-UJTd9f",
        "outputId": "b3c2e27b-597a-4fd9-a99a-b6298b31e3eb"
      },
      "execution_count": null,
      "outputs": [
        {
          "output_type": "execute_result",
          "data": {
            "text/plain": [
              "const                 3.579982\n",
              "Youth 18-49years F    0.229945\n",
              "dtype: float64"
            ]
          },
          "metadata": {},
          "execution_count": 112
        }
      ]
    },
    {
      "cell_type": "code",
      "source": [
        "#residual sum of squares\n",
        "rss = model.ssr\n",
        "rss"
      ],
      "metadata": {
        "colab": {
          "base_uri": "https://localhost:8080/"
        },
        "id": "h3SqXxeiUwL-",
        "outputId": "ed710edf-e448-4f98-9276-e53758b39f51"
      },
      "execution_count": null,
      "outputs": [
        {
          "output_type": "execute_result",
          "data": {
            "text/plain": [
              "1188.2296108839973"
            ]
          },
          "metadata": {},
          "execution_count": 114
        }
      ]
    },
    {
      "cell_type": "code",
      "source": [
        "#number of observations\n",
        "no = 70\n",
        "\n",
        "#degree of freedom, ddof=2\n",
        "dof = no - 2"
      ],
      "metadata": {
        "id": "cwtov4l5VDgJ"
      },
      "execution_count": null,
      "outputs": []
    },
    {
      "cell_type": "code",
      "source": [
        "dof"
      ],
      "metadata": {
        "colab": {
          "base_uri": "https://localhost:8080/"
        },
        "id": "SFJQ3reeVlU4",
        "outputId": "c7bbd1ad-b35b-430b-98da-071c397af961"
      },
      "execution_count": null,
      "outputs": [
        {
          "output_type": "execute_result",
          "data": {
            "text/plain": [
              "68"
            ]
          },
          "metadata": {},
          "execution_count": 116
        }
      ]
    },
    {
      "cell_type": "code",
      "source": [
        "#residual standard error\n",
        "rse =math.sqrt(rss/dof)\n",
        "rse"
      ],
      "metadata": {
        "colab": {
          "base_uri": "https://localhost:8080/"
        },
        "id": "FYicL_E6VpBL",
        "outputId": "5ccb092f-1946-4b0b-c3ea-c1c97aa202dc"
      },
      "execution_count": null,
      "outputs": [
        {
          "output_type": "execute_result",
          "data": {
            "text/plain": [
              "4.180187180730205"
            ]
          },
          "metadata": {},
          "execution_count": 117
        }
      ]
    },
    {
      "cell_type": "code",
      "source": [
        "#residual\n",
        "mu, std = stats.norm.fit(model.resid)\n",
        "mu, std"
      ],
      "metadata": {
        "colab": {
          "base_uri": "https://localhost:8080/"
        },
        "id": "KrPpn7dDWgZe",
        "outputId": "754bf074-8d2b-470f-8a68-44427885ef08"
      },
      "execution_count": null,
      "outputs": [
        {
          "output_type": "execute_result",
          "data": {
            "text/plain": [
              "(5.329070518200751e-15, 4.120037466688167)"
            ]
          },
          "metadata": {},
          "execution_count": 118
        }
      ]
    },
    {
      "cell_type": "code",
      "source": [
        "#model summary\n",
        "model.summary()"
      ],
      "metadata": {
        "colab": {
          "base_uri": "https://localhost:8080/",
          "height": 434
        },
        "id": "29AhDmGuPbBg",
        "outputId": "7bc001bb-26c6-41ba-bfef-5375e888a423"
      },
      "execution_count": null,
      "outputs": [
        {
          "output_type": "execute_result",
          "data": {
            "text/plain": [
              "<class 'statsmodels.iolib.summary.Summary'>\n",
              "\"\"\"\n",
              "                            OLS Regression Results                            \n",
              "==============================================================================\n",
              "Dep. Variable:     Vaccine Dials Used   R-squared:                       0.906\n",
              "Model:                            OLS   Adj. R-squared:                  0.905\n",
              "Method:                 Least Squares   F-statistic:                     659.2\n",
              "Date:                Sat, 03 Dec 2022   Prob (F-statistic):           1.03e-36\n",
              "Time:                        21:03:29   Log-Likelihood:                -198.44\n",
              "No. Observations:                  70   AIC:                             400.9\n",
              "Df Residuals:                      68   BIC:                             405.4\n",
              "Df Model:                           1                                         \n",
              "Covariance Type:            nonrobust                                         \n",
              "======================================================================================\n",
              "                         coef    std err          t      P>|t|      [0.025      0.975]\n",
              "--------------------------------------------------------------------------------------\n",
              "const                  3.5800      0.805      4.449      0.000       1.974       5.186\n",
              "Youth 18-49years F     0.2299      0.009     25.674      0.000       0.212       0.248\n",
              "==============================================================================\n",
              "Omnibus:                        4.684   Durbin-Watson:                   1.523\n",
              "Prob(Omnibus):                  0.096   Jarque-Bera (JB):                4.672\n",
              "Skew:                           0.606   Prob(JB):                       0.0967\n",
              "Kurtosis:                       2.633   Cond. No.                         145.\n",
              "==============================================================================\n",
              "\n",
              "Notes:\n",
              "[1] Standard Errors assume that the covariance matrix of the errors is correctly specified.\n",
              "\"\"\""
            ],
            "text/html": [
              "<table class=\"simpletable\">\n",
              "<caption>OLS Regression Results</caption>\n",
              "<tr>\n",
              "  <th>Dep. Variable:</th>    <td>Vaccine Dials Used</td> <th>  R-squared:         </th> <td>   0.906</td>\n",
              "</tr>\n",
              "<tr>\n",
              "  <th>Model:</th>                    <td>OLS</td>        <th>  Adj. R-squared:    </th> <td>   0.905</td>\n",
              "</tr>\n",
              "<tr>\n",
              "  <th>Method:</th>              <td>Least Squares</td>   <th>  F-statistic:       </th> <td>   659.2</td>\n",
              "</tr>\n",
              "<tr>\n",
              "  <th>Date:</th>              <td>Sat, 03 Dec 2022</td>  <th>  Prob (F-statistic):</th> <td>1.03e-36</td>\n",
              "</tr>\n",
              "<tr>\n",
              "  <th>Time:</th>                  <td>21:03:29</td>      <th>  Log-Likelihood:    </th> <td> -198.44</td>\n",
              "</tr>\n",
              "<tr>\n",
              "  <th>No. Observations:</th>       <td>    70</td>       <th>  AIC:               </th> <td>   400.9</td>\n",
              "</tr>\n",
              "<tr>\n",
              "  <th>Df Residuals:</th>           <td>    68</td>       <th>  BIC:               </th> <td>   405.4</td>\n",
              "</tr>\n",
              "<tr>\n",
              "  <th>Df Model:</th>               <td>     1</td>       <th>                     </th>     <td> </td>   \n",
              "</tr>\n",
              "<tr>\n",
              "  <th>Covariance Type:</th>       <td>nonrobust</td>     <th>                     </th>     <td> </td>   \n",
              "</tr>\n",
              "</table>\n",
              "<table class=\"simpletable\">\n",
              "<tr>\n",
              "           <td></td>             <th>coef</th>     <th>std err</th>      <th>t</th>      <th>P>|t|</th>  <th>[0.025</th>    <th>0.975]</th>  \n",
              "</tr>\n",
              "<tr>\n",
              "  <th>const</th>              <td>    3.5800</td> <td>    0.805</td> <td>    4.449</td> <td> 0.000</td> <td>    1.974</td> <td>    5.186</td>\n",
              "</tr>\n",
              "<tr>\n",
              "  <th>Youth 18-49years F</th> <td>    0.2299</td> <td>    0.009</td> <td>   25.674</td> <td> 0.000</td> <td>    0.212</td> <td>    0.248</td>\n",
              "</tr>\n",
              "</table>\n",
              "<table class=\"simpletable\">\n",
              "<tr>\n",
              "  <th>Omnibus:</th>       <td> 4.684</td> <th>  Durbin-Watson:     </th> <td>   1.523</td>\n",
              "</tr>\n",
              "<tr>\n",
              "  <th>Prob(Omnibus):</th> <td> 0.096</td> <th>  Jarque-Bera (JB):  </th> <td>   4.672</td>\n",
              "</tr>\n",
              "<tr>\n",
              "  <th>Skew:</th>          <td> 0.606</td> <th>  Prob(JB):          </th> <td>  0.0967</td>\n",
              "</tr>\n",
              "<tr>\n",
              "  <th>Kurtosis:</th>      <td> 2.633</td> <th>  Cond. No.          </th> <td>    145.</td>\n",
              "</tr>\n",
              "</table><br/><br/>Notes:<br/>[1] Standard Errors assume that the covariance matrix of the errors is correctly specified."
            ]
          },
          "metadata": {},
          "execution_count": 119
        }
      ]
    },
    {
      "cell_type": "markdown",
      "source": [
        "The \"Ordinary Least Square\" **OLX** method was used to minimize the sum of squared residuals.\n",
        "\n",
        "Here, the dependent variable or response variable is **Vaccine Dials Used**.\n",
        "\n",
        "The independent variable or predictor is **Youth 18-49years F**.\n",
        "\n",
        "Df Residuals is the degree of freedom = No. Observations - 2.\n",
        "\n",
        "RF 0.906, this is about 90.6% proportion of the variance in our dependent variable that is predictable from our independent variable.\n",
        "\n",
        "Rsquared adjustment of 0.905 is the corrected model accuracy that corrects any over estimation in Rsquared.\n",
        "\n",
        "The Residuals give the difference between the actual values and the predicted values.\n",
        "\n",
        "The Residual Sum of Squares *RSS* is 1188.23.\n",
        "\n",
        "The Residual Standard Error *RSE* is 4.18."
      ],
      "metadata": {
        "id": "ifA4blkFP1p9"
      }
    },
    {
      "cell_type": "markdown",
      "source": [
        "*Some Visualizations:*\n"
      ],
      "metadata": {
        "id": "sZqAicpBgDy5"
      }
    },
    {
      "cell_type": "code",
      "source": [
        "#overlay of normal curve on histogram\n",
        "fig, ax = plt.subplots()\n",
        "sns.histplot(model.resid, ax=ax, stat=\"density\", linewidth=0, kde=True)\n",
        "ax.set(title=\"Distribution of Residuals\", xlabel=\"mu, std\")\n",
        "\n",
        "#normal curve plot\n",
        "xmin, xmax = plt.xlim()\n",
        "#generate x values\n",
        "x = np.linspace(xmin, xmax, 100)\n",
        "y = stats.norm.pdf(x, mu, std)\n",
        "sns.lineplot(x=x, y=y, color=\"yellow\", ax=ax)\n",
        "plt.show()\n",
        "\n"
      ],
      "metadata": {
        "colab": {
          "base_uri": "https://localhost:8080/",
          "height": 295
        },
        "id": "cIKtR7xWWlCZ",
        "outputId": "573c71e8-7708-44a0-9c15-ab2c516837cb"
      },
      "execution_count": null,
      "outputs": [
        {
          "output_type": "display_data",
          "data": {
            "text/plain": [
              "<Figure size 432x288 with 1 Axes>"
            ],
            "image/png": "[encoded data removed]"
          },
          "metadata": {
            "needs_background": "light"
          }
        }
      ]
    },
    {
      "cell_type": "markdown",
      "source": [
        "From the histogram and normal curve overlay, it can be inferred that the distribution of residuals do not follow a normal distribution. There's a large deviation from the bell curve and tail of the curve is longer on the right indicatig right-skew."
      ],
      "metadata": {
        "id": "Ge36W8sXwNun"
      }
    },
    {
      "cell_type": "code",
      "source": [
        "#boxplot of residuals\n",
        "sns.boxplot(x=model.resid, showmeans=True)"
      ],
      "metadata": {
        "colab": {
          "base_uri": "https://localhost:8080/",
          "height": 283
        },
        "id": "tlmD8NEwkQn0",
        "outputId": "860de2c6-8d55-40cd-a273-625f4682c937"
      },
      "execution_count": null,
      "outputs": [
        {
          "output_type": "execute_result",
          "data": {
            "text/plain": [
              "<matplotlib.axes._subplots.AxesSubplot at 0x7f0a54d18790>"
            ]
          },
          "metadata": {},
          "execution_count": 121
        },
        {
          "output_type": "display_data",
          "data": {
            "text/plain": [
              "<Figure size 432x288 with 1 Axes>"
            ],
            "image/png": "[encoded data removed]"
          },
          "metadata": {
            "needs_background": "light"
          }
        }
      ]
    },
    {
      "cell_type": "markdown",
      "source": [
        "From the box plot of residuals above we can deduce that the distribution of our data is asymmetric. Also it is right-skewed, mean greater than median, and some outliers observed."
      ],
      "metadata": {
        "id": "k-RgUGb9tsgY"
      }
    },
    {
      "cell_type": "code",
      "source": [
        "#Q-Q plot of residuals\n",
        "sm.qqplot(model.resid, line=\"s\")"
      ],
      "metadata": {
        "colab": {
          "base_uri": "https://localhost:8080/",
          "height": 541
        },
        "id": "auDCwzx7lOve",
        "outputId": "39eaeb34-c829-4486-97f1-c5b3d658f52b"
      },
      "execution_count": null,
      "outputs": [
        {
          "output_type": "execute_result",
          "data": {
            "text/plain": [
              "<Figure size 432x288 with 1 Axes>"
            ],
            "image/png": "[encoded data removed]"
          },
          "metadata": {},
          "execution_count": 122
        },
        {
          "output_type": "display_data",
          "data": {
            "text/plain": [
              "<Figure size 432x288 with 1 Axes>"
            ],
            "image/png": "[encoded data removed]"
          },
          "metadata": {
            "needs_background": "light"
          }
        }
      ]
    },
    {
      "cell_type": "markdown",
      "source": [
        "From the distribution of the residuals on the QQ plot above, it follows that our data are not normally distributed."
      ],
      "metadata": {
        "id": "F0oMe8LSs7mA"
      }
    },
    {
      "cell_type": "code",
      "source": [
        "#fit plot\n",
        "sm.graphics.plot_fit(model, 1, vlines=False);"
      ],
      "metadata": {
        "colab": {
          "base_uri": "https://localhost:8080/",
          "height": 295
        },
        "id": "zj1Q6ZtGlylA",
        "outputId": "a82c56b2-803d-41e8-e953-27e00d6bb799"
      },
      "execution_count": null,
      "outputs": [
        {
          "output_type": "display_data",
          "data": {
            "text/plain": [
              "<Figure size 432x288 with 1 Axes>"
            ],
            "image/png": "[encoded data removed]"
          },
          "metadata": {
            "needs_background": "light"
          }
        }
      ]
    },
    {
      "cell_type": "markdown",
      "source": [
        "From the fit plot or line of best fit display above, we can see that the predicted values of \"Vaccine Dials Used\" are closely packed around the fitted values, this means a good fit and the predictor is good. This confirms our Rsquared value of 90.5% which indicates a high accuracy."
      ],
      "metadata": {
        "id": "JkHczdZ4mqrz"
      }
    },
    {
      "cell_type": "markdown",
      "source": [
        "# Thank you!"
      ],
      "metadata": {
        "id": "_mXV7EBsmrQk"
      }
    }
  ]
}